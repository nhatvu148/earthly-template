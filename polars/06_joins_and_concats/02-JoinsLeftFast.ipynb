{
 "cells": [
  {
   "cell_type": "markdown",
   "id": "912a60fe-71eb-4891-a6b8-2fa7bff99dc7",
   "metadata": {},
   "source": [
    "# Left, inner, outer, cross and fast-track joins\n",
    "By the end of this lecture you will be able to:\n",
    "- do left, inner, outer and cross joins between `DataFrames`\n",
    "- validate joins\n",
    "- do fast-track joins on sorted integer columns"
   ]
  },
  {
   "cell_type": "code",
   "execution_count": null,
   "id": "66e378f7-70f6-464b-b582-f6f840e530e3",
   "metadata": {
    "tags": []
   },
   "outputs": [],
   "source": [
    "import polars as pl"
   ]
  },
  {
   "cell_type": "code",
   "execution_count": null,
   "id": "2050ee97-7dee-40f4-ac87-24ce295acf6b",
   "metadata": {},
   "outputs": [],
   "source": [
    "df_left = pl.DataFrame({\"id\": [\"A\", \"B\", \"C\", None], \"val\": [0, 1, 2, 3]})\n",
    "df_left"
   ]
  },
  {
   "cell_type": "code",
   "execution_count": null,
   "id": "fdbefca8-6371-4f6d-8f22-1a679a22a3c5",
   "metadata": {},
   "outputs": [],
   "source": [
    "df_right = pl.DataFrame({\"id\": [\"A\", \"C\", None, \"D\"], \"val\": [10, 11, 12, 13]})\n",
    "df_right"
   ]
  },
  {
   "cell_type": "markdown",
   "id": "1c4f94ce-f359-472c-950b-7b27eb5c4a48",
   "metadata": {},
   "source": [
    "## Left join\n",
    "In a left join we return all the rows from the left `DataFrame` and the matched rows from the right `DataFrame`. The matching happens on the basis of the join column(s). If the join column name is the same in the left and right `DataFrames` we can pass it to the `on` argument"
   ]
  },
  {
   "cell_type": "code",
   "execution_count": null,
   "id": "0135a570-621a-4e6c-b1c6-bbccb92dd953",
   "metadata": {},
   "outputs": [],
   "source": [
    "(\n",
    "    df_left\n",
    "    .join(\n",
    "        df_right, \n",
    "        on=\"id\", \n",
    "        how=\"left\",\n",
    "        coalesce=False\n",
    "    )\n",
    ")"
   ]
  },
  {
   "cell_type": "markdown",
   "id": "668d2232-e4af-4e01-80ee-a539cf07b995",
   "metadata": {},
   "source": [
    "Note that:\n",
    "- The order of `df_left` is maintained in this left join\n",
    "- The `null` `value` in the last row if `df_left` is not joined to the `null` value in `df_right`\n",
    "- If the join column name(s) are not the same in both `DataFrames` then we specify `left_on` and `right_on` instead of `on`\n",
    "- as we pass `coalesce=False` (which is the default) we get `id` and `id_right` join columns in the output\n",
    "\n",
    "If we instead pass `coalesce=True` Polars coalesces the join columns `id` and `id_right` into a single `id` column (this was the default behaviour previously, personally this is what I normally want)"
   ]
  },
  {
   "cell_type": "code",
   "execution_count": null,
   "id": "1aebb947-d1c0-46ea-8cd5-465069474254",
   "metadata": {},
   "outputs": [],
   "source": [
    "(\n",
    "    df_left\n",
    "    .join(\n",
    "        df_right, \n",
    "        on=\"id\", \n",
    "        how=\"left\",\n",
    "        coalesce=True\n",
    "    )\n",
    ")"
   ]
  },
  {
   "cell_type": "markdown",
   "id": "986cc4d2-717d-454b-b65c-5243b36f83a6",
   "metadata": {},
   "source": [
    "If we set `join_nulls=True` then Polars does join on `null` values"
   ]
  },
  {
   "cell_type": "code",
   "execution_count": null,
   "id": "d5c4eee8-db2b-443f-a6a7-90890875ae72",
   "metadata": {},
   "outputs": [],
   "source": [
    "(\n",
    "    df_left\n",
    "    .join(\n",
    "        df_right, \n",
    "        on=\"id\", \n",
    "        how=\"left\", \n",
    "        coalesce=False,\n",
    "        join_nulls=True\n",
    "    )\n",
    ")"
   ]
  },
  {
   "cell_type": "markdown",
   "id": "8cc74d37-f8bc-4a57-9bd7-8fa8fb14d13a",
   "metadata": {},
   "source": [
    "When there are duplicate columns in both `DataFrames` Polars adds the suffix `_right` to the duplicate columns on the right by default. We can set an alternative suffix with the `suffix` argument"
   ]
  },
  {
   "cell_type": "code",
   "execution_count": null,
   "id": "7ed1010f-cfda-4272-8c14-78c2387ebfc7",
   "metadata": {},
   "outputs": [],
   "source": [
    "(\n",
    "    df_left\n",
    "    .join(\n",
    "        df_right, \n",
    "        on=\"id\", \n",
    "        how=\"left\", \n",
    "        coalesce=False,\n",
    "        suffix=\"_r\"\n",
    "    )\n",
    ")"
   ]
  },
  {
   "cell_type": "markdown",
   "id": "1099e067-cd54-46d0-9c1a-bcbc0b748e93",
   "metadata": {},
   "source": [
    "## Inner joins\n",
    "In an inner join we only retain the rows in both `DataFrames` where there is a matching join key"
   ]
  },
  {
   "cell_type": "code",
   "execution_count": null,
   "id": "0aca33eb-1256-486c-9bf3-c7e3a45ba551",
   "metadata": {},
   "outputs": [],
   "source": [
    "(\n",
    "    df_left.join(\n",
    "        df_right,\n",
    "        on=\"id\",\n",
    "    )\n",
    ")"
   ]
  },
  {
   "cell_type": "markdown",
   "id": "8812a493-0d94-4c2f-8094-0ff6e657d271",
   "metadata": {},
   "source": [
    "As for left joins the output excludes `null` values unless we set `join_nulls=True`"
   ]
  },
  {
   "cell_type": "code",
   "execution_count": null,
   "id": "49d390d9-3c1d-46cb-b7a2-9160c004c589",
   "metadata": {},
   "outputs": [],
   "source": [
    "(\n",
    "    df_left\n",
    "    .join(\n",
    "        df_right, \n",
    "        on=\"id\", \n",
    "        join_nulls=True)\n",
    ")"
   ]
  },
  {
   "cell_type": "markdown",
   "id": "ec9de864-2d74-4c12-95e0-d485de5a43ff",
   "metadata": {},
   "source": [
    "## Cross join\n",
    "With a cross join we get the Cartesian product of both tables - so we end up with each row of the left `DataFrame` matched with each row of the right `DataFrame` and there is no join key."
   ]
  },
  {
   "cell_type": "code",
   "execution_count": null,
   "id": "ace692fa-0ca5-4ccc-80f8-409205aa5272",
   "metadata": {},
   "outputs": [],
   "source": [
    "(\n",
    "    df_left\n",
    "    .join(\n",
    "        df_right, \n",
    "        how=\"cross\")\n",
    ")"
   ]
  },
  {
   "cell_type": "markdown",
   "id": "22c6e46d-6402-40e6-8c1d-ecdcff1e0a2f",
   "metadata": {},
   "source": [
    "## Full outer join\n",
    "In a full outer join we returns all rows when there is a match in either left or right `DataFrame`"
   ]
  },
  {
   "cell_type": "code",
   "execution_count": null,
   "id": "f575e125-c7b0-4db0-b2bf-3e0db74e9990",
   "metadata": {},
   "outputs": [],
   "source": [
    "(\n",
    "    df_left\n",
    "    .join(\n",
    "        df_right, \n",
    "        on=\"id\", \n",
    "        how=\"full\")\n",
    ")"
   ]
  },
  {
   "cell_type": "markdown",
   "id": "a32f521f-84b9-4617-b33c-7169fcf59966",
   "metadata": {},
   "source": [
    "In the output we see that:\n",
    "- we get an `id_right` column as we have the same name for the join column in both `DataFrames`\n",
    "- the first two rows have the matching keys\n",
    "- we then get the two rows where there is no match in the left `DataFrame` for `null` and `D`\n",
    "- we then get the two rows where there is no match in the right `DataFrame` for `null` and `B`\n",
    "\n",
    "We can of course choose to match on the `null` values with `join_nulls=True`"
   ]
  },
  {
   "cell_type": "code",
   "execution_count": null,
   "id": "fb1d486b-20d9-4aea-914d-58b76e39fd26",
   "metadata": {},
   "outputs": [],
   "source": [
    "(\n",
    "    df_left\n",
    "    .join(\n",
    "        df_right, \n",
    "        on=\"id\", \n",
    "        how=\"full\", \n",
    "        join_nulls=True\n",
    "    )\n",
    ")"
   ]
  },
  {
   "cell_type": "markdown",
   "id": "e376b524-8467-480d-8aa4-de5077ea9c1e",
   "metadata": {},
   "source": [
    "## Full outer join with coalesced join keys\n",
    "An outer-coalesce join is like: \n",
    "- an `full outer` join followed by\n",
    "- a `coalesce` of the `id` and `id_right` columns into a single `id` column with the first non-`null` value\n",
    "\n",
    "To do this we pass `coalesce=True`"
   ]
  },
  {
   "cell_type": "code",
   "execution_count": null,
   "id": "70b7c20c-617d-43fd-b0a4-4ff2c8eac067",
   "metadata": {},
   "outputs": [],
   "source": [
    "(\n",
    "    df_left.join(\n",
    "        df_right,\n",
    "        on=\"id\",\n",
    "        how=\"full\",\n",
    "        coalesce=True\n",
    "    )\n",
    ")"
   ]
  },
  {
   "cell_type": "markdown",
   "id": "56bd84d7-b3b6-4ed1-87e4-98e10df2ea09",
   "metadata": {},
   "source": [
    "We cover filtering joins (`semi` and `anti`) in a following lecture in this Section."
   ]
  },
  {
   "cell_type": "markdown",
   "id": "0e2b914e-e121-4025-a160-9e82b68dc977",
   "metadata": {},
   "source": [
    "## Validating joins\n",
    "It is easy to unintentionally lose data when joining large `DataFrames`. Polars allows you to validate your joins to ensure this isn't happening. If validation fails then Polars raises an `Exception` instead of outputting a `DataFrame`\n",
    "\n",
    "To illustrate validation we create two new `DataFrames`"
   ]
  },
  {
   "cell_type": "code",
   "execution_count": null,
   "id": "87d1f814-002c-4308-b352-b10ef2a1d046",
   "metadata": {},
   "outputs": [],
   "source": [
    "df_left_valid = pl.DataFrame({\"id\": [\"A\", \"B\", \"C\", None], \"val\": [0, 1, 2, 3]})\n",
    "df_left_valid"
   ]
  },
  {
   "cell_type": "code",
   "execution_count": null,
   "id": "2d4bc233-a479-4cc0-8f27-93d133367cbb",
   "metadata": {},
   "outputs": [],
   "source": [
    "df_right_valid = pl.DataFrame({\"id\": [\"A\", \"C\", None, \"D\"], \"val\": [10, 11, 12, 13]})\n",
    "df_right_valid"
   ]
  },
  {
   "cell_type": "markdown",
   "id": "8edfae8a-7d00-4703-9a79-f0d0e47098c3",
   "metadata": {},
   "source": [
    "### 1:1 validation\n",
    "With a 1:1 validation we want each row to match to a unique row in the other `DataFrames`. A use case here might be when we have data about a sale in the left `DataFrame` and data about the delivery of that sale in the right `DataFrame`.\n",
    "\n",
    "The left join below would fail validation if we try to validate with the full `DataFrame` as `D` does not map to a key in `A`. However, this join passes validation if we restrict to the common keys (and `null` which is excluded from the join)"
   ]
  },
  {
   "cell_type": "code",
   "execution_count": null,
   "id": "ba38cb6c-bada-4476-92d5-563097e6ac33",
   "metadata": {},
   "outputs": [],
   "source": [
    "(\n",
    "    df_left_valid\n",
    "    .filter(pl.col(\"id\").is_in([\"A\", \"C\", None]))\n",
    "    .join(\n",
    "        df_right_valid.filter(pl.col(\"id\").is_in([\"A\", \"C\"])),\n",
    "        how=\"left\",\n",
    "        on=\"id\",\n",
    "        coalesce=False,\n",
    "        validate=\"1:1\",\n",
    "    )\n",
    ")"
   ]
  },
  {
   "cell_type": "markdown",
   "id": "19e4f041-8a21-42b8-bc7f-6ad8918b69dd",
   "metadata": {},
   "source": [
    "### m:1 validation\n",
    "With `m:1` validation we can have multiple rows with the same join key in the left `DataFrame` mapping to the same row in the right `DataFrame`. A use case here might be that we have sales data in the left `DataFrame` and metadata about the customer in the right `DataFrame`.\n",
    "\n",
    "This example passes validation because there is only one row with `A` in the right `DataFrame`"
   ]
  },
  {
   "cell_type": "code",
   "execution_count": null,
   "id": "ae0cb9f0-555a-4bf1-9b7b-8bd158872867",
   "metadata": {},
   "outputs": [],
   "source": [
    "df_left_m = pl.DataFrame({\"id\": [\"A\", \"A\"], \"val\": [0, 1]})\n",
    "df_right_m = pl.DataFrame({\"id\": [\"A\", \"B\"], \"val\": [10, 11]})"
   ]
  },
  {
   "cell_type": "code",
   "execution_count": null,
   "id": "87e8a7cd-da72-4a6c-8bf7-fb5099ca3936",
   "metadata": {},
   "outputs": [],
   "source": [
    "(\n",
    "    df_left_m.\n",
    "    join(\n",
    "        df_right_m, \n",
    "        on=\"id\", \n",
    "        how=\"left\", \n",
    "        coalesce=False,\n",
    "        validate=\"m:1\"\n",
    "    )\n",
    ")"
   ]
  },
  {
   "cell_type": "markdown",
   "id": "c8e4c081-9e76-4c7f-b66a-106fb6195c80",
   "metadata": {},
   "source": [
    "Exercise - Change the values in one of the `DataFrames` so that it fails validation\n",
    "\n",
    "### 1:m validation\n",
    "We can also do the reverse validation where each row on the right must match to a single row on the left but multiple rows on the right can match to the same row on the left"
   ]
  },
  {
   "cell_type": "code",
   "execution_count": null,
   "id": "bceb6ff2-e1ab-4be5-b66f-8f6a0f4c6497",
   "metadata": {},
   "outputs": [],
   "source": [
    "df_left_m = pl.DataFrame({\"id\": [\"A\", \"B\", \"C\"], \"val\": [0, 1, 2]})\n",
    "df_right_m = pl.DataFrame({\"id\": [\"A\", \"B\"], \"val\": [10, 11]})"
   ]
  },
  {
   "cell_type": "code",
   "execution_count": null,
   "id": "d1bf95b4-b448-4720-bc6e-8a8a310ec332",
   "metadata": {},
   "outputs": [],
   "source": [
    "(\n",
    "    df_left_m\n",
    "    .join(\n",
    "        df_right_m, \n",
    "        on=\"id\", \n",
    "        how=\"left\", \n",
    "        coalesce=False,\n",
    "        validate=\"1:m\"\n",
    "    )\n",
    ")"
   ]
  },
  {
   "cell_type": "markdown",
   "id": "0afd6f39-a982-4299-b0b7-bf328203e4a2",
   "metadata": {},
   "source": [
    "### m:m validation\n",
    "This is the default and in this case no checks are made."
   ]
  },
  {
   "cell_type": "markdown",
   "id": "053d9c43-1274-4a79-a119-bbe1606d1fe3",
   "metadata": {},
   "source": [
    "## Joining on multiple keys and expressions\n",
    "We can join on multiple columns by passing a `list` to the `on` argument. We can also use expressions within `on` to transform a column before joining on it.\n",
    "\n",
    "We first define new left and right `DataFrames` with an additional `year` column"
   ]
  },
  {
   "cell_type": "code",
   "execution_count": null,
   "id": "10ac1d82-02c5-480c-8ac1-864248859a2f",
   "metadata": {},
   "outputs": [],
   "source": [
    "df_left_multiple = (\n",
    "    pl.DataFrame(\n",
    "        {\n",
    "            \"id\": [\"A\", \"B\", \"A\", \"B\"], \n",
    "            \"year\": [2020, 2020, 2021, 2021], \n",
    "            \"val\": [0, 1, 2, 3]\n",
    "        }\n",
    "    )\n",
    ")\n",
    "df_left_multiple"
   ]
  },
  {
   "cell_type": "code",
   "execution_count": null,
   "id": "c929e4b3-4509-4675-a9b0-9985cde830ab",
   "metadata": {},
   "outputs": [],
   "source": [
    "df_right_multiple = (\n",
    "    pl.DataFrame(\n",
    "        {\n",
    "            \"id\": [\"a\", \"b\", \"a\", \"b\"],\n",
    "            \"year\": [2020, 2020, 2021, 2021],\n",
    "            \"val\": [10, 11, 12, 13],\n",
    "        }\n",
    "    )\n",
    ")"
   ]
  },
  {
   "cell_type": "markdown",
   "id": "fb0d06cc-0a6c-4f4f-95ea-4c715256b088",
   "metadata": {},
   "source": [
    "We now:\n",
    "- do a join on the `id` and `year` columns and\n",
    "- ensure the `id` column is uppercase for both `DataFrames`"
   ]
  },
  {
   "cell_type": "code",
   "execution_count": null,
   "id": "2c11c203-13c3-4025-a039-bcb9c68ea8e7",
   "metadata": {},
   "outputs": [],
   "source": [
    "(\n",
    "    df_left_multiple\n",
    "    .join(\n",
    "        df_right_multiple, \n",
    "        on=[pl.col(\"id\").str.to_uppercase(), \"year\"], \n",
    "        how=\"inner\",\n",
    "    )\n",
    ")"
   ]
  },
  {
   "cell_type": "markdown",
   "id": "017c083b-01e2-4c6e-b5d7-dacae48f6450",
   "metadata": {},
   "source": [
    "## Joins in lazy mode\n",
    "We can do joins in lazy mode by joining on `LazyFrames` instead of `DataFrames`.\n",
    "\n",
    "If we only need a subset of columns from the joined `DataFrames` we can follow the `join` with a `select` so that Polars only joins the necessary columns"
   ]
  },
  {
   "cell_type": "code",
   "execution_count": null,
   "id": "9a04e7cd-d640-40e2-92bd-2dde610632fd",
   "metadata": {},
   "outputs": [],
   "source": [
    "(\n",
    "    df_left\n",
    "    .lazy()\n",
    "    .join(\n",
    "        df_right.lazy(), \n",
    "        on=\"id\", \n",
    "        how=\"inner\"\n",
    "    )\n",
    "    .select(\"id\", \"val_right\")\n",
    ")"
   ]
  },
  {
   "cell_type": "markdown",
   "id": "ec5ce017-0da6-4496-82e2-c2a8b423f939",
   "metadata": {},
   "source": [
    "We can also do `join` in streaming mode for large datasets.\n",
    "\n",
    "## Joins on sorted columns\n",
    "Polars has fast-track algorithms for joins on sorted columns. We look at the effect of this in the exercises."
   ]
  },
  {
   "cell_type": "markdown",
   "id": "5921de15-e10a-468b-a663-92f24c08e638",
   "metadata": {},
   "source": [
    "## Exercises\n",
    "\n",
    "In the exercises you will develop your understanding of:\n",
    "- doing a left join of two `DataFrames`\n",
    "- doing an inner join of two `DataFrames`\n",
    "- doing fast-track joins on sorted integer columns\n",
    "\n",
    "### CITES Dataset\n",
    "For these exercises we use an extract from a database on international trade in endangered species gathered by the CITES organisation.\n",
    "\n",
    "This CSV has an extract of CITES trade data for 2021"
   ]
  },
  {
   "cell_type": "code",
   "execution_count": null,
   "id": "bbd92e71-d670-449c-88d2-8f005507424d",
   "metadata": {
    "tags": []
   },
   "outputs": [],
   "source": [
    "csv_file = \"../data/cites_extract.csv\""
   ]
  },
  {
   "cell_type": "code",
   "execution_count": null,
   "id": "cccaebfc-c9e6-4fcc-81c1-c13a69a2e4fa",
   "metadata": {
    "tags": []
   },
   "outputs": [],
   "source": [
    "df_CITES = pl.read_csv(csv_file)\n",
    "df_CITES"
   ]
  },
  {
   "cell_type": "markdown",
   "id": "7d59b6c4-e0c1-4141-bdd4-3c184275b0e9",
   "metadata": {},
   "source": [
    "The `DataFrame` shows:\n",
    "- the `Year` in which the trade occured\n",
    "- the `Importer` and `Exporter` country in 2-digit ISO country codes\n",
    "- the scientific name for the `Taxon` and\n",
    "- the `Quantity` of items in the trade\n",
    "\n",
    "We will join the trade data to the ISO country metadata in the following CSV"
   ]
  },
  {
   "cell_type": "code",
   "execution_count": null,
   "id": "ff10fdb7-56ad-448c-a548-b9f85df03b84",
   "metadata": {
    "tags": []
   },
   "outputs": [],
   "source": [
    "iso_csv_file = \"../data/countries_extract.csv\""
   ]
  },
  {
   "cell_type": "code",
   "execution_count": null,
   "id": "5c742f08-858d-413f-8ae9-7567e14413aa",
   "metadata": {
    "tags": []
   },
   "outputs": [],
   "source": [
    "df_ISO = pl.read_csv(iso_csv_file)\n",
    "df_ISO"
   ]
  },
  {
   "cell_type": "markdown",
   "id": "d8602dd3-380d-4267-ad5e-d5e5cc25c8fa",
   "metadata": {},
   "source": [
    "This `DataFrame` has:\n",
    "- `alpha-2`: the 2-letter country code\n",
    "- `name`: the full name of the country\n",
    "- `region`: the region of the country\n",
    "\n",
    "### Exercise 1\n",
    "For each trade record in `df_CITES` add:\n",
    "- the full country name of the importer\n",
    "- the region of the importer"
   ]
  },
  {
   "cell_type": "code",
   "execution_count": null,
   "id": "ea5cedc7-c3e7-4002-8228-fbed0514f8b7",
   "metadata": {
    "tags": []
   },
   "outputs": [],
   "source": []
  },
  {
   "cell_type": "markdown",
   "id": "5feb4bba-2ae4-4e29-b481-64ec6568c8bb",
   "metadata": {},
   "source": [
    "Add to the trade records:\n",
    "- the full country name of the importer\n",
    "- the region of the importer\n",
    "\n",
    "keeping only rows where we can join these values"
   ]
  },
  {
   "cell_type": "code",
   "execution_count": null,
   "id": "bdd26f3f-6bae-486f-ade6-6421a17fe5bc",
   "metadata": {
    "tags": []
   },
   "outputs": [],
   "source": []
  },
  {
   "cell_type": "markdown",
   "id": "3a46c1a1-3820-4eb0-b974-8e94b97f1e37",
   "metadata": {},
   "source": [
    "Add:\n",
    "- the full country name of the importer\n",
    "- the region of the importer\n",
    "\n",
    "keeping all rows from both `DataFrames`"
   ]
  },
  {
   "cell_type": "code",
   "execution_count": null,
   "id": "b98695e6-e104-410b-a693-c656a9eccaab",
   "metadata": {
    "tags": []
   },
   "outputs": [],
   "source": []
  },
  {
   "cell_type": "markdown",
   "id": "0c367638-8c65-425f-856a-46540c2f77db",
   "metadata": {},
   "source": [
    "Create a `DataFrame` that has all combinations of the `Taxon`,`name` and `region` columns"
   ]
  },
  {
   "cell_type": "code",
   "execution_count": null,
   "id": "f5f1e9f7-240c-4930-a174-b4c1ac4fbf59",
   "metadata": {
    "tags": []
   },
   "outputs": [],
   "source": []
  },
  {
   "cell_type": "markdown",
   "id": "3c9acd0c-f3f0-4e1f-9934-779bab9d5ed8",
   "metadata": {},
   "source": [
    "Returning to the `inner` join above validate that the trade records map to unique ISO metadata"
   ]
  },
  {
   "cell_type": "code",
   "execution_count": null,
   "id": "c499d9a5-f1ef-4b27-8226-159d0621dbab",
   "metadata": {},
   "outputs": [],
   "source": []
  },
  {
   "cell_type": "markdown",
   "id": "4af07718-80d2-4c9e-b9a2-9e4e617c23fa",
   "metadata": {},
   "source": [
    "Do a left join of the ISO data based on the importer (as earlier) and the same for the exporter. Ensure the `name` and `region` columns for importer and exporter are clearly distinguished in the output"
   ]
  },
  {
   "cell_type": "code",
   "execution_count": null,
   "id": "c474475c-7c2a-4f90-98fa-bdbe62141391",
   "metadata": {},
   "outputs": [],
   "source": []
  },
  {
   "cell_type": "markdown",
   "id": "90278d5d-72ea-444d-ae76-1118e54305c7",
   "metadata": {},
   "source": [
    "### Exercise 2\n",
    "In this exercise we see the effect of joins on sorted integers\n",
    "\n",
    "We first create a pre-sorted array of `N` integers to be the join keys.\n",
    "\n",
    "We control the `cardinality` - the number of unique join keys - with the `cardinality` variable"
   ]
  },
  {
   "cell_type": "code",
   "execution_count": null,
   "id": "46d1f57e-e888-407a-94f7-552107b9d1f1",
   "metadata": {},
   "outputs": [],
   "source": [
    "import numpy as np\n",
    "\n",
    "np.random.seed(0)\n",
    "\n",
    "N = 100_000\n",
    "cardinality = N // 2"
   ]
  },
  {
   "cell_type": "markdown",
   "id": "798e69d1-e0ca-419f-8e65-f8f6d5764a86",
   "metadata": {},
   "source": [
    "We create a left-hand `DataFrame` with:\n",
    "- a sorted `id` column and\n",
    "- a random `values` column\n",
    "\n",
    "We create a right-hand `DataFrame` with\n",
    "- a sorted `id` column\n",
    "- a metadata column (equal to the `id` column in this case)"
   ]
  },
  {
   "cell_type": "code",
   "execution_count": null,
   "id": "0903d23d-5bcf-4f12-81fe-5bc3432f694a",
   "metadata": {},
   "outputs": [],
   "source": [
    "def createDataFrames(N: int, cardinality: int):\n",
    "    # Create a random array with values up to cardinality and then sort it to be the `id` column\n",
    "    sortedArray = np.sort(np.random.randint(0, cardinality, N,dtype=np.int64))\n",
    "    df_left = pl.DataFrame({\"id\": sortedArray, \"values\": np.random.standard_normal(N)})\n",
    "    # We create the right-hand `DataFrame` with the `id` column and arbitrary metadata\n",
    "    df_right = pl.DataFrame(\n",
    "        {\"id\": [i for i in range(cardinality)], \"meta\": [i for i in range(cardinality)]}\n",
    "    )\n",
    "    return df_left, df_right\n",
    "\n",
    "\n",
    "df_left, df_right = createDataFrames(N=N, cardinality=cardinality)\n",
    "df_left.head()"
   ]
  },
  {
   "cell_type": "code",
   "execution_count": null,
   "id": "f6cce0b6-4c9e-4e64-b2c1-2326b0315e25",
   "metadata": {},
   "outputs": [],
   "source": [
    "df_right.head()"
   ]
  },
  {
   "cell_type": "markdown",
   "id": "60a85a6e-41ed-48a3-bdab-331e74b6ff06",
   "metadata": {},
   "source": [
    "Check the flags if Polars knows the `id` column is sorted on the left and right `DataFrames`"
   ]
  },
  {
   "cell_type": "code",
   "execution_count": null,
   "id": "b6c08e04-9677-4dd3-ba84-ed6423d9c518",
   "metadata": {},
   "outputs": [],
   "source": [
    "print(<blank>)\n",
    "print(<blank>)"
   ]
  },
  {
   "cell_type": "markdown",
   "id": "f7f5d48a-27ae-41d6-a733-c01bef70cc27",
   "metadata": {},
   "source": [
    "Time the performance for an unsorted join"
   ]
  },
  {
   "cell_type": "code",
   "execution_count": null,
   "id": "20fc837f-2b1a-49d8-9d38-f875ca9c599f",
   "metadata": {},
   "outputs": [],
   "source": [
    "%%timeit -n1 -r3\n",
    "(\n",
    "  <blank>  \n",
    ")"
   ]
  },
  {
   "cell_type": "markdown",
   "id": "601abb47-28fc-4ee1-907b-6c8a51e33fef",
   "metadata": {},
   "source": [
    "Create new `DataFrames` and tell Polars that the `id` columns are sorted"
   ]
  },
  {
   "cell_type": "code",
   "execution_count": null,
   "id": "eb9e1298-113c-413e-992a-2a9367e8d00b",
   "metadata": {},
   "outputs": [],
   "source": [
    "df_left_sorted = (\n",
    "    <blank>\n",
    ")\n",
    "                \n",
    "df_right_sorted = (\n",
    "    <blank>\n",
    ")\n"
   ]
  },
  {
   "cell_type": "markdown",
   "id": "f888e8b3-2592-41d6-a2a4-3eab264d98e6",
   "metadata": {},
   "source": [
    "Check the flags to see if Polars knows the `id` column is sorted on these new `DataFrames`"
   ]
  },
  {
   "cell_type": "code",
   "execution_count": null,
   "id": "e6885399-f259-4131-b803-2d27281c8bbb",
   "metadata": {},
   "outputs": [],
   "source": [
    "print(<blank>)\n",
    "print(<blank>)"
   ]
  },
  {
   "cell_type": "markdown",
   "id": "28b852ae-e78c-4bcc-a52e-31d55b9d3a90",
   "metadata": {},
   "source": [
    "Time the sorted join performance"
   ]
  },
  {
   "cell_type": "code",
   "execution_count": null,
   "id": "f2552e3d-81cd-4666-bba3-5f39c46171f5",
   "metadata": {},
   "outputs": [],
   "source": [
    "%%timeit -n1 -r3\n",
    "(\n",
    "  <blank>  \n",
    ")"
   ]
  },
  {
   "cell_type": "markdown",
   "id": "a4731016-4a99-46fc-8c2c-69767108e598",
   "metadata": {},
   "source": [
    "Compare performance if only the left `DataFrame` is sorted. Hint: use `df_left_sorted` and `df_right`"
   ]
  },
  {
   "cell_type": "code",
   "execution_count": null,
   "id": "439d5958-1db8-4744-bade-e22236a942db",
   "metadata": {},
   "outputs": [],
   "source": [
    "%%timeit -n1 -r3\n",
    "(\n",
    "  <blank>  \n",
    ")"
   ]
  },
  {
   "cell_type": "markdown",
   "id": "4a70c1ee-d2fa-4ad0-b7bd-0c2241104441",
   "metadata": {},
   "source": [
    "Compare the relative performance between sorted and unsorted joins when `cardinality` is low (say `cardinality = 100`)"
   ]
  },
  {
   "cell_type": "markdown",
   "id": "5d538ac9-2d24-496f-ab1f-d4a4b500f776",
   "metadata": {},
   "source": [
    "## Solutions"
   ]
  },
  {
   "cell_type": "markdown",
   "id": "629170bb-15c1-4507-abdf-c82b21e30604",
   "metadata": {},
   "source": [
    "### Solution to Exercise 1\n",
    "For each trade record add:\n",
    "- the full country name of the importer\n",
    "- the region of the importer"
   ]
  },
  {
   "cell_type": "code",
   "execution_count": null,
   "id": "8a94f5ed-cc82-48e2-a9c6-c2c0b5f632b5",
   "metadata": {
    "jupyter": {
     "source_hidden": true
    },
    "tags": []
   },
   "outputs": [],
   "source": [
    "(\n",
    "    df_CITES.join(\n",
    "        df_ISO, \n",
    "        left_on=\"Importer\", \n",
    "        right_on=\"alpha-2\", \n",
    "        how=\"left\",\n",
    "        coalesce=True\n",
    "    )\n",
    ")"
   ]
  },
  {
   "cell_type": "markdown",
   "id": "2ad5b604-4c85-4eb2-93f7-3cb92615aa98",
   "metadata": {},
   "source": [
    "Add to the trade records:\n",
    "- the full country name of the importer\n",
    "- the region of the importer\n",
    "\n",
    "keeping only rows where we can join these values"
   ]
  },
  {
   "cell_type": "code",
   "execution_count": null,
   "id": "c75480b9-27d4-470e-8aef-43ce710ead96",
   "metadata": {
    "jupyter": {
     "source_hidden": true
    },
    "tags": []
   },
   "outputs": [],
   "source": [
    "(\n",
    "    df_CITES\n",
    "    .join(\n",
    "        df_ISO, \n",
    "        left_on=\"Importer\", \n",
    "        right_on=\"alpha-2\", \n",
    "        how=\"inner\"\n",
    "    )\n",
    ")"
   ]
  },
  {
   "cell_type": "markdown",
   "id": "0f604ce4-fe1b-4796-954e-320d2a3ff6eb",
   "metadata": {},
   "source": [
    "Add:\n",
    "- the full country name of the importer\n",
    "- the region of the importer\n",
    "\n",
    "keeping all rows from both `DataFrames`"
   ]
  },
  {
   "cell_type": "code",
   "execution_count": null,
   "id": "609a590c-cc7f-47da-9828-71decb85fe84",
   "metadata": {
    "jupyter": {
     "source_hidden": true
    },
    "tags": []
   },
   "outputs": [],
   "source": [
    "(\n",
    "    df_CITES\n",
    "    .join(\n",
    "        df_ISO, \n",
    "        left_on=\"Importer\", \n",
    "        right_on=\"alpha-2\", \n",
    "        how=\"full\"\n",
    "    )\n",
    ")"
   ]
  },
  {
   "cell_type": "markdown",
   "id": "23c5896e",
   "metadata": {},
   "source": [
    "Create a `DataFrame` that has all combinations of the `Taxon`,`name` and `region` columns"
   ]
  },
  {
   "cell_type": "code",
   "execution_count": null,
   "id": "74bd377a",
   "metadata": {
    "jupyter": {
     "source_hidden": true
    }
   },
   "outputs": [],
   "source": [
    "(\n",
    "    df_CITES\n",
    "    .select(\"Taxon\")\n",
    "    .join(\n",
    "        df_ISO.select(\"name\", \"region\"), \n",
    "        how=\"cross\"\n",
    "    )\n",
    ")"
   ]
  },
  {
   "cell_type": "markdown",
   "id": "25733b9e",
   "metadata": {},
   "source": [
    "Returning to the `inner` join above validate that the trade records map to unique ISO metadata"
   ]
  },
  {
   "cell_type": "code",
   "execution_count": null,
   "id": "fa52d7b2",
   "metadata": {
    "jupyter": {
     "source_hidden": true
    }
   },
   "outputs": [],
   "source": [
    "(\n",
    "    df_CITES.join(\n",
    "        df_ISO, \n",
    "        left_on=\"Importer\", \n",
    "        right_on=\"alpha-2\", \n",
    "        how=\"left\", \n",
    "        coalesce=True,\n",
    "        validate=\"m:1\"\n",
    "    )\n",
    ")"
   ]
  },
  {
   "cell_type": "markdown",
   "id": "87302e9d",
   "metadata": {},
   "source": [
    "Do a left join of the ISO data based on the importer (as earlier) and the same for the exporter. Ensure the `name` and `region` columns for importer and exporter are clearly distinguished in the output"
   ]
  },
  {
   "cell_type": "code",
   "execution_count": null,
   "id": "6fb027e9",
   "metadata": {
    "jupyter": {
     "source_hidden": true
    }
   },
   "outputs": [],
   "source": [
    "(\n",
    "    df_CITES.join(\n",
    "        df_ISO, \n",
    "        left_on=\"Importer\", \n",
    "        right_on=\"alpha-2\", \n",
    "        how=\"left\",\n",
    "        coalesce=True,\n",
    "        suffix=\"_importer\"\n",
    "    ).join(\n",
    "        df_ISO, \n",
    "        left_on=\"Exporter\", \n",
    "        right_on=\"alpha-2\", \n",
    "        how=\"left\", \n",
    "        coalesce=True,\n",
    "        suffix=\"_exporter\"\n",
    "    )\n",
    ")"
   ]
  },
  {
   "cell_type": "markdown",
   "id": "16b140b5-56a0-4ec7-b70e-e230fc9c5198",
   "metadata": {},
   "source": [
    "### Solution to Exercise 2"
   ]
  },
  {
   "cell_type": "code",
   "execution_count": null,
   "id": "03351aa6-752a-4162-a9f7-dad4510940d8",
   "metadata": {
    "tags": []
   },
   "outputs": [],
   "source": [
    "import numpy as np\n",
    "\n",
    "np.random.seed(0)\n",
    "N = 10_000_000\n",
    "cardinality = N // 2\n",
    "df_left, df_right = createDataFrames(N=N, cardinality=cardinality)"
   ]
  },
  {
   "cell_type": "markdown",
   "id": "c67e0994-daf7-4558-b05d-b69d25ae3d13",
   "metadata": {},
   "source": [
    "Check the flags to see if Polars knows the `id` column is sorted on the left and right `DataFrames`"
   ]
  },
  {
   "cell_type": "code",
   "execution_count": null,
   "id": "46d54b08-e666-4181-840d-de34698b1b84",
   "metadata": {
    "jupyter": {
     "source_hidden": true
    },
    "tags": []
   },
   "outputs": [],
   "source": [
    "print(df_left[\"id\"].flags)\n",
    "print(df_right[\"id\"].flags)"
   ]
  },
  {
   "cell_type": "markdown",
   "id": "83fe7f4c-288f-4c3e-9ba6-94be35f468b2",
   "metadata": {},
   "source": [
    "Time the performance for an join where the fast-track sorted algorithm is not used"
   ]
  },
  {
   "cell_type": "code",
   "execution_count": null,
   "id": "f5af4ea4-5ff1-4447-bdd8-4798950808ae",
   "metadata": {
    "jupyter": {
     "source_hidden": true
    },
    "tags": []
   },
   "outputs": [],
   "source": [
    "%%timeit -n1 -r3\n",
    "(\n",
    "    df_left.join(df_right,on=\"id\")\n",
    ")"
   ]
  },
  {
   "cell_type": "markdown",
   "id": "44655d31-a848-434d-95d4-8acf0d735f0f",
   "metadata": {},
   "source": [
    "To avoid confusion we create new `DataFrames` and tell Polars that the `id` columns are sorted in these new `DataFrames`"
   ]
  },
  {
   "cell_type": "code",
   "execution_count": null,
   "id": "82cec0dc-571b-45a2-a665-bb4c798ea4b4",
   "metadata": {
    "jupyter": {
     "source_hidden": true
    },
    "tags": []
   },
   "outputs": [],
   "source": [
    "df_left_sorted = df_left.with_columns(pl.col(\"id\").set_sorted())\n",
    "\n",
    "df_right_sorted = df_right.with_columns(pl.col(\"id\").set_sorted())"
   ]
  },
  {
   "cell_type": "markdown",
   "id": "9e2af10e-cfeb-4164-9a93-52367270dfa9",
   "metadata": {},
   "source": [
    "Check to see if Polars knows the `id` columns are sorted"
   ]
  },
  {
   "cell_type": "code",
   "execution_count": null,
   "id": "cad61bfb-a420-48ef-ad49-7bea77810c31",
   "metadata": {
    "jupyter": {
     "source_hidden": true
    },
    "tags": []
   },
   "outputs": [],
   "source": [
    "print(df_left_sorted[\"id\"].flags)\n",
    "print(df_right_sorted[\"id\"].flags)"
   ]
  },
  {
   "cell_type": "markdown",
   "id": "489e737e-63ac-4da7-9662-ca56118fec7a",
   "metadata": {},
   "source": [
    "Time the sorted join performance"
   ]
  },
  {
   "cell_type": "code",
   "execution_count": null,
   "id": "9529f4d5-c124-4a8b-a05e-5601b3b60429",
   "metadata": {
    "jupyter": {
     "source_hidden": true
    },
    "tags": []
   },
   "outputs": [],
   "source": [
    "%%timeit -n1 -r3\n",
    "\n",
    "(\n",
    "    df_left_sorted.join(df_right_sorted,left_on=\"id\",right_on=\"id\")\n",
    ")"
   ]
  },
  {
   "cell_type": "markdown",
   "id": "279bf302-10c8-4ae4-9c69-9ae3b3a889e4",
   "metadata": {},
   "source": [
    "This is much faster than the joins with the standard (non-fast track algorithms).\n",
    "\n",
    "The fast-track algorithm can still be used even if only one of the `DataFrames` is sorted.\n",
    "\n",
    "Compare performance if only the left `DataFrame` is sorted"
   ]
  },
  {
   "cell_type": "code",
   "execution_count": null,
   "id": "ddbb4831-5ee5-436c-9bdd-c81eedd05595",
   "metadata": {
    "jupyter": {
     "source_hidden": true
    },
    "tags": []
   },
   "outputs": [],
   "source": [
    "%%timeit -n1 -r3\n",
    "(\n",
    "    df_left_sorted.join(df_right,left_on=\"id\",right_on=\"id\")\n",
    ")"
   ]
  },
  {
   "cell_type": "markdown",
   "id": "9b462137-a569-43ad-a2ba-cad3cdda6e03",
   "metadata": {},
   "source": [
    "There is still a benefit if just the left `DataFrame` is sorted"
   ]
  },
  {
   "cell_type": "code",
   "execution_count": null,
   "id": "1167cf83-7ec3-4511-9a40-45204cdd8124",
   "metadata": {
    "jupyter": {
     "source_hidden": true
    },
    "tags": []
   },
   "outputs": [],
   "source": [
    "%%timeit -n1 -r3\n",
    "(\n",
    "    df_left.join(df_right_sorted,left_on=\"id\",right_on=\"id\")\n",
    ")"
   ]
  },
  {
   "cell_type": "markdown",
   "id": "cde40eba-8428-47af-a4b6-dd88584d981e",
   "metadata": {},
   "source": [
    "So there is no performance benefit from just the right `DataFrame` being sorted "
   ]
  },
  {
   "cell_type": "markdown",
   "id": "8b80bdc2-b80a-407c-a3d5-5b1594ca98b6",
   "metadata": {},
   "source": [
    "Compare the relative performance when `cardinality` is low (say `cardinality = 100`)\n",
    "\n",
    "With low cardinality the overall joins are much faster but the differences in performances from sorting are much smaller"
   ]
  }
 ],
 "metadata": {
  "kernelspec": {
   "display_name": "Python 3 (ipykernel)",
   "language": "python",
   "name": "python3"
  },
  "language_info": {
   "codemirror_mode": {
    "name": "ipython",
    "version": 3
   },
   "file_extension": ".py",
   "mimetype": "text/x-python",
   "name": "python",
   "nbconvert_exporter": "python",
   "pygments_lexer": "ipython3",
   "version": "3.10.1"
  }
 },
 "nbformat": 4,
 "nbformat_minor": 5
}
