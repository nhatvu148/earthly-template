{
 "cells": [
  {
   "cell_type": "markdown",
   "id": "3c33bfa5-6eac-48a0-acd3-29e075df3622",
   "metadata": {},
   "source": [
    "## Inequality joins\n",
    "By the end of this lecture you will be able to:\n",
    "- do nearest neighbour joins\n",
    "- do joins based on a condition"
   ]
  },
  {
   "cell_type": "code",
   "execution_count": 1,
   "id": "cf777862-34a7-4f02-b77f-069f95c30841",
   "metadata": {},
   "outputs": [],
   "source": [
    "import polars as pl"
   ]
  },
  {
   "cell_type": "markdown",
   "id": "b15183d8-53e5-485f-bef1-c2a8c28316a6",
   "metadata": {},
   "source": [
    "## Nearest neighbour joins with `join_asof`\n",
    "We have the following `DataFrame` of individuals and the year they were born"
   ]
  },
  {
   "cell_type": "code",
   "execution_count": 2,
   "id": "db9df7a0-857b-41c8-b8b1-7b0fd7e0f7e1",
   "metadata": {},
   "outputs": [
    {
     "data": {
      "text/html": [
       "<div><style>\n",
       ".dataframe > thead > tr,\n",
       ".dataframe > tbody > tr {\n",
       "  text-align: right;\n",
       "  white-space: pre-wrap;\n",
       "}\n",
       "</style>\n",
       "<small>shape: (5, 2)</small><table border=\"1\" class=\"dataframe\"><thead><tr><th>Name</th><th>Birth_Year</th></tr><tr><td>str</td><td>i64</td></tr></thead><tbody><tr><td>&quot;Alice&quot;</td><td>1950</td></tr><tr><td>&quot;Bob&quot;</td><td>1965</td></tr><tr><td>&quot;Charlotte&quot;</td><td>1985</td></tr><tr><td>&quot;David&quot;</td><td>1996</td></tr><tr><td>&quot;Eve&quot;</td><td>2015</td></tr></tbody></table></div>"
      ],
      "text/plain": [
       "shape: (5, 2)\n",
       "┌───────────┬────────────┐\n",
       "│ Name      ┆ Birth_Year │\n",
       "│ ---       ┆ ---        │\n",
       "│ str       ┆ i64        │\n",
       "╞═══════════╪════════════╡\n",
       "│ Alice     ┆ 1950       │\n",
       "│ Bob       ┆ 1965       │\n",
       "│ Charlotte ┆ 1985       │\n",
       "│ David     ┆ 1996       │\n",
       "│ Eve       ┆ 2015       │\n",
       "└───────────┴────────────┘"
      ]
     },
     "execution_count": 2,
     "metadata": {},
     "output_type": "execute_result"
    }
   ],
   "source": [
    "# People with their birth years\n",
    "people_df = pl.DataFrame({\n",
    "    'Name': ['Alice', 'Bob', 'Charlotte', 'David', 'Eve'],\n",
    "    'Birth_Year': [1950, 1965, 1985, 1996, 2015]\n",
    "})\n",
    "people_df"
   ]
  },
  {
   "cell_type": "markdown",
   "id": "d723b081-a1d0-4241-be4b-6d7df0108f64",
   "metadata": {},
   "source": [
    "We have this `DataFrame` that defines the starting birth year for a number of generation groups"
   ]
  },
  {
   "cell_type": "code",
   "execution_count": 3,
   "id": "d630da01-9111-457f-b469-d30a44f34383",
   "metadata": {},
   "outputs": [
    {
     "data": {
      "text/html": [
       "<div><style>\n",
       ".dataframe > thead > tr,\n",
       ".dataframe > tbody > tr {\n",
       "  text-align: right;\n",
       "  white-space: pre-wrap;\n",
       "}\n",
       "</style>\n",
       "<small>shape: (5, 2)</small><table border=\"1\" class=\"dataframe\"><thead><tr><th>Generation</th><th>Start_Year</th></tr><tr><td>str</td><td>i64</td></tr></thead><tbody><tr><td>&quot;Baby Boomer&quot;</td><td>1946</td></tr><tr><td>&quot;Gen X&quot;</td><td>1965</td></tr><tr><td>&quot;Millennial&quot;</td><td>1981</td></tr><tr><td>&quot;Gen Z&quot;</td><td>1997</td></tr><tr><td>&quot;Gen Alpha&quot;</td><td>2013</td></tr></tbody></table></div>"
      ],
      "text/plain": [
       "shape: (5, 2)\n",
       "┌─────────────┬────────────┐\n",
       "│ Generation  ┆ Start_Year │\n",
       "│ ---         ┆ ---        │\n",
       "│ str         ┆ i64        │\n",
       "╞═════════════╪════════════╡\n",
       "│ Baby Boomer ┆ 1946       │\n",
       "│ Gen X       ┆ 1965       │\n",
       "│ Millennial  ┆ 1981       │\n",
       "│ Gen Z       ┆ 1997       │\n",
       "│ Gen Alpha   ┆ 2013       │\n",
       "└─────────────┴────────────┘"
      ]
     },
     "execution_count": 3,
     "metadata": {},
     "output_type": "execute_result"
    }
   ],
   "source": [
    "generations_df = pl.DataFrame({\n",
    "    'Generation': ['Baby Boomer', 'Gen X', 'Millennial', 'Gen Z', 'Gen Alpha'],\n",
    "    'Start_Year': [1946, 1965, 1981, 1997, 2013]\n",
    "})\n",
    "generations_df"
   ]
  },
  {
   "cell_type": "markdown",
   "id": "c7c1676d-0103-497d-a97e-fb98d88fc1b4",
   "metadata": {},
   "source": [
    "We want to map each person in `people_df` to their generation group. By default in `join_asof` this is defined as the nearest generation start year less than or equal to the year they were born"
   ]
  },
  {
   "cell_type": "code",
   "execution_count": 4,
   "id": "b2121be2-0a7c-4f35-9d00-cd0c09aa073e",
   "metadata": {},
   "outputs": [
    {
     "data": {
      "text/html": [
       "<div><style>\n",
       ".dataframe > thead > tr,\n",
       ".dataframe > tbody > tr {\n",
       "  text-align: right;\n",
       "  white-space: pre-wrap;\n",
       "}\n",
       "</style>\n",
       "<small>shape: (5, 4)</small><table border=\"1\" class=\"dataframe\"><thead><tr><th>Name</th><th>Birth_Year</th><th>Generation</th><th>Start_Year</th></tr><tr><td>str</td><td>i64</td><td>str</td><td>i64</td></tr></thead><tbody><tr><td>&quot;Alice&quot;</td><td>1950</td><td>&quot;Baby Boomer&quot;</td><td>1946</td></tr><tr><td>&quot;Bob&quot;</td><td>1965</td><td>&quot;Gen X&quot;</td><td>1965</td></tr><tr><td>&quot;Charlotte&quot;</td><td>1985</td><td>&quot;Millennial&quot;</td><td>1981</td></tr><tr><td>&quot;David&quot;</td><td>1996</td><td>&quot;Millennial&quot;</td><td>1981</td></tr><tr><td>&quot;Eve&quot;</td><td>2015</td><td>&quot;Gen Alpha&quot;</td><td>2013</td></tr></tbody></table></div>"
      ],
      "text/plain": [
       "shape: (5, 4)\n",
       "┌───────────┬────────────┬─────────────┬────────────┐\n",
       "│ Name      ┆ Birth_Year ┆ Generation  ┆ Start_Year │\n",
       "│ ---       ┆ ---        ┆ ---         ┆ ---        │\n",
       "│ str       ┆ i64        ┆ str         ┆ i64        │\n",
       "╞═══════════╪════════════╪═════════════╪════════════╡\n",
       "│ Alice     ┆ 1950       ┆ Baby Boomer ┆ 1946       │\n",
       "│ Bob       ┆ 1965       ┆ Gen X       ┆ 1965       │\n",
       "│ Charlotte ┆ 1985       ┆ Millennial  ┆ 1981       │\n",
       "│ David     ┆ 1996       ┆ Millennial  ┆ 1981       │\n",
       "│ Eve       ┆ 2015       ┆ Gen Alpha   ┆ 2013       │\n",
       "└───────────┴────────────┴─────────────┴────────────┘"
      ]
     },
     "execution_count": 4,
     "metadata": {},
     "output_type": "execute_result"
    }
   ],
   "source": [
    "(\n",
    "    people_df\n",
    "    .join_asof(\n",
    "        generations_df,\n",
    "        left_on=\"Birth_Year\",\n",
    "        right_on=\"Start_Year\",\n",
    "    )\n",
    ")"
   ]
  },
  {
   "cell_type": "markdown",
   "id": "36890113-a408-4d42-a587-5c0ace00868e",
   "metadata": {},
   "source": [
    "Note that `Bob` is `Gen X` as his birth year equals the start year.\n",
    "\n",
    "While the default strategy is `backwards` so we look for the nearest match on or before the join column we can also choose a `forwards` or `nearest` strategy"
   ]
  },
  {
   "cell_type": "code",
   "execution_count": 5,
   "id": "1a550135-1fb8-458f-8e18-453923be3240",
   "metadata": {},
   "outputs": [
    {
     "data": {
      "text/html": [
       "<div><style>\n",
       ".dataframe > thead > tr,\n",
       ".dataframe > tbody > tr {\n",
       "  text-align: right;\n",
       "  white-space: pre-wrap;\n",
       "}\n",
       "</style>\n",
       "<small>shape: (5, 4)</small><table border=\"1\" class=\"dataframe\"><thead><tr><th>Name</th><th>Birth_Year</th><th>Generation</th><th>Start_Year</th></tr><tr><td>str</td><td>i64</td><td>str</td><td>i64</td></tr></thead><tbody><tr><td>&quot;Alice&quot;</td><td>1950</td><td>&quot;Baby Boomer&quot;</td><td>1946</td></tr><tr><td>&quot;Bob&quot;</td><td>1965</td><td>&quot;Gen X&quot;</td><td>1965</td></tr><tr><td>&quot;Charlotte&quot;</td><td>1985</td><td>&quot;Millennial&quot;</td><td>1981</td></tr><tr><td>&quot;David&quot;</td><td>1996</td><td>&quot;Gen Z&quot;</td><td>1997</td></tr><tr><td>&quot;Eve&quot;</td><td>2015</td><td>&quot;Gen Alpha&quot;</td><td>2013</td></tr></tbody></table></div>"
      ],
      "text/plain": [
       "shape: (5, 4)\n",
       "┌───────────┬────────────┬─────────────┬────────────┐\n",
       "│ Name      ┆ Birth_Year ┆ Generation  ┆ Start_Year │\n",
       "│ ---       ┆ ---        ┆ ---         ┆ ---        │\n",
       "│ str       ┆ i64        ┆ str         ┆ i64        │\n",
       "╞═══════════╪════════════╪═════════════╪════════════╡\n",
       "│ Alice     ┆ 1950       ┆ Baby Boomer ┆ 1946       │\n",
       "│ Bob       ┆ 1965       ┆ Gen X       ┆ 1965       │\n",
       "│ Charlotte ┆ 1985       ┆ Millennial  ┆ 1981       │\n",
       "│ David     ┆ 1996       ┆ Gen Z       ┆ 1997       │\n",
       "│ Eve       ┆ 2015       ┆ Gen Alpha   ┆ 2013       │\n",
       "└───────────┴────────────┴─────────────┴────────────┘"
      ]
     },
     "execution_count": 5,
     "metadata": {},
     "output_type": "execute_result"
    }
   ],
   "source": [
    "(\n",
    "    people_df\n",
    "    .join_asof(\n",
    "        generations_df,\n",
    "        left_on=\"Birth_Year\",\n",
    "        right_on=\"Start_Year\",\n",
    "        strategy=\"nearest\"\n",
    "    )\n",
    ")"
   ]
  },
  {
   "cell_type": "markdown",
   "id": "12616bf0-ca5c-4328-bb3c-de252312a60d",
   "metadata": {},
   "source": [
    "By choosing `nearest` we see that `David` is now in `Gen Z` which started one year after he was born.\n",
    "\n",
    "To avoid joining over a very long period we can set a `tolerance` to limit the difference between the birth year and generation start year"
   ]
  },
  {
   "cell_type": "code",
   "execution_count": 6,
   "id": "38ee0251-5638-42f6-a2e3-74f6d1872649",
   "metadata": {},
   "outputs": [
    {
     "data": {
      "text/html": [
       "<div><style>\n",
       ".dataframe > thead > tr,\n",
       ".dataframe > tbody > tr {\n",
       "  text-align: right;\n",
       "  white-space: pre-wrap;\n",
       "}\n",
       "</style>\n",
       "<small>shape: (5, 4)</small><table border=\"1\" class=\"dataframe\"><thead><tr><th>Name</th><th>Birth_Year</th><th>Generation</th><th>Start_Year</th></tr><tr><td>str</td><td>i64</td><td>str</td><td>i64</td></tr></thead><tbody><tr><td>&quot;Alice&quot;</td><td>1950</td><td>&quot;Baby Boomer&quot;</td><td>1946</td></tr><tr><td>&quot;Bob&quot;</td><td>1965</td><td>&quot;Gen X&quot;</td><td>1965</td></tr><tr><td>&quot;Charlotte&quot;</td><td>1985</td><td>&quot;Millennial&quot;</td><td>1981</td></tr><tr><td>&quot;David&quot;</td><td>1996</td><td>null</td><td>null</td></tr><tr><td>&quot;Eve&quot;</td><td>2015</td><td>&quot;Gen Alpha&quot;</td><td>2013</td></tr></tbody></table></div>"
      ],
      "text/plain": [
       "shape: (5, 4)\n",
       "┌───────────┬────────────┬─────────────┬────────────┐\n",
       "│ Name      ┆ Birth_Year ┆ Generation  ┆ Start_Year │\n",
       "│ ---       ┆ ---        ┆ ---         ┆ ---        │\n",
       "│ str       ┆ i64        ┆ str         ┆ i64        │\n",
       "╞═══════════╪════════════╪═════════════╪════════════╡\n",
       "│ Alice     ┆ 1950       ┆ Baby Boomer ┆ 1946       │\n",
       "│ Bob       ┆ 1965       ┆ Gen X       ┆ 1965       │\n",
       "│ Charlotte ┆ 1985       ┆ Millennial  ┆ 1981       │\n",
       "│ David     ┆ 1996       ┆ null        ┆ null       │\n",
       "│ Eve       ┆ 2015       ┆ Gen Alpha   ┆ 2013       │\n",
       "└───────────┴────────────┴─────────────┴────────────┘"
      ]
     },
     "execution_count": 6,
     "metadata": {},
     "output_type": "execute_result"
    }
   ],
   "source": [
    "(\n",
    "    people_df\n",
    "    .join_asof(\n",
    "        generations_df,\n",
    "        left_on=\"Birth_Year\",\n",
    "        right_on=\"Start_Year\",\n",
    "        # strategy=\"nearest\",\n",
    "        tolerance=5\n",
    "    )\n",
    ")"
   ]
  },
  {
   "cell_type": "markdown",
   "id": "96b901a8-4286-49b0-8fd7-19c8534db162",
   "metadata": {},
   "source": [
    "When no match is made we get a `null` for the `Generation`"
   ]
  },
  {
   "cell_type": "markdown",
   "id": "fe8f8f2f-f7ba-47fa-a605-f649e67d5ab5",
   "metadata": {},
   "source": [
    "## Inequality joins\n",
    "We can join `DataFrames` based on one or more conditions.\n",
    "\n",
    "In this example we have a `DataFrame` of potential customers with their budget and whether they require a swimming pool. We want to find hotels from our database that fit their budget and pool requirement"
   ]
  },
  {
   "cell_type": "code",
   "execution_count": null,
   "id": "10bc7ada-82a8-4c1c-a996-7ded28bee8e6",
   "metadata": {},
   "outputs": [],
   "source": [
    "# Customers with their budgets\n",
    "customers_df = pl.DataFrame({\n",
    "    'customer': ['John', 'Anna', 'Ravi', 'Fatima'],\n",
    "    'budget': [120, 60, 180, 210],\n",
    "    'min_bed_length': [200,180,190,180]\n",
    "})"
   ]
  },
  {
   "cell_type": "markdown",
   "id": "423e227f-f18d-432b-97db-8c38236bb387",
   "metadata": {},
   "source": [
    "We have this `DataFrame` showing the potential hotels "
   ]
  },
  {
   "cell_type": "code",
   "execution_count": null,
   "id": "0b151705-1872-40dd-bb9e-c997cafd2321",
   "metadata": {},
   "outputs": [],
   "source": [
    "hotels_df = pl.DataFrame({\n",
    "    'hotel': ['Budget Inn', 'Comfort Suites', 'Luxury Stay', 'Presidential Palace'],\n",
    "    'price': [50, 100, 150, 200],\n",
    "    'bed_length': [210,185,185,185]\n",
    "})\n"
   ]
  },
  {
   "cell_type": "markdown",
   "id": "95c42b3e-bbc8-403c-9a6e-96ec208cd418",
   "metadata": {},
   "source": [
    "We first join to find all the hotels that meet each customers budget. We provide the predicate to set the inequality. Note that: \n",
    "- the expressions relate to columns in the left and right `DataFrames`\n",
    "- the column names in the expressions cannot be duplicated between the `DataFrames`"
   ]
  },
  {
   "cell_type": "code",
   "execution_count": null,
   "id": "1d058ba5-daa2-44ae-acc8-0516029a1664",
   "metadata": {},
   "outputs": [],
   "source": [
    "(\n",
    "    customers_df\n",
    "    .join_where(\n",
    "        hotels_df,\n",
    "        pl.col(\"budget\") >= pl.col(\"price\"),\n",
    "    )\n",
    "    .select(\"customer\",\"budget\",\"hotel\",\"price\")\n",
    ")"
   ]
  },
  {
   "cell_type": "markdown",
   "id": "0c429e96-64b3-41a3-93fd-a813bd8e656a",
   "metadata": {},
   "source": [
    "Note that the result is equivalent to:\n",
    "- a cross `join` of both `DataFrames`\n",
    "- a `filter` on the output\n",
    "\n",
    "We can also provide multiple predicates. Here we add the bed length condition"
   ]
  },
  {
   "cell_type": "code",
   "execution_count": null,
   "id": "c1a3d685-807a-4f7c-9e64-81e1da481692",
   "metadata": {},
   "outputs": [],
   "source": [
    "(\n",
    "    customers_df\n",
    "    .join_where(\n",
    "        hotels_df,\n",
    "        pl.col(\"budget\") >= pl.col(\"price\"),\n",
    "        pl.col(\"bed_length\") > pl.col(\"min_bed_length\")\n",
    "    )\n",
    ")"
   ]
  },
  {
   "cell_type": "markdown",
   "id": "dd239e41-0ce3-437c-9be6-fb1fae659e3c",
   "metadata": {},
   "source": [
    "## Exercises\n",
    "In the exercises you will develop your understanding of\n",
    "- doing `asof` joins and\n",
    "- doing inequality joins"
   ]
  },
  {
   "cell_type": "markdown",
   "id": "255e8696-1d85-4638-a816-d3c53c85c80b",
   "metadata": {},
   "source": [
    "We read in this dataset of taxi journeys in New York over 10 days"
   ]
  },
  {
   "cell_type": "code",
   "execution_count": 41,
   "id": "2da447bb-af32-433e-9929-6d47a076fa49",
   "metadata": {},
   "outputs": [
    {
     "data": {
      "text/html": [
       "<div><style>\n",
       ".dataframe > thead > tr,\n",
       ".dataframe > tbody > tr {\n",
       "  text-align: right;\n",
       "  white-space: pre-wrap;\n",
       "}\n",
       "</style>\n",
       "<small>shape: (5, 5)</small><table border=\"1\" class=\"dataframe\"><thead><tr><th>VendorID</th><th>pickup</th><th>dropoff</th><th>passenger_count</th><th>trip_distance</th></tr><tr><td>i32</td><td>datetime[μs]</td><td>datetime[μs]</td><td>f32</td><td>f32</td></tr></thead><tbody><tr><td>2</td><td>2022-01-01 00:00:08</td><td>2022-01-01 00:14:14</td><td>1.0</td><td>7.94</td></tr><tr><td>2</td><td>2022-01-01 00:00:11</td><td>2022-01-01 00:14:29</td><td>1.0</td><td>5.55</td></tr><tr><td>2</td><td>2022-01-01 00:00:17</td><td>2022-01-01 00:31:04</td><td>1.0</td><td>3.86</td></tr><tr><td>2</td><td>2022-01-01 00:00:18</td><td>2022-01-01 00:13:27</td><td>1.0</td><td>3.37</td></tr><tr><td>2</td><td>2022-01-01 00:00:20</td><td>2022-01-01 00:20:51</td><td>1.0</td><td>4.89</td></tr></tbody></table></div>"
      ],
      "text/plain": [
       "shape: (5, 5)\n",
       "┌──────────┬─────────────────────┬─────────────────────┬─────────────────┬───────────────┐\n",
       "│ VendorID ┆ pickup              ┆ dropoff             ┆ passenger_count ┆ trip_distance │\n",
       "│ ---      ┆ ---                 ┆ ---                 ┆ ---             ┆ ---           │\n",
       "│ i32      ┆ datetime[μs]        ┆ datetime[μs]        ┆ f32             ┆ f32           │\n",
       "╞══════════╪═════════════════════╪═════════════════════╪═════════════════╪═══════════════╡\n",
       "│ 2        ┆ 2022-01-01 00:00:08 ┆ 2022-01-01 00:14:14 ┆ 1.0             ┆ 7.94          │\n",
       "│ 2        ┆ 2022-01-01 00:00:11 ┆ 2022-01-01 00:14:29 ┆ 1.0             ┆ 5.55          │\n",
       "│ 2        ┆ 2022-01-01 00:00:17 ┆ 2022-01-01 00:31:04 ┆ 1.0             ┆ 3.86          │\n",
       "│ 2        ┆ 2022-01-01 00:00:18 ┆ 2022-01-01 00:13:27 ┆ 1.0             ┆ 3.37          │\n",
       "│ 2        ┆ 2022-01-01 00:00:20 ┆ 2022-01-01 00:20:51 ┆ 1.0             ┆ 4.89          │\n",
       "└──────────┴─────────────────────┴─────────────────────┴─────────────────┴───────────────┘"
      ]
     },
     "execution_count": 41,
     "metadata": {},
     "output_type": "execute_result"
    }
   ],
   "source": [
    "taxi_df = (\n",
    "    pl.read_parquet(\"../data/nyc_trip_data_600k.parquet\")\n",
    "    .sort(\"pickup\")\n",
    ")\n",
    "taxi_df.head()"
   ]
  },
  {
   "cell_type": "markdown",
   "id": "7dd9d8da-e83d-42ca-bd80-6219b99ce0ea",
   "metadata": {},
   "source": [
    "We also load this dataset of hourly weather data from New York with temperature in degrees Celsius and precipitation in mm"
   ]
  },
  {
   "cell_type": "code",
   "execution_count": 74,
   "id": "0f7ea66c-2f08-4991-9f40-f7a352307b48",
   "metadata": {},
   "outputs": [
    {
     "data": {
      "text/html": [
       "<div><style>\n",
       ".dataframe > thead > tr,\n",
       ".dataframe > tbody > tr {\n",
       "  text-align: right;\n",
       "  white-space: pre-wrap;\n",
       "}\n",
       "</style>\n",
       "<small>shape: (5, 3)</small><table border=\"1\" class=\"dataframe\"><thead><tr><th>time</th><th>temperature</th><th>precipitation</th></tr><tr><td>datetime[μs]</td><td>f64</td><td>f64</td></tr></thead><tbody><tr><td>2022-01-01 00:00:00</td><td>8.7</td><td>0.0</td></tr><tr><td>2022-01-01 01:00:00</td><td>8.7</td><td>0.0</td></tr><tr><td>2022-01-01 02:00:00</td><td>8.6</td><td>0.0</td></tr><tr><td>2022-01-01 03:00:00</td><td>8.5</td><td>0.0</td></tr><tr><td>2022-01-01 04:00:00</td><td>8.2</td><td>0.0</td></tr></tbody></table></div>"
      ],
      "text/plain": [
       "shape: (5, 3)\n",
       "┌─────────────────────┬─────────────┬───────────────┐\n",
       "│ time                ┆ temperature ┆ precipitation │\n",
       "│ ---                 ┆ ---         ┆ ---           │\n",
       "│ datetime[μs]        ┆ f64         ┆ f64           │\n",
       "╞═════════════════════╪═════════════╪═══════════════╡\n",
       "│ 2022-01-01 00:00:00 ┆ 8.7         ┆ 0.0           │\n",
       "│ 2022-01-01 01:00:00 ┆ 8.7         ┆ 0.0           │\n",
       "│ 2022-01-01 02:00:00 ┆ 8.6         ┆ 0.0           │\n",
       "│ 2022-01-01 03:00:00 ┆ 8.5         ┆ 0.0           │\n",
       "│ 2022-01-01 04:00:00 ┆ 8.2         ┆ 0.0           │\n",
       "└─────────────────────┴─────────────┴───────────────┘"
      ]
     },
     "execution_count": 74,
     "metadata": {},
     "output_type": "execute_result"
    }
   ],
   "source": [
    "weather_df = (\n",
    "    pl.read_parquet(\"../data/nyc_weather.parquet\")\n",
    ")\n",
    "weather_df.head()"
   ]
  },
  {
   "cell_type": "markdown",
   "id": "5ce5ccf5-8811-47a9-bccd-f2ac5b408c0d",
   "metadata": {},
   "source": [
    "Join the weather data to the taxi data using an appropriate strategy"
   ]
  },
  {
   "cell_type": "code",
   "execution_count": 43,
   "id": "de3d6598-26d5-4598-8ecc-d4b6e69101d6",
   "metadata": {},
   "outputs": [
    {
     "data": {
      "text/html": [
       "<div><style>\n",
       ".dataframe > thead > tr,\n",
       ".dataframe > tbody > tr {\n",
       "  text-align: right;\n",
       "  white-space: pre-wrap;\n",
       "}\n",
       "</style>\n",
       "<small>shape: (5, 8)</small><table border=\"1\" class=\"dataframe\"><thead><tr><th>VendorID</th><th>pickup</th><th>dropoff</th><th>passenger_count</th><th>trip_distance</th><th>time</th><th>temperature</th><th>precipitation</th></tr><tr><td>i32</td><td>datetime[μs]</td><td>datetime[μs]</td><td>f32</td><td>f32</td><td>datetime[μs]</td><td>f64</td><td>f64</td></tr></thead><tbody><tr><td>2</td><td>2022-01-01 00:00:08</td><td>2022-01-01 00:14:14</td><td>1.0</td><td>7.94</td><td>2022-01-01 00:00:00</td><td>8.7</td><td>0.0</td></tr><tr><td>2</td><td>2022-01-01 00:00:11</td><td>2022-01-01 00:14:29</td><td>1.0</td><td>5.55</td><td>2022-01-01 00:00:00</td><td>8.7</td><td>0.0</td></tr><tr><td>2</td><td>2022-01-01 00:00:17</td><td>2022-01-01 00:31:04</td><td>1.0</td><td>3.86</td><td>2022-01-01 00:00:00</td><td>8.7</td><td>0.0</td></tr><tr><td>2</td><td>2022-01-01 00:00:18</td><td>2022-01-01 00:13:27</td><td>1.0</td><td>3.37</td><td>2022-01-01 00:00:00</td><td>8.7</td><td>0.0</td></tr><tr><td>2</td><td>2022-01-01 00:00:20</td><td>2022-01-01 00:20:51</td><td>1.0</td><td>4.89</td><td>2022-01-01 00:00:00</td><td>8.7</td><td>0.0</td></tr></tbody></table></div>"
      ],
      "text/plain": [
       "shape: (5, 8)\n",
       "┌──────────┬────────────┬────────────┬────────────┬────────────┬───────────┬───────────┬───────────┐\n",
       "│ VendorID ┆ pickup     ┆ dropoff    ┆ passenger_ ┆ trip_dista ┆ time      ┆ temperatu ┆ precipita │\n",
       "│ ---      ┆ ---        ┆ ---        ┆ count      ┆ nce        ┆ ---       ┆ re        ┆ tion      │\n",
       "│ i32      ┆ datetime[μ ┆ datetime[μ ┆ ---        ┆ ---        ┆ datetime[ ┆ ---       ┆ ---       │\n",
       "│          ┆ s]         ┆ s]         ┆ f32        ┆ f32        ┆ μs]       ┆ f64       ┆ f64       │\n",
       "╞══════════╪════════════╪════════════╪════════════╪════════════╪═══════════╪═══════════╪═══════════╡\n",
       "│ 2        ┆ 2022-01-01 ┆ 2022-01-01 ┆ 1.0        ┆ 7.94       ┆ 2022-01-0 ┆ 8.7       ┆ 0.0       │\n",
       "│          ┆ 00:00:08   ┆ 00:14:14   ┆            ┆            ┆ 1         ┆           ┆           │\n",
       "│          ┆            ┆            ┆            ┆            ┆ 00:00:00  ┆           ┆           │\n",
       "│ 2        ┆ 2022-01-01 ┆ 2022-01-01 ┆ 1.0        ┆ 5.55       ┆ 2022-01-0 ┆ 8.7       ┆ 0.0       │\n",
       "│          ┆ 00:00:11   ┆ 00:14:29   ┆            ┆            ┆ 1         ┆           ┆           │\n",
       "│          ┆            ┆            ┆            ┆            ┆ 00:00:00  ┆           ┆           │\n",
       "│ 2        ┆ 2022-01-01 ┆ 2022-01-01 ┆ 1.0        ┆ 3.86       ┆ 2022-01-0 ┆ 8.7       ┆ 0.0       │\n",
       "│          ┆ 00:00:17   ┆ 00:31:04   ┆            ┆            ┆ 1         ┆           ┆           │\n",
       "│          ┆            ┆            ┆            ┆            ┆ 00:00:00  ┆           ┆           │\n",
       "│ 2        ┆ 2022-01-01 ┆ 2022-01-01 ┆ 1.0        ┆ 3.37       ┆ 2022-01-0 ┆ 8.7       ┆ 0.0       │\n",
       "│          ┆ 00:00:18   ┆ 00:13:27   ┆            ┆            ┆ 1         ┆           ┆           │\n",
       "│          ┆            ┆            ┆            ┆            ┆ 00:00:00  ┆           ┆           │\n",
       "│ 2        ┆ 2022-01-01 ┆ 2022-01-01 ┆ 1.0        ┆ 4.89       ┆ 2022-01-0 ┆ 8.7       ┆ 0.0       │\n",
       "│          ┆ 00:00:20   ┆ 00:20:51   ┆            ┆            ┆ 1         ┆           ┆           │\n",
       "│          ┆            ┆            ┆            ┆            ┆ 00:00:00  ┆           ┆           │\n",
       "└──────────┴────────────┴────────────┴────────────┴────────────┴───────────┴───────────┴───────────┘"
      ]
     },
     "execution_count": 43,
     "metadata": {},
     "output_type": "execute_result"
    }
   ],
   "source": [
    "df = (\n",
    "    taxi_df\n",
    "    <blank>\n",
    ")\n",
    "df.head()"
   ]
  },
  {
   "cell_type": "markdown",
   "id": "efb10d7c-0598-4400-982c-64c49340cfb0",
   "metadata": {},
   "source": [
    "Make a bar chart of the relationship between `precipitation` and `trip_distance`:\n",
    "- first group by precipitation (rounded off to one decimal place)\n",
    "- take the mean of trip distance\n",
    "- make a bar chart with precipitation on the x-axis and trip distance on the y-axis\n",
    "- add an appropriate title to the chart"
   ]
  },
  {
   "cell_type": "code",
   "execution_count": 90,
   "id": "a37f47eb-9ee5-49a3-9efa-ba82b441cf30",
   "metadata": {},
   "outputs": [
    {
     "data": {
      "text/html": [
       "\n",
       "<style>\n",
       "  #altair-viz-3b6b15e8d07145e8bd49ffc5818e4466.vega-embed {\n",
       "    width: 100%;\n",
       "    display: flex;\n",
       "  }\n",
       "\n",
       "  #altair-viz-3b6b15e8d07145e8bd49ffc5818e4466.vega-embed details,\n",
       "  #altair-viz-3b6b15e8d07145e8bd49ffc5818e4466.vega-embed details summary {\n",
       "    position: relative;\n",
       "  }\n",
       "</style>\n",
       "<div id=\"altair-viz-3b6b15e8d07145e8bd49ffc5818e4466\"></div>\n",
       "<script type=\"text/javascript\">\n",
       "  var VEGA_DEBUG = (typeof VEGA_DEBUG == \"undefined\") ? {} : VEGA_DEBUG;\n",
       "  (function(spec, embedOpt){\n",
       "    let outputDiv = document.currentScript.previousElementSibling;\n",
       "    if (outputDiv.id !== \"altair-viz-3b6b15e8d07145e8bd49ffc5818e4466\") {\n",
       "      outputDiv = document.getElementById(\"altair-viz-3b6b15e8d07145e8bd49ffc5818e4466\");\n",
       "    }\n",
       "    const paths = {\n",
       "      \"vega\": \"https://cdn.jsdelivr.net/npm/vega@5?noext\",\n",
       "      \"vega-lib\": \"https://cdn.jsdelivr.net/npm/vega-lib?noext\",\n",
       "      \"vega-lite\": \"https://cdn.jsdelivr.net/npm/vega-lite@5.20.1?noext\",\n",
       "      \"vega-embed\": \"https://cdn.jsdelivr.net/npm/vega-embed@6?noext\",\n",
       "    };\n",
       "\n",
       "    function maybeLoadScript(lib, version) {\n",
       "      var key = `${lib.replace(\"-\", \"\")}_version`;\n",
       "      return (VEGA_DEBUG[key] == version) ?\n",
       "        Promise.resolve(paths[lib]) :\n",
       "        new Promise(function(resolve, reject) {\n",
       "          var s = document.createElement('script');\n",
       "          document.getElementsByTagName(\"head\")[0].appendChild(s);\n",
       "          s.async = true;\n",
       "          s.onload = () => {\n",
       "            VEGA_DEBUG[key] = version;\n",
       "            return resolve(paths[lib]);\n",
       "          };\n",
       "          s.onerror = () => reject(`Error loading script: ${paths[lib]}`);\n",
       "          s.src = paths[lib];\n",
       "        });\n",
       "    }\n",
       "\n",
       "    function showError(err) {\n",
       "      outputDiv.innerHTML = `<div class=\"error\" style=\"color:red;\">${err}</div>`;\n",
       "      throw err;\n",
       "    }\n",
       "\n",
       "    function displayChart(vegaEmbed) {\n",
       "      vegaEmbed(outputDiv, spec, embedOpt)\n",
       "        .catch(err => showError(`Javascript Error: ${err.message}<br>This usually means there's a typo in your chart specification. See the javascript console for the full traceback.`));\n",
       "    }\n",
       "\n",
       "    if(typeof define === \"function\" && define.amd) {\n",
       "      requirejs.config({paths});\n",
       "      require([\"vega-embed\"], displayChart, err => showError(`Error loading script: ${err.message}`));\n",
       "    } else {\n",
       "      maybeLoadScript(\"vega\", \"5\")\n",
       "        .then(() => maybeLoadScript(\"vega-lite\", \"5.20.1\"))\n",
       "        .then(() => maybeLoadScript(\"vega-embed\", \"6\"))\n",
       "        .catch(showError)\n",
       "        .then(() => displayChart(vegaEmbed));\n",
       "    }\n",
       "  })({\"config\": {\"view\": {\"continuousWidth\": 300, \"continuousHeight\": 300}}, \"data\": {\"name\": \"data-b9c1a7440b70b1a472e69a34eef0e942\"}, \"mark\": {\"type\": \"bar\"}, \"encoding\": {\"tooltip\": [{\"field\": \"precipitation\", \"type\": \"quantitative\"}, {\"field\": \"trip_distance\", \"type\": \"quantitative\"}], \"x\": {\"field\": \"precipitation\", \"type\": \"quantitative\"}, \"y\": {\"field\": \"trip_distance\", \"type\": \"quantitative\"}}, \"params\": [{\"name\": \"param_21\", \"select\": {\"type\": \"interval\", \"encodings\": [\"x\", \"y\"]}, \"bind\": \"scales\"}], \"title\": \"Mean trip distance by precipitation level in mm\", \"$schema\": \"https://vega.github.io/schema/vega-lite/v5.20.1.json\", \"datasets\": {\"data-b9c1a7440b70b1a472e69a34eef0e942\": [{\"precipitation\": 1.2, \"trip_distance\": 2.8510286808013916}, {\"precipitation\": 0.0, \"trip_distance\": 5.089772701263428}, {\"precipitation\": 0.3, \"trip_distance\": 4.07896614074707}, {\"precipitation\": 0.7, \"trip_distance\": 9.03319263458252}, {\"precipitation\": 0.1, \"trip_distance\": 3.56023907661438}, {\"precipitation\": 0.5, \"trip_distance\": 3.6949143409729004}, {\"precipitation\": 0.9, \"trip_distance\": 3.5859463214874268}, {\"precipitation\": 0.4, \"trip_distance\": 3.4967777729034424}, {\"precipitation\": 3.7, \"trip_distance\": 6.569968223571777}, {\"precipitation\": 1.6, \"trip_distance\": 3.5265755653381348}, {\"precipitation\": 1.1, \"trip_distance\": 4.035181999206543}, {\"precipitation\": 0.2, \"trip_distance\": 7.082399845123291}, {\"precipitation\": 0.6, \"trip_distance\": 8.147648811340332}, {\"precipitation\": 2.6, \"trip_distance\": 4.098473072052002}, {\"precipitation\": 1.0, \"trip_distance\": 3.397768020629883}, {\"precipitation\": 4.0, \"trip_distance\": 4.2203145027160645}, {\"precipitation\": 0.8, \"trip_distance\": 7.278881072998047}, {\"precipitation\": 4.2, \"trip_distance\": 4.993610858917236}]}}, {\"mode\": \"vega-lite\"});\n",
       "</script>"
      ],
      "text/plain": [
       "alt.Chart(...)"
      ]
     },
     "execution_count": 90,
     "metadata": {},
     "output_type": "execute_result"
    }
   ],
   "source": [
    "(\n",
    "    df\n",
    "    <blank>\n",
    ")"
   ]
  },
  {
   "cell_type": "markdown",
   "id": "9ccba3be-3fe4-4eeb-8b28-fcb1308991dc",
   "metadata": {},
   "source": [
    "## Solutions\n",
    "\n",
    "### Solution to exercise 1"
   ]
  },
  {
   "cell_type": "code",
   "execution_count": 91,
   "id": "be8f7755-2f7b-4fd9-a473-def1feb3f7d2",
   "metadata": {},
   "outputs": [
    {
     "data": {
      "text/html": [
       "<div><style>\n",
       ".dataframe > thead > tr,\n",
       ".dataframe > tbody > tr {\n",
       "  text-align: right;\n",
       "  white-space: pre-wrap;\n",
       "}\n",
       "</style>\n",
       "<small>shape: (5, 5)</small><table border=\"1\" class=\"dataframe\"><thead><tr><th>VendorID</th><th>pickup</th><th>dropoff</th><th>passenger_count</th><th>trip_distance</th></tr><tr><td>i32</td><td>datetime[μs]</td><td>datetime[μs]</td><td>f32</td><td>f32</td></tr></thead><tbody><tr><td>2</td><td>2022-01-01 00:00:08</td><td>2022-01-01 00:14:14</td><td>1.0</td><td>7.94</td></tr><tr><td>2</td><td>2022-01-01 00:00:11</td><td>2022-01-01 00:14:29</td><td>1.0</td><td>5.55</td></tr><tr><td>2</td><td>2022-01-01 00:00:17</td><td>2022-01-01 00:31:04</td><td>1.0</td><td>3.86</td></tr><tr><td>2</td><td>2022-01-01 00:00:18</td><td>2022-01-01 00:13:27</td><td>1.0</td><td>3.37</td></tr><tr><td>2</td><td>2022-01-01 00:00:20</td><td>2022-01-01 00:20:51</td><td>1.0</td><td>4.89</td></tr></tbody></table></div>"
      ],
      "text/plain": [
       "shape: (5, 5)\n",
       "┌──────────┬─────────────────────┬─────────────────────┬─────────────────┬───────────────┐\n",
       "│ VendorID ┆ pickup              ┆ dropoff             ┆ passenger_count ┆ trip_distance │\n",
       "│ ---      ┆ ---                 ┆ ---                 ┆ ---             ┆ ---           │\n",
       "│ i32      ┆ datetime[μs]        ┆ datetime[μs]        ┆ f32             ┆ f32           │\n",
       "╞══════════╪═════════════════════╪═════════════════════╪═════════════════╪═══════════════╡\n",
       "│ 2        ┆ 2022-01-01 00:00:08 ┆ 2022-01-01 00:14:14 ┆ 1.0             ┆ 7.94          │\n",
       "│ 2        ┆ 2022-01-01 00:00:11 ┆ 2022-01-01 00:14:29 ┆ 1.0             ┆ 5.55          │\n",
       "│ 2        ┆ 2022-01-01 00:00:17 ┆ 2022-01-01 00:31:04 ┆ 1.0             ┆ 3.86          │\n",
       "│ 2        ┆ 2022-01-01 00:00:18 ┆ 2022-01-01 00:13:27 ┆ 1.0             ┆ 3.37          │\n",
       "│ 2        ┆ 2022-01-01 00:00:20 ┆ 2022-01-01 00:20:51 ┆ 1.0             ┆ 4.89          │\n",
       "└──────────┴─────────────────────┴─────────────────────┴─────────────────┴───────────────┘"
      ]
     },
     "execution_count": 91,
     "metadata": {},
     "output_type": "execute_result"
    }
   ],
   "source": [
    "taxi_df = (\n",
    "    pl.read_parquet(\"../data/nyc_trip_data_600k.parquet\")\n",
    "    .sort(\"pickup\")\n",
    ")\n",
    "taxi_df.head()"
   ]
  },
  {
   "cell_type": "code",
   "execution_count": null,
   "id": "0e224a94-0c57-4ecc-a4e1-9245f47c123a",
   "metadata": {},
   "outputs": [],
   "source": [
    "weather_df = (\n",
    "    pl.read_parquet(\"../data/nyc_weather.parquet\")\n",
    ")\n",
    "weather_df.head()"
   ]
  },
  {
   "cell_type": "markdown",
   "id": "e2c4197d-15f6-40e9-a92d-721b221c94a1",
   "metadata": {},
   "source": [
    "Join the weather data to the taxi data using an appropriate strategy - we use nearest as this gives the most physically relevant value of weather for each ride"
   ]
  },
  {
   "cell_type": "code",
   "execution_count": null,
   "id": "54432a27-0c51-43fc-8b99-6ac731e6fca2",
   "metadata": {},
   "outputs": [],
   "source": [
    "df = (\n",
    "    taxi_df\n",
    "    .join_asof(\n",
    "        weather_df,\n",
    "        left_on=\"pickup\",\n",
    "        right_on=\"time\",\n",
    "        strategy=\"nearest\"\n",
    "    )\n",
    ")\n",
    "df.head()"
   ]
  },
  {
   "cell_type": "markdown",
   "id": "104103fb-9721-47a0-9511-87bc6f01d5c5",
   "metadata": {},
   "source": [
    "Make a bar chart of the relationship between `precipitation` and `trip_distance`:\n",
    "- first group by precipitation (rounded off to one decimal place)\n",
    "- take the mean of trip distance\n",
    "- make a bar chart with precipitation on the x-axis and trip distance on the y-axis\n",
    "- add an appropriate title to the chart"
   ]
  },
  {
   "cell_type": "code",
   "execution_count": null,
   "id": "ab363f7e-2c2f-40dc-9d9e-e44b5de42a41",
   "metadata": {},
   "outputs": [],
   "source": [
    "(\n",
    "    df\n",
    "    .group_by(\n",
    "        pl.col(\"precipitation\").round(1)\n",
    "    )\n",
    "    .agg(\n",
    "        pl.col(\"trip_distance\").mean()\n",
    "    )\n",
    "    .plot\n",
    "    .bar(\n",
    "        x=\"precipitation\",\n",
    "        y=\"trip_distance\",\n",
    "    )\n",
    "    .properties(\n",
    "        title=\"Mean trip distance by precipitation level in mm\"\n",
    "    )\n",
    ")"
   ]
  }
 ],
 "metadata": {
  "kernelspec": {
   "display_name": "Python 3 (ipykernel)",
   "language": "python",
   "name": "python3"
  },
  "language_info": {
   "codemirror_mode": {
    "name": "ipython",
    "version": 3
   },
   "file_extension": ".py",
   "mimetype": "text/x-python",
   "name": "python",
   "nbconvert_exporter": "python",
   "pygments_lexer": "ipython3",
   "version": "3.10.1"
  }
 },
 "nbformat": 4,
 "nbformat_minor": 5
}
