{
 "cells": [
  {
   "cell_type": "markdown",
   "id": "cc56da49-453a-4d6f-9fbf-e868d8002cb1",
   "metadata": {},
   "source": [
    "# Time series preliminaries\n",
    "By the end of this lecture you will be able to:\n",
    "- use python `datetime` objects\n",
    "- create a date range in Polars\n",
    "\n",
    "Specifying dates and times as strings is failure-prone as a given string can map too different dates depending on the formatting used. As such the Polars developers have decided to not allow strings to be used in the library.\n",
    "\n",
    "Instead in Polars dates and times are specified using python's built-in `datetime` module. We import these from the `datetime` module"
   ]
  },
  {
   "cell_type": "code",
   "execution_count": null,
   "id": "89f8d8a8-9a51-44c0-ab84-a6876149b268",
   "metadata": {},
   "outputs": [],
   "source": [
    "from datetime import datetime,date,time,timedelta\n",
    "\n",
    "import polars as pl"
   ]
  },
  {
   "cell_type": "markdown",
   "id": "d152a07e-bbf5-401a-b820-84f427d47262",
   "metadata": {},
   "source": [
    "## Datetimes\n",
    "A datetime is a combination of a date and a time that can be specified down to microseconds.\n",
    "\n",
    "### Creating a datetime\n",
    "We create a `datetime` object by specifying at least the year, month and day and optionally the hour, minute, second and microsecond.  Here we create a datetime for 2023/02/02 12:00:03.000001"
   ]
  },
  {
   "cell_type": "code",
   "execution_count": null,
   "id": "b4f98247-3eef-4c09-b427-5836c35b9e32",
   "metadata": {},
   "outputs": [],
   "source": [
    "dt = datetime(2023,2,1,12,0,3,1)\n",
    "dt"
   ]
  },
  {
   "cell_type": "markdown",
   "id": "31501ca9-863f-441e-86d0-ba311f0ffe13",
   "metadata": {},
   "source": [
    "### Accessing Date and Time Components\n",
    "A datetime object allows you to access individual components of the date and time:\n",
    "\n"
   ]
  },
  {
   "cell_type": "code",
   "execution_count": null,
   "id": "00da1cef-e0ae-4812-96af-5d19972b3a74",
   "metadata": {},
   "outputs": [],
   "source": [
    "year = dt.year\n",
    "month = dt.month\n",
    "day = dt.day\n",
    "hour = dt.hour\n",
    "minute = dt.minute\n",
    "second = dt.second\n",
    "\n",
    "print(f\"Year: {year}, Month: {month}, Day: {day}, Hour: {hour}, Minute: {minute}, Second: {second}\")"
   ]
  },
  {
   "cell_type": "markdown",
   "id": "2e7dd1e8-b778-4406-817a-74cfc39d2e1b",
   "metadata": {},
   "source": [
    "We can use the `datetime` sub-module to get the current datetime with the `now` method"
   ]
  },
  {
   "cell_type": "code",
   "execution_count": null,
   "id": "9044e6ae-a0b8-454e-8a2b-a71980103ccf",
   "metadata": {},
   "outputs": [],
   "source": [
    "datetime.now()"
   ]
  },
  {
   "cell_type": "markdown",
   "id": "85892397-4816-4d92-a18e-0037c04cdf13",
   "metadata": {},
   "source": [
    "### Timestamps\n",
    "All datetime objects are stored internally as counts from the start of the Unix epoch on 1st January 1970. We can get this underlying representation for a `datetime` object with the `timestamp` method"
   ]
  },
  {
   "cell_type": "code",
   "execution_count": null,
   "id": "bab92589-13c8-48c3-b03d-5ac141362328",
   "metadata": {},
   "outputs": [],
   "source": [
    "dt.timestamp()"
   ]
  },
  {
   "cell_type": "markdown",
   "id": "bf66982d-205d-4a5a-8db8-4f9af4d06739",
   "metadata": {},
   "source": [
    "To create a datetime object from a timestamp, you can use the fromtimestamp method of the datetime class. This method converts a timestamp to a datetime object representing the corresponding date and time"
   ]
  },
  {
   "cell_type": "code",
   "execution_count": null,
   "id": "79dc9810-4ab2-4d12-966b-6d07198313cb",
   "metadata": {},
   "outputs": [],
   "source": [
    "timestamp = 1672531200\n",
    "\n",
    "datetime.fromtimestamp(timestamp)"
   ]
  },
  {
   "cell_type": "markdown",
   "id": "1957bb0b-a5df-48d7-b96b-4fd0e0fd09fe",
   "metadata": {},
   "source": [
    "### Formatting datetime objects\n",
    "The strftime method allows you to format a datetime object into a string:"
   ]
  },
  {
   "cell_type": "code",
   "execution_count": null,
   "id": "a5a9779e-171c-4847-986f-7f25ac9368ce",
   "metadata": {},
   "outputs": [],
   "source": [
    "dt.strftime(\"%Y-%m-%d %H:%M:%S\")"
   ]
  },
  {
   "cell_type": "markdown",
   "id": "380b88b0-33ad-418e-894b-d97e4c9ca690",
   "metadata": {},
   "source": [
    "You can use various format codes to customize the output. Some commonly used format codes include:\n",
    "\n",
    "- %Y: Year with century as a decimal number.\n",
    "- %m: Month as a zero-padded decimal number.\n",
    "- %d: Day of the month as a zero-padded decimal number.\n",
    "- %H: Hour (24-hour clock) as a zero-padded decimal number.\n",
    "- %M: Minute as a zero-padded decimal number.\n",
    "- %S: Second as a zero-padded decimal number.\n",
    "\n",
    "### Parsing strings into datetime objects\n",
    "The strptime method allows you to create a datetime object from a string representing a date and time:"
   ]
  },
  {
   "cell_type": "code",
   "execution_count": null,
   "id": "ed5eb99d-d264-4687-ae83-4a110b355258",
   "metadata": {},
   "outputs": [],
   "source": [
    "date_string = \"2023-01-01 12:00:00\"\n",
    "datetime.strptime(date_string, \"%Y-%m-%d %H:%M:%S\")"
   ]
  },
  {
   "cell_type": "markdown",
   "id": "9b544aa2-d4fa-4b26-9140-eb2b1c194bb4",
   "metadata": {},
   "source": [
    "## Dates\n",
    "The datetime.date class provides methods for creating, manipulating, and formatting date objects.\n",
    "\n",
    "### Creating date objects\n",
    "To create a date object, you can use the date class constructor. Here is an example:"
   ]
  },
  {
   "cell_type": "code",
   "execution_count": null,
   "id": "e00c3fc5-783b-455c-9545-4890c1c1d0f2",
   "metadata": {},
   "outputs": [],
   "source": [
    "date(2023,2,1)"
   ]
  },
  {
   "cell_type": "markdown",
   "id": "4e842cfd-a3ca-42d7-bd06-6d66b32d02b3",
   "metadata": {},
   "source": [
    "### Getting the Current Date\n",
    "You can get the current date using the today() method:"
   ]
  },
  {
   "cell_type": "code",
   "execution_count": null,
   "id": "c38a3630-b364-4d78-bd60-c9838c7caf53",
   "metadata": {},
   "outputs": [],
   "source": [
    "date.today()"
   ]
  },
  {
   "cell_type": "markdown",
   "id": "990891f6-7f21-415b-941d-58c3562f4001",
   "metadata": {},
   "source": [
    "### Accessing Date Components\n",
    "A date object allows you to access individual components of the date:"
   ]
  },
  {
   "cell_type": "code",
   "execution_count": null,
   "id": "e6298d9a-32f8-46da-b851-9b31b6930614",
   "metadata": {},
   "outputs": [],
   "source": [
    "date_obj = date(2023,2,1)\n",
    "\n",
    "year = date_obj.year\n",
    "month = date_obj.month\n",
    "day = date_obj.day\n",
    "\n",
    "print(f\"Year: {year}, Month: {month}, Day: {day}\")"
   ]
  },
  {
   "cell_type": "markdown",
   "id": "d7e2d365-a6d3-49d0-824f-4a337fd817ab",
   "metadata": {},
   "source": [
    "### Formatting date objects\n",
    "The strftime method allows you to format a date object into a string:"
   ]
  },
  {
   "cell_type": "code",
   "execution_count": null,
   "id": "41a8cbec-8132-408f-8ab3-ac91d5adf460",
   "metadata": {},
   "outputs": [],
   "source": [
    "date_obj.strftime(\"%Y-%m-%d\")"
   ]
  },
  {
   "cell_type": "markdown",
   "id": "a0d74d69-cba7-40bf-ae52-c83d8fd4130d",
   "metadata": {},
   "source": [
    "As with datetime objects, you can use various format codes to customize the output. Some commonly used format codes include:\n",
    "\n",
    "- %Y: Year with century as a decimal number.\n",
    "- %m: Month as a zero-padded decimal number.\n",
    "- %d: Day of the month as a zero-padded decimal number.\n",
    "\n",
    "### Parsing Strings into date objects\n",
    "The strptime method of the datetime module can be used to create a date object from a string representing a date:"
   ]
  },
  {
   "cell_type": "code",
   "execution_count": null,
   "id": "bef5d715-d651-415e-8b34-9e87cc94d9d8",
   "metadata": {},
   "outputs": [],
   "source": [
    "date_string = \"2023-01-01\"\n",
    "datetime.strptime(date_string, \"%Y-%m-%d\").date()"
   ]
  },
  {
   "cell_type": "markdown",
   "id": "a73b9a81-ac6b-47ef-8bf5-5114847547be",
   "metadata": {},
   "source": [
    "### Creating date objects from timestamps\n",
    "You can create date objects from timestamps using the fromtimestamp method, which is useful when working with data stored as Unix timestamps:"
   ]
  },
  {
   "cell_type": "code",
   "execution_count": null,
   "id": "6963642c-202b-442c-a95a-f886b01852fb",
   "metadata": {},
   "outputs": [],
   "source": [
    "timestamp = 1672531200  # Corresponds to 2023-01-01\n",
    "date.fromtimestamp(timestamp)"
   ]
  },
  {
   "cell_type": "markdown",
   "id": "a251de1b-beac-4543-8cac-a3a0075f37bd",
   "metadata": {},
   "source": [
    "## Times\n",
    "Next, we'll focus on the datetime.time class, which is designed to handle time (hours, minutes, seconds, and microseconds) without any reference to a date.\n",
    "\n",
    "The datetime.time class provides methods for creating, manipulating, and formatting time objects. This class is useful when you need to work with times independently of dates.\n",
    "\n",
    "### Creating time objects\n",
    "To create a time object, you can use the time class constructor. Here is an example where we create a `time` object by specifying the hour and optionally the minute, second and microsecond"
   ]
  },
  {
   "cell_type": "code",
   "execution_count": null,
   "id": "a0ea30d9-7aaa-43c1-bf50-f1b8f6ca089a",
   "metadata": {},
   "outputs": [],
   "source": [
    "time(14, 30, 0)"
   ]
  },
  {
   "cell_type": "markdown",
   "id": "b80af98a-78fe-4d36-a0dc-3063335dba14",
   "metadata": {},
   "source": [
    "### Accessing Time Components\n",
    "A time object allows you to access individual components of the time:"
   ]
  },
  {
   "cell_type": "code",
   "execution_count": null,
   "id": "bc195900-1417-4bef-afd5-4123cc53c59b",
   "metadata": {},
   "outputs": [],
   "source": [
    "time_obj = time(14, 30, 0)\n",
    "\n",
    "hour = time_obj.hour\n",
    "minute = time_obj.minute\n",
    "second = time_obj.second\n",
    "microsecond = time_obj.microsecond\n",
    "\n",
    "print(f\"Hour: {hour}, Minute: {minute}, Second: {second}, Microsecond: {microsecond}\")\n"
   ]
  },
  {
   "cell_type": "markdown",
   "id": "0915e447-870f-4d51-b614-090abc9c1c4d",
   "metadata": {},
   "source": [
    "### Formatting time objects\n",
    "The strftime method allows you to format a time object into a string:"
   ]
  },
  {
   "cell_type": "code",
   "execution_count": null,
   "id": "a0a93a2a-a995-4d30-a1e5-4bef6fa8a318",
   "metadata": {},
   "outputs": [],
   "source": [
    "time_obj.strftime(\"%H:%M:%S\")"
   ]
  },
  {
   "cell_type": "markdown",
   "id": "43effe39-1453-43b8-9140-44d3b0437157",
   "metadata": {},
   "source": [
    "As with datetime and date objects, you can use various format codes to customize the output. Some commonly used format codes include:\n",
    "\n",
    "- %H: Hour (24-hour clock) as a zero-padded decimal number.\n",
    "- %M: Minute as a zero-padded decimal number.\n",
    "- %S: Second as a zero-padded decimal number.\n",
    "- %f: Microsecond as a decimal number, zero-padded on the left."
   ]
  },
  {
   "cell_type": "markdown",
   "id": "3bbdf25a-2fba-4b4b-b680-f9b84d0bdaf9",
   "metadata": {},
   "source": [
    "### Parsing strings into time objects\n",
    "The strptime method of the datetime module can be used to create a time object from a string representing a time:"
   ]
  },
  {
   "cell_type": "code",
   "execution_count": null,
   "id": "0ff3f81a-2faa-4bde-9e59-9098f4e497a2",
   "metadata": {},
   "outputs": [],
   "source": [
    "time_string = \"14:30:00\"\n",
    "datetime.strptime(time_string, \"%H:%M:%S\").time()"
   ]
  },
  {
   "cell_type": "markdown",
   "id": "363bcab6-6c58-4e38-8918-226fe32a50da",
   "metadata": {},
   "source": [
    "## Duration / time difference\n",
    "Next, we'll focus on the `datetime.timedelta` class, which is designed to represent the difference between two dates or times. This class is essential for performing arithmetic operations involving dates and times or comparing dates and times.\n",
    "\n",
    "The datetime.timedelta class represents a duration, which is the difference between two dates, times, or datetime objects. It provides methods for creating, manipulating, and performing arithmetic operations on time durations.\n",
    "\n",
    "### Creating timedelta objects\n",
    "To create a timedelta object, you can use the timedelta class constructor. The constructor accepts several keyword arguments, including days, seconds, microseconds, milliseconds, minutes, hours, and weeks"
   ]
  },
  {
   "cell_type": "code",
   "execution_count": null,
   "id": "57600347-77da-46f6-b3ed-53ca835059fe",
   "metadata": {},
   "outputs": [],
   "source": [
    "timedelta(days=1,seconds=15)"
   ]
  },
  {
   "cell_type": "markdown",
   "id": "88b9934e-3883-4f85-85c4-a957a4ecd6de",
   "metadata": {},
   "source": [
    "You can create a `timedelta` object by taking the difference between datetimes"
   ]
  },
  {
   "cell_type": "code",
   "execution_count": null,
   "id": "1b8a3e1f-5212-4342-b4da-a70ab1c4be3d",
   "metadata": {},
   "outputs": [],
   "source": [
    "datetime(2023,1,1) - datetime(2022,1,1)"
   ]
  },
  {
   "cell_type": "markdown",
   "id": "bc42f3a8-0454-4fd5-a977-87a3db206857",
   "metadata": {},
   "source": [
    "or dates"
   ]
  },
  {
   "cell_type": "code",
   "execution_count": null,
   "id": "729e3e71-1704-45d6-8c2c-0f79ba87d4c7",
   "metadata": {},
   "outputs": [],
   "source": [
    "date(2023,1,1) - date(2022,1,1)"
   ]
  },
  {
   "cell_type": "markdown",
   "id": "373fcf7b-fc73-4e51-8862-84eaca02104b",
   "metadata": {},
   "source": [
    "We can compare `timedeltas` with standard comparison operators "
   ]
  },
  {
   "cell_type": "code",
   "execution_count": null,
   "id": "2ec2079e-fcf8-45b8-9c07-19396777cb7c",
   "metadata": {},
   "outputs": [],
   "source": [
    "(date(2023,1,1) - date(2020,1,1)) > (date(2023,1,1) - date(2022,1,1))"
   ]
  },
  {
   "cell_type": "markdown",
   "id": "f448f322-0c12-43d5-adcf-b32c585183a6",
   "metadata": {},
   "source": [
    "### Getting the Total Duration\n",
    "You can get the total duration represented by a timedelta object using the total_seconds method"
   ]
  },
  {
   "cell_type": "code",
   "execution_count": null,
   "id": "9ad1db7e-46ab-4660-a389-431b54ea1e5c",
   "metadata": {},
   "outputs": [],
   "source": [
    "dt = timedelta(days=1,seconds=15)\n",
    "dt.total_seconds()"
   ]
  },
  {
   "cell_type": "markdown",
   "id": "cd99d684-7fcc-47df-a8e9-571c33b383e4",
   "metadata": {},
   "source": [
    "Be aware that there is also a `seconds` attribute - but this only holds the seconds part of the duration.  It does not include the full duration in terms of days or microseconds."
   ]
  },
  {
   "cell_type": "markdown",
   "id": "2f3e00ba-2f92-4683-a156-1cdf97007dde",
   "metadata": {},
   "source": [
    "Note that the largest interval in `timedelta` is days. This means `timedelta` does not have to deal with tricky things like months. For example, consider that if we added one month to 1st February we would expect to get 1st March. But if we add one month to 28th February do we expect to get 28th March or 31st March. Polars has ways to deal with this ambiguity that we see later."
   ]
  },
  {
   "cell_type": "markdown",
   "id": "6ea544d7-ced4-42b2-a407-3165a845f76b",
   "metadata": {},
   "source": [
    "Polars also has its own string intervals:\n",
    "- \"ns\"\n",
    "- \"us\"\n",
    "- \"ms\"\n",
    "- \"s\"\n",
    "- \"m\"\n",
    "- \"h\"\n",
    "- \"d\"\n",
    "- \"w\"\n",
    "- \"mo\"\n",
    "- \"y\"\n",
    "\n",
    "So one week would be \"1w\".\n",
    "\n",
    "These can also be concatenated so 1 day 3 hours is \"1d3h\"\n",
    "\n",
    "We learn more about these intervals later in the time series section."
   ]
  },
  {
   "cell_type": "markdown",
   "id": "e2a3bc93-d87d-434b-9799-815e581ce1b2",
   "metadata": {},
   "source": [
    "## Creating a datetime range\n",
    "There are a number of ways to create a datetime range in Polars. We introduce the simplest way here.\n",
    "\n",
    "We first specify our start, end and interval with `datetime` module objects"
   ]
  },
  {
   "cell_type": "code",
   "execution_count": null,
   "id": "7eae0759-c709-46c4-9177-d5cb535a3413",
   "metadata": {},
   "outputs": [],
   "source": [
    "start_datetime = datetime(2023,1,1)\n",
    "end_datetime = datetime(2023,1,1,4)\n",
    "hourly_interval = timedelta(hours=1)"
   ]
  },
  {
   "cell_type": "markdown",
   "id": "05c6b168-747e-4414-8157-e0db72d543fc",
   "metadata": {},
   "source": [
    "We create a datetime range `Series` using `pl.datetime_range`. Note that we have to specify `eager=True` for this to be evaluated - we explore why this is in a later lecture on date ranges"
   ]
  },
  {
   "cell_type": "code",
   "execution_count": null,
   "id": "ccac5a29-e11b-4d90-ab47-7d9f60d14ad3",
   "metadata": {},
   "outputs": [],
   "source": [
    "pl.datetime_range(\n",
    "    start=start_datetime,\n",
    "    end=end_datetime,\n",
    "    interval=hourly_interval,\n",
    "    eager=True\n",
    ")"
   ]
  },
  {
   "cell_type": "markdown",
   "id": "60945e6f-c064-43a8-9518-403c0c8cc3f0",
   "metadata": {},
   "source": [
    "The output is a Polars `Series`. The dtype in this case is `pl.Datetime`. We learn more about Polars datetime dtypes in the next lecture.\n",
    "\n",
    "There are other options we can pass to `pl.datetime_range` including:\n",
    "- how the date range is closed (on both sides by default) and\n",
    "- whether to specify a time zone"
   ]
  },
  {
   "cell_type": "code",
   "execution_count": null,
   "id": "59cfda73-2504-4643-833d-09e768fb05c0",
   "metadata": {
    "scrolled": true
   },
   "outputs": [],
   "source": [
    "pl.datetime_range(\n",
    "    start=start_datetime,\n",
    "    end=end_datetime,\n",
    "    interval=hourly_interval,\n",
    "    eager=True,\n",
    "    closed=\"left\",\n",
    ")"
   ]
  },
  {
   "cell_type": "markdown",
   "id": "6d785772-d3a3-44de-b0bc-8fd750126d60",
   "metadata": {},
   "source": [
    "We can also create a date range with dates rather than datetimes if the interval is even days"
   ]
  },
  {
   "cell_type": "code",
   "execution_count": null,
   "id": "85f793c9-057c-4f88-a640-e800b961425c",
   "metadata": {},
   "outputs": [],
   "source": [
    "start_date = date(2023,1,1)\n",
    "end_date = date(2023,1,23)\n",
    "weekly_interval = timedelta(weeks=1)"
   ]
  },
  {
   "cell_type": "code",
   "execution_count": null,
   "id": "d8165031-b773-4ca7-b333-6dfcbd0d0fa3",
   "metadata": {},
   "outputs": [],
   "source": [
    "pl.datetime_range(\n",
    "    start=start_date,\n",
    "    end=end_date,\n",
    "    interval=weekly_interval,\n",
    "    eager=True,\n",
    "\n",
    ")"
   ]
  },
  {
   "cell_type": "markdown",
   "id": "cec9db8a-22ec-44a3-9e9d-7ae5f2abb534",
   "metadata": {},
   "source": [
    "## Exercises\n",
    "In the exercises you will learn to:\n",
    "- use `datetime` objects\n",
    "- create a date range in Polars\n",
    "\n",
    "### Exercise 1\n",
    "Create `date` objects for the 1st and 2nd January 2020 along with a 3 hour time interval using a `timedelta`"
   ]
  },
  {
   "cell_type": "code",
   "execution_count": null,
   "id": "700e196c-fbcb-4ec1-a488-8d2104b7d88d",
   "metadata": {},
   "outputs": [],
   "source": []
  },
  {
   "cell_type": "markdown",
   "id": "9f267dcd-ab50-4653-94fc-773e2fe1f6b6",
   "metadata": {},
   "source": [
    "Create a `DataFrame` with a date range column called `date` using these parameters"
   ]
  },
  {
   "cell_type": "code",
   "execution_count": null,
   "id": "29cb1e82-b2d9-4eb6-810a-1c61ccc55959",
   "metadata": {},
   "outputs": [],
   "source": [
    "df = pl.DataFrame(\n",
    "    {\n",
    "        <blank>\n",
    "    }\n",
    ")\n",
    "df"
   ]
  },
  {
   "cell_type": "markdown",
   "id": "a0f8aca1-e58a-43f5-9430-d3d489d8747b",
   "metadata": {},
   "source": [
    "Create the `DataFrame` again using Polars string intervals at 2 hour 30 minute intervals"
   ]
  },
  {
   "cell_type": "code",
   "execution_count": null,
   "id": "e92d6cc4-0fbe-42bd-a3d2-f5895f651cf8",
   "metadata": {},
   "outputs": [],
   "source": []
  },
  {
   "cell_type": "markdown",
   "id": "571e2b18-d3ce-47af-9382-d72ae14a089d",
   "metadata": {},
   "source": [
    "## Solutions\n",
    "\n",
    "### Solution to exericise 1"
   ]
  },
  {
   "cell_type": "markdown",
   "id": "0271295a-b44a-4a82-8aab-e2df7e7fdc71",
   "metadata": {},
   "source": [
    "Create `date` objects for the 1st and 2nd January 2020 along with a 3 hour time interval"
   ]
  },
  {
   "cell_type": "code",
   "execution_count": null,
   "id": "f2fc9521-c809-443b-a218-5aec72e0f430",
   "metadata": {
    "jupyter": {
     "source_hidden": true
    }
   },
   "outputs": [],
   "source": [
    "start_date = date(2020,1,1)\n",
    "end_date = date(2020,1,2)\n",
    "interval = timedelta(hours=3)"
   ]
  },
  {
   "cell_type": "markdown",
   "id": "22a28eb4-b9e0-43ea-8836-d406da92b309",
   "metadata": {},
   "source": [
    "Create a `DataFrame` with a date range column called `date` using these parameters"
   ]
  },
  {
   "cell_type": "code",
   "execution_count": null,
   "id": "178b22d8-4c6a-4d45-b8c4-c3c5fd58238f",
   "metadata": {
    "jupyter": {
     "source_hidden": true
    },
    "scrolled": true
   },
   "outputs": [],
   "source": [
    "df = pl.DataFrame(\n",
    "    {\n",
    "        \"date\":pl.datetime_range(\n",
    "            start=start_date,\n",
    "            end=end_date,\n",
    "            interval=interval,\n",
    "            eager=True\n",
    "        )\n",
    "    }\n",
    ")\n",
    "df"
   ]
  },
  {
   "cell_type": "markdown",
   "id": "9a75cbcd-a017-4815-af49-9d9d24120f27",
   "metadata": {},
   "source": [
    "Note the `eager=True` argument that is not the default for `pl.datetime_range`!\n",
    "\n",
    "Create the `DataFrame` again using Polars string intervals at 2 hour 30 minute intervals"
   ]
  },
  {
   "cell_type": "code",
   "execution_count": null,
   "id": "3bcc8957-ce77-41d1-ad2e-d09ae65ed35d",
   "metadata": {
    "jupyter": {
     "source_hidden": true
    }
   },
   "outputs": [],
   "source": [
    "df = pl.DataFrame(\n",
    "    {\n",
    "        \"date\":pl.datetime_range(\n",
    "            start=start_date,\n",
    "            end=end_date,\n",
    "            interval=\"2h30m\",\n",
    "            eager=True\n",
    "        )\n",
    "    }\n",
    ")\n",
    "df"
   ]
  },
  {
   "cell_type": "code",
   "execution_count": null,
   "id": "7b2a1a73-c79b-4e67-ae32-902239708e81",
   "metadata": {},
   "outputs": [],
   "source": []
  }
 ],
 "metadata": {
  "kernelspec": {
   "display_name": "Python 3 (ipykernel)",
   "language": "python",
   "name": "python3"
  },
  "language_info": {
   "codemirror_mode": {
    "name": "ipython",
    "version": 3
   },
   "file_extension": ".py",
   "mimetype": "text/x-python",
   "name": "python",
   "nbconvert_exporter": "python",
   "pygments_lexer": "ipython3",
   "version": "3.10.1"
  }
 },
 "nbformat": 4,
 "nbformat_minor": 5
}
