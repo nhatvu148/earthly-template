{
 "cells": [
  {
   "cell_type": "markdown",
   "id": "a5d136f7-d7a8-4111-a791-5ed2e0979b99",
   "metadata": {},
   "source": [
    "## Adjusting datetimes\n",
    "\n",
    "By the end of this lecture you will be able to:\n",
    "\n",
    "- add an offset to a datetime\n",
    "- truncate a datetime to the start of an interval\n",
    "- round a datetime to an interval"
   ]
  },
  {
   "cell_type": "code",
   "execution_count": null,
   "id": "92b337dd-849d-4897-997f-ff82dd87dcea",
   "metadata": {
    "tags": []
   },
   "outputs": [],
   "source": [
    "from datetime import date,datetime,timedelta\n",
    "\n",
    "import polars as pl"
   ]
  },
  {
   "cell_type": "markdown",
   "id": "2339b608-3401-4103-96e4-78b39993d218",
   "metadata": {},
   "source": [
    "We create a `DataFrame` with a monthly datetime range starting from the 1st of the month"
   ]
  },
  {
   "cell_type": "code",
   "execution_count": null,
   "id": "bf0877d2-bccb-474b-b0f2-90253d8661ae",
   "metadata": {
    "tags": []
   },
   "outputs": [],
   "source": [
    "start = datetime(2020,1,1)\n",
    "stop = datetime(2020,4,1)\n",
    "df = (\n",
    "    pl.DataFrame(\n",
    "        {\n",
    "            \"datetime\":pl.datetime_range(start,stop,interval=\"1mo\",eager=True)\n",
    "        }\n",
    "    )\n",
    ")\n",
    "df"
   ]
  },
  {
   "cell_type": "markdown",
   "id": "bfa37a8b-86af-4afb-8ba8-058795eb93b5",
   "metadata": {},
   "source": [
    "We can adjust a datetime using `pl.duration`, a `datetime.timedelta` or the `dt.offset_by` expression"
   ]
  },
  {
   "cell_type": "code",
   "execution_count": null,
   "id": "3a1e5ac0-a255-493e-918b-a342b1cfe9e6",
   "metadata": {
    "tags": []
   },
   "outputs": [],
   "source": [
    "(\n",
    "    df\n",
    "    .with_columns(\n",
    "        (pl.col(\"datetime\") + pl.duration(hours=1,minutes=10)).alias(\"with_duration\"),\n",
    "        pl.col(\"datetime\").dt.offset_by(\"1h10m\").alias(\"with_offset_by\"),    \n",
    "        (pl.col(\"datetime\") + timedelta(hours=1,minutes=10)).alias(\"with_timedelta\"),\n",
    "    )\n",
    ")"
   ]
  },
  {
   "cell_type": "markdown",
   "id": "cda06ba6-7015-4660-a842-9c2a118f9fe2",
   "metadata": {},
   "source": [
    "There are some subtle differences between `pl.duration` and `dt.offset_by`:\n",
    "- `pl.duration` is a fixed amount of time so `pl.duration(days=1)` is 24 hours\n",
    "- `dt.offset_by` works with the calender and so can be 23 or 25 hours depending on e.g. daylight savings\n",
    "\n",
    "We illustrate this below. We create a `DataFrame` with a single row that has a datetime just before the daylight savings change in London. We then offset this by either one day or 24 hours with `pl.duration` and `dt.offset_by` "
   ]
  },
  {
   "cell_type": "code",
   "execution_count": null,
   "id": "364901ee-6e9d-4f99-830e-40b34d9b3ddd",
   "metadata": {},
   "outputs": [],
   "source": [
    "(\n",
    "    pl.DataFrame(\n",
    "        {\n",
    "            \"datetime_before_clocks_change\":[datetime(2020,3,29,0)]\n",
    "        }\n",
    "    )\n",
    "    .with_columns(\n",
    "        pl.col(\"datetime_before_clocks_change\").dt.convert_time_zone(\"Europe/London\")\n",
    "    )\n",
    "    .with_columns(\n",
    "        pl.col(\"datetime_before_clocks_change\").dt.offset_by(\"1d\").alias(\"offset_by_one_day\"),       \n",
    "        pl.col(\"datetime_before_clocks_change\").dt.offset_by(\"24h\").alias(\"offset_by_24_hours\"),        \n",
    "        (pl.col(\"datetime_before_clocks_change\") + pl.duration(days=1)).alias(\"duration_one_day\"),\n",
    "        (pl.col(\"datetime_before_clocks_change\") + pl.duration(hours=24)).alias(\"duration_24_hours\"),\n",
    "    )\n",
    ")"
   ]
  },
  {
   "cell_type": "markdown",
   "id": "4983bdc4-ceba-4c9b-b3c7-4644b998df90",
   "metadata": {},
   "source": [
    "We see that the result for `offset_by_one_day` is different to the other adjusted columns. For `offset_by_one_day` we offset by 23 hours to go from midnight to midnight while for the other columns we adjust by 24 hours to go from midnight to 1 AM."
   ]
  },
  {
   "cell_type": "markdown",
   "id": "c22c3336-b0aa-4413-bd50-8396a2c2ef01",
   "metadata": {},
   "source": [
    "The largest unit supported by `pl.duration` is weeks and the largest unit supported by `timedelta` is days and so they cannot, for example, move forward by a calendar month. We can do this with `dt.offset_by`"
   ]
  },
  {
   "cell_type": "code",
   "execution_count": null,
   "id": "eccb53fd-3996-490a-9046-2883eafcdc4e",
   "metadata": {
    "tags": []
   },
   "outputs": [],
   "source": [
    "(\n",
    "    df\n",
    "    .with_columns(\n",
    "        pl.col(\"datetime\").dt.offset_by(\"1mo\").alias(\"add_month\")\n",
    "    )\n",
    ")"
   ]
  },
  {
   "cell_type": "markdown",
   "id": "1ae66a40-8fc0-4b12-96b3-1b454770bcd9",
   "metadata": {},
   "source": [
    "If we want to move a datetime series to a month-end basis we use the `dt.month_end` expression (and similarly we have `dt.month_start`). \n",
    "\n",
    "If we call `offset_by` on a month end date it moves forward but not necessarily to the following month end. For example, we here add `month_end` column and then offset it by 1 month"
   ]
  },
  {
   "cell_type": "code",
   "execution_count": null,
   "id": "f8374ece-dda2-423c-a794-ff0f4cf933ad",
   "metadata": {},
   "outputs": [],
   "source": [
    "(\n",
    "    df\n",
    "    .with_columns(\n",
    "        pl.col('datetime').dt.month_end().alias(\"month_end\")\n",
    "    )\n",
    "    .with_columns(\n",
    "        pl.col('month_end').dt.offset_by(\"1mo\").alias(\"offset\")\n",
    "    )\n",
    "\n",
    ")"
   ]
  },
  {
   "cell_type": "markdown",
   "id": "49ab3cc4-f172-4439-8e34-ea5e24cdc0f1",
   "metadata": {},
   "source": [
    "We see:\n",
    "- in the first row we move from 31st January to 29th February but\n",
    "- in the second row we move from 29th February to 29th March rather than 31st March\n",
    "\n",
    "We must instead call `dt.month_end` after the offset of 1 month"
   ]
  },
  {
   "cell_type": "code",
   "execution_count": null,
   "id": "fa1bb62e-72ba-4bd2-8adb-0008fee1f9b6",
   "metadata": {},
   "outputs": [],
   "source": [
    "(\n",
    "    df\n",
    "    .with_columns(\n",
    "        pl.col('datetime').dt.month_end().alias(\"month_end\")\n",
    "    )\n",
    "    .with_columns(\n",
    "        pl.col('month_end').dt.offset_by(\"1mo\").dt.month_end().alias(\"offset\")\n",
    "    )\n",
    "\n",
    ")"
   ]
  },
  {
   "cell_type": "markdown",
   "id": "ee2736d5-d64d-4ce1-8385-fd4921d451a7",
   "metadata": {},
   "source": [
    "## Binning datetimes\n",
    "In this example we create a datetime series over 90 minutes at 20 minute intervals.\n",
    "\n",
    "We want to transform these datetimes into one hour bins. We do this with `dt.truncate`"
   ]
  },
  {
   "cell_type": "code",
   "execution_count": null,
   "id": "a7d8023d-db14-4750-a537-ce9422846c2f",
   "metadata": {
    "tags": []
   },
   "outputs": [],
   "source": [
    "start = datetime(2020,1,1)\n",
    "stop = datetime(2020,1,1,1,30)\n",
    "(\n",
    "    pl.DataFrame(\n",
    "        {\n",
    "            \"datetime\":pl.datetime_range(start,stop,interval=\"20m\",eager=True)\n",
    "        }\n",
    "    )\n",
    "    .with_columns(\n",
    "        pl.col(\"datetime\").dt.truncate(\"30m\").alias(\"truncate\"),\n",
    "    )\n",
    ")"
   ]
  },
  {
   "cell_type": "markdown",
   "id": "505b4367-9941-4feb-b587-2d09c0b9f798",
   "metadata": {},
   "source": [
    "All datetimes in a window are mapped to the datetime **at the start of the bin** and not the earliest time that occurs in the bin."
   ]
  },
  {
   "cell_type": "markdown",
   "id": "ab3eba80-ff1d-4a5c-9990-6daae6cb983d",
   "metadata": {},
   "source": [
    "## Rounding datetimes\n",
    "We use `dt.round` to do something similar except that datetimes are either rounded down to the start of the window or up to the end of the window.\n",
    "\n",
    "In this example we have a 10-minute interval and round to hourly intervals"
   ]
  },
  {
   "cell_type": "code",
   "execution_count": null,
   "id": "541f5ff7-39be-47c8-a30d-93aab96bebd4",
   "metadata": {},
   "outputs": [],
   "source": [
    "(\n",
    "    pl.DataFrame(\n",
    "        {\n",
    "            \"datetime\":pl.datetime_range(start,stop,interval=\"20m\",eager=True)\n",
    "        }\n",
    "    )\n",
    "    .with_columns(\n",
    "        pl.col(\"datetime\").dt.truncate(\"30m\").alias(\"truncate\"),\n",
    "        pl.col(\"datetime\").dt.round(\"30m\").alias(\"round\"),\n",
    "    )\n",
    ")"
   ]
  },
  {
   "cell_type": "markdown",
   "id": "eb9cade5-bdf5-4990-89aa-f337cf6059a9",
   "metadata": {},
   "source": [
    "We see that a datetime of `00:20:00` on the second row is truncated to `00:00:00` but rounded to `00:30:00`"
   ]
  },
  {
   "cell_type": "markdown",
   "id": "8ad7042e-39a3-445d-805f-8cf60229a1f3",
   "metadata": {},
   "source": [
    "## Exercises\n",
    "In the exercises you will develop your understanding of:\n",
    "- adding an offset to a datetime\n",
    "- truncating a datetime\n",
    "- rounding a datetime\n",
    "\n",
    "### Exercise 1\n",
    "Use `truncate` to map the values in the `pickup` column to the start of weekly intervals.\n",
    "\n",
    "Apply an `offset` to ensure that the first mapped datetime is `2021-12-31 00:00:00`"
   ]
  },
  {
   "cell_type": "code",
   "execution_count": null,
   "id": "f2b33bae-2688-4b97-9047-a8b1a728a57e",
   "metadata": {},
   "outputs": [],
   "source": [
    "csv_file = \"../data/nyc_trip_data_1k.csv\"\n",
    "(\n",
    "    <blank>\n",
    "    .head()\n",
    ")"
   ]
  },
  {
   "cell_type": "markdown",
   "id": "dfbaddf3-0885-458c-aa3d-810a380c0d1f",
   "metadata": {},
   "source": [
    "Map the values in the `pickup` column into weekly windows based on the closest window boundary using `round`"
   ]
  },
  {
   "cell_type": "code",
   "execution_count": null,
   "id": "d1682b0d-375c-4aed-95cf-b5596e9dd509",
   "metadata": {},
   "outputs": [],
   "source": [
    "csv_file = \"../data/nyc_trip_data_1k.csv\"\n",
    "(\n",
    "    <blank>\n",
    "    .head()\n",
    ")"
   ]
  },
  {
   "cell_type": "markdown",
   "id": "a82dc61b-e930-4a2c-9c97-460045808108",
   "metadata": {},
   "source": [
    "### Exercise 2\n",
    "Add 12 hours to each date so the datetimes are midday **on the last day of the month** instead of midnight"
   ]
  },
  {
   "cell_type": "code",
   "execution_count": null,
   "id": "ef908c4b-9b47-4c40-bb93-3cf16d910956",
   "metadata": {},
   "outputs": [],
   "source": [
    "start = datetime(2020,1,1)\n",
    "stop = datetime(2021,1,1)\n",
    "(\n",
    "    pl.DataFrame(\n",
    "        {\n",
    "            \"date\":pl.datetime_range(start,stop,interval=\"1mo\",eager=True)\n",
    "        }\n",
    "    )\n",
    "    <blank>\n",
    ")"
   ]
  },
  {
   "cell_type": "markdown",
   "id": "ebab2003-c7e3-4194-bec4-243573445330",
   "metadata": {},
   "source": [
    "## Solutions\n",
    "\n",
    "### Solution to exercise 1"
   ]
  },
  {
   "cell_type": "markdown",
   "id": "38e37d46-8671-4d33-9944-1bedfc3e556a",
   "metadata": {},
   "source": [
    "Map the values in the `pickup` column to weekly intervals where the values are mapped to the start of the interval.\n",
    "\n",
    "Ensure that the first mapped datetime is 2021-12-31 00:00:00"
   ]
  },
  {
   "cell_type": "code",
   "execution_count": null,
   "id": "2f0ec49e-e5a7-4631-8613-26c3ea7dc852",
   "metadata": {
    "jupyter": {
     "source_hidden": true
    },
    "tags": []
   },
   "outputs": [],
   "source": [
    "csv_file = \"../data/nyc_trip_data_1k.csv\"\n",
    "(\n",
    "    pl.read_csv(csv_file,try_parse_dates=True)\n",
    "    .with_columns(\n",
    "        pl.col(\"pickup\").dt.truncate(\"1w\").dt.offset_by(\"4d\")\n",
    "    )\n",
    "    .head(2)\n",
    ")"
   ]
  },
  {
   "cell_type": "markdown",
   "id": "937dd78c-1e9f-4c36-a3cf-49232c6a802d",
   "metadata": {},
   "source": [
    "Map the values in the `pickup` column into weekly windows based on the closest window boundary"
   ]
  },
  {
   "cell_type": "code",
   "execution_count": null,
   "id": "7ec17564-35b4-4177-83cb-ce666b999adf",
   "metadata": {
    "jupyter": {
     "source_hidden": true
    },
    "tags": []
   },
   "outputs": [],
   "source": [
    "csv_file = \"../data/nyc_trip_data_1k.csv\"\n",
    "(\n",
    "    pl.read_csv(csv_file,try_parse_dates=True)\n",
    "    .with_columns(\n",
    "        pl.col(\"pickup\").dt.round(\"1w\")\n",
    "    )\n",
    "    .head(2)\n",
    ")"
   ]
  },
  {
   "cell_type": "markdown",
   "id": "b589451f-79c5-4d5c-b39c-ecafbf869844",
   "metadata": {},
   "source": [
    "### Solution to exercise 2\n",
    "Add 12 hours to each date so the datetimes are midday **on the last day of the month** instead of midnight"
   ]
  },
  {
   "cell_type": "code",
   "execution_count": null,
   "id": "a670646f-6a79-4e98-98a7-c20ec544af56",
   "metadata": {
    "jupyter": {
     "source_hidden": true
    },
    "tags": []
   },
   "outputs": [],
   "source": [
    "start = datetime(2020,1,1)\n",
    "stop = datetime(2021,1,1)\n",
    "(\n",
    "    pl.DataFrame(\n",
    "        {\n",
    "            \"date\":pl.datetime_range(start,stop,interval=\"1mo\",eager=True)\n",
    "        }\n",
    "    )\n",
    "    .select(\n",
    "        pl.col(\"date\").dt.month_end().dt.offset_by(\"12h\")\n",
    "    )\n",
    ")"
   ]
  },
  {
   "cell_type": "code",
   "execution_count": null,
   "id": "0050737e-85e7-4832-8687-9ba2cf05d803",
   "metadata": {},
   "outputs": [],
   "source": []
  }
 ],
 "metadata": {
  "kernelspec": {
   "display_name": "Python 3 (ipykernel)",
   "language": "python",
   "name": "python3"
  },
  "language_info": {
   "codemirror_mode": {
    "name": "ipython",
    "version": 3
   },
   "file_extension": ".py",
   "mimetype": "text/x-python",
   "name": "python",
   "nbconvert_exporter": "python",
   "pygments_lexer": "ipython3",
   "version": "3.10.1"
  }
 },
 "nbformat": 4,
 "nbformat_minor": 5
}
