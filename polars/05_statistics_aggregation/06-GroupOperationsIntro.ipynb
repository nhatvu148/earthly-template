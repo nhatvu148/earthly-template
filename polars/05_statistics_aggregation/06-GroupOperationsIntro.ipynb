{
 "cells": [
  {
   "cell_type": "markdown",
   "id": "a046a482-3531-4092-8ca5-aa41e534cf38",
   "metadata": {},
   "source": [
    "## Group (window) operations\n",
    "By the end of this lecture you will be able to:\n",
    "- do group operations by a single column\n",
    "- do group operations by multiple columns\n",
    "- fill nulls by group\n",
    "- filter by group\n",
    "\n",
    "Expressions typically work on a single row. In some cases we want them to operate on groups of rows. For this we have `over`.\n",
    "\n",
    "> I prefer to call these group operations. However, in SQL and some of the Polars docs you may find them referred to as *window* operations."
   ]
  },
  {
   "cell_type": "code",
   "execution_count": null,
   "id": "9ea1ef1f-11b5-4aa5-9d82-8a4a752bcd2f",
   "metadata": {
    "tags": []
   },
   "outputs": [],
   "source": [
    "import polars as pl\n",
    "import polars.selectors as cs\n",
    "pl.Config.set_tbl_rows(8)"
   ]
  },
  {
   "cell_type": "markdown",
   "id": "aa7a7b4e-7e26-4c78-830d-78362ac71b3f",
   "metadata": {},
   "source": [
    "We create a simple `DataFrame` where we have an `id` column - that defines groups of rows - and a values column"
   ]
  },
  {
   "cell_type": "code",
   "execution_count": null,
   "id": "9591c8b4-474c-45d4-97de-f2e9bdea2352",
   "metadata": {},
   "outputs": [],
   "source": [
    "df = pl.DataFrame(\n",
    "    {\n",
    "        \"id\":[\"a\",\"b\",\"a\",\"b\"],\n",
    "        \"value\":[0,1,2,3]\n",
    "    }\n",
    ")"
   ]
  },
  {
   "cell_type": "markdown",
   "id": "b29e5bf9-cae4-4dd7-a959-9d7205bbce5a",
   "metadata": {},
   "source": [
    "We want to add a column with the maximum `value` in each group where the groups are defined by the `id` column"
   ]
  },
  {
   "cell_type": "code",
   "execution_count": null,
   "id": "1d13bc62-1bf4-47ea-b8b1-c336eabadd3e",
   "metadata": {},
   "outputs": [],
   "source": [
    "(\n",
    "    df\n",
    "    .with_columns(\n",
    "        group_max = pl.col(\"value\").max().over(\"id\")\n",
    "    )\n",
    ")"
   ]
  },
  {
   "cell_type": "markdown",
   "id": "dc3b544d-66f7-4f53-980d-f3779c372065",
   "metadata": {},
   "source": [
    "Let's break down the syntax here. We've got:\n",
    "- `pl.col(\"value\")` which gives us the **input column**\n",
    "- `.max()` which **aggregates** the values in the input column\n",
    "- `over(\"id\")` which **groups** the rows by `id` **before** we aggregate the input with `max`\n",
    "\n",
    "> The equivalent operation in Pandas is `.groupby.transform`\n",
    "\n",
    "Using `over` is shorthand for:\n",
    "- doing a `group_by` on the `id` column\n",
    "- doing an `agg` with `pl.col(\"value\").max()` to get a grouped `DataFrame` and\n",
    "- left joining the grouped `DataFrame` back to the original `DataFrame`\n",
    "\n",
    "So Polars is (more or less) doing the following internally when we call `over`"
   ]
  },
  {
   "cell_type": "code",
   "execution_count": null,
   "id": "ab86b5d2-ffb3-452a-b363-eb8ca1d6956c",
   "metadata": {},
   "outputs": [],
   "source": [
    "(\n",
    "    df\n",
    "    .join(\n",
    "        df\n",
    "        .group_by(\"id\")\n",
    "        .agg(\n",
    "            pl.col(\"value\").max()\n",
    "        ),\n",
    "        on=\"id\"\n",
    "    )\n",
    ")"
   ]
  },
  {
   "cell_type": "markdown",
   "id": "17b07737-c2d9-45bb-97e0-1c81e54bfe3f",
   "metadata": {},
   "source": [
    "We have seen that the order of the output of `group_by` varies - but we see the order is not affected by `over` as we are doing a `join` back to the `DataFrame` in its original order."
   ]
  },
  {
   "cell_type": "markdown",
   "id": "94470a75-8363-4c1f-a01c-4df98b34d9a5",
   "metadata": {},
   "source": [
    "Typically we precede `over` with aggregation - such as `sum` to get a single scalar value for each group.\n",
    "\n",
    "But we can also use aggregations that produce a `Series` with `over`. For example if we do a `cum_sum` on a column the output is a column rather than a scalar. \n",
    "\n",
    "But if we use `cum_sum` with `over` we get the output we expect - the cumulative sum by group. Here we contrast taking the `sum` by group compared to taking the `cum_sum` by group"
   ]
  },
  {
   "cell_type": "code",
   "execution_count": null,
   "id": "fc6ad304-0bf7-406e-95de-87589485aac8",
   "metadata": {},
   "outputs": [],
   "source": [
    "(\n",
    "    df\n",
    "    .with_columns(\n",
    "        sum = pl.col(\"value\").sum().over(\"id\"),\n",
    "        cum_sum = pl.col(\"value\").cum_sum().over(\"id\"),\n",
    "    )\n",
    ")"
   ]
  },
  {
   "cell_type": "markdown",
   "id": "1a013e60-ab91-41c3-8723-02fa9087b72c",
   "metadata": {},
   "source": [
    "### Creating a `pl.List` from grouped values\n",
    "When we do the `group_by` with `over` we may want to gather the grouped values into a `pl.List` column instead of aggregating them. We do this by passing `mapping_strategy=\"join\"` to `over`"
   ]
  },
  {
   "cell_type": "code",
   "execution_count": null,
   "id": "ca6c2ded-21e7-4457-b53d-470621d41fb4",
   "metadata": {},
   "outputs": [],
   "source": [
    "(\n",
    "    df\n",
    "    .with_columns(\n",
    "        value_list = pl.col(\"value\").over(\"id\",mapping_strategy=\"join\")\n",
    "    )\n",
    ")"
   ]
  },
  {
   "cell_type": "markdown",
   "id": "6730faf7-a15b-4d13-abe7-d8c0e113b5b4",
   "metadata": {},
   "source": [
    "Be aware that this can be memory intensive if we are repeating long lists on many rows"
   ]
  },
  {
   "cell_type": "markdown",
   "id": "374e74ff-9fcb-4203-a1e1-f34530ee28ed",
   "metadata": {},
   "source": [
    "## Multiple columns\n",
    "We can also do `over` with multiple columns - just like doing a `group_by` with multiple columns. \n",
    "\n",
    "We define a new `DataFrame` with two groups. Only the first and third rows are in the same group"
   ]
  },
  {
   "cell_type": "code",
   "execution_count": null,
   "id": "99e7bac6-fda2-4aca-8530-718a3916c0b2",
   "metadata": {},
   "outputs": [],
   "source": [
    "df_mult = pl.DataFrame(\n",
    "    {\n",
    "        \"id1\":[\"a\",\"b\",\"a\",\"b\"],\n",
    "        \"id2\":[\"x\",\"x\",\"x\",\"y\"],\n",
    "        \"value\":[0,1,2,3]\n",
    "    }\n",
    ")"
   ]
  },
  {
   "cell_type": "markdown",
   "id": "ea334fa7-57be-49b8-9ad1-d4148cb4c2c5",
   "metadata": {},
   "source": [
    "We now get the maximum value by group"
   ]
  },
  {
   "cell_type": "code",
   "execution_count": null,
   "id": "0809c333-7154-4327-bef6-0a14f93ef15c",
   "metadata": {},
   "outputs": [],
   "source": [
    "(\n",
    "    df_mult\n",
    "    .with_columns(\n",
    "        group_max = pl.col(\"value\").max().over(\"id1\",\"id2\")\n",
    "    )\n",
    ")"
   ]
  },
  {
   "cell_type": "markdown",
   "id": "467b07df-bdd6-416e-b3ac-310ee4b37440",
   "metadata": {},
   "source": [
    "### Filling missing values by group\n",
    "\n",
    "We can use `over` to fill missing values by group.\n",
    "\n",
    "Here we have a `DataFrame` where the second value in group `a` is missing"
   ]
  },
  {
   "cell_type": "code",
   "execution_count": null,
   "id": "e0c68478-b40d-49b9-946e-16797d831018",
   "metadata": {},
   "outputs": [],
   "source": [
    "df_missing = pl.DataFrame(\n",
    "    {\n",
    "        \"id\":[\"a\",\"b\",\"a\",\"b\"],\n",
    "        \"value\":[0,1,None,3]\n",
    "    }\n",
    ")"
   ]
  },
  {
   "cell_type": "markdown",
   "id": "d3bbd3c5-b1f8-4ede-a956-9f0d34680d69",
   "metadata": {},
   "source": [
    "We can fill forward from the previous value in group `a` by calling `fill_null.over`"
   ]
  },
  {
   "cell_type": "code",
   "execution_count": null,
   "id": "0ff764a9-c326-4f9e-b24b-252fa671b2a7",
   "metadata": {},
   "outputs": [],
   "source": [
    "(\n",
    "    df_missing\n",
    "    .with_columns(\n",
    "        filled_value = pl.col(\"value\").fill_null(strategy=\"forward\").over(\"id\")\n",
    "    )\n",
    ")"
   ]
  },
  {
   "cell_type": "markdown",
   "id": "cb7663d6-1616-4de9-861b-2fcb0048420b",
   "metadata": {},
   "source": [
    "### Filtering by group\n",
    "We can use `over` to apply a filter groupwise. \n",
    "\n",
    "Here, for example, we return the rows with the largest `value` grouped by `id`"
   ]
  },
  {
   "cell_type": "code",
   "execution_count": null,
   "id": "1e977532-68e4-44c3-866a-f7339334a6b7",
   "metadata": {},
   "outputs": [],
   "source": [
    "(\n",
    "    df_missing\n",
    "    .filter(\n",
    "        pl.col(\"value\") == pl.col(\"value\").max().over(\"id\")\n",
    "    )\n",
    ")"
   ]
  },
  {
   "cell_type": "markdown",
   "id": "50a11023-6634-4e10-a90c-b0b2c6ca89cb",
   "metadata": {},
   "source": [
    "### Group operations in lazy mode\n",
    "When we do the same `over` multiple times in lazy mode Polars caches the result of the first internal `group_by` for re-use. However, this caching is not apparent in the optimised query plan "
   ]
  },
  {
   "cell_type": "code",
   "execution_count": null,
   "id": "687413e2-7ee4-4678-8471-95cd88f42f02",
   "metadata": {},
   "outputs": [],
   "source": [
    "print(\n",
    "    df_missing\n",
    "    .lazy()\n",
    "    .with_columns(\n",
    "        group_max = pl.col(\"value\").max().over(\"id\"),\n",
    "        group_min = pl.col(\"value\").min().over(\"id\"),\n",
    "    )\n",
    "    .explain()\n",
    ")"
   ]
  },
  {
   "cell_type": "markdown",
   "id": "821c768b-6ec3-4ed4-b64c-bcb9d9801229",
   "metadata": {},
   "source": [
    "## Exercises\n",
    "In the exercises you will develop your understanding of:\n",
    "- doing arithmetic by group\n",
    "- filling nulls by group\n",
    "- doing multiple window expressions in a single `with_columns` statement"
   ]
  },
  {
   "cell_type": "markdown",
   "id": "27fbf11e-79d0-4c54-9a54-fb8997132515",
   "metadata": {},
   "source": [
    "### Exercise 1\n",
    "We want to calculate the *z-score* of the `Age` column normalised by passenger class.\n",
    "\n",
    "Add a new column `Age_mean` with the mean of the `Age` column for passengers by class"
   ]
  },
  {
   "cell_type": "code",
   "execution_count": null,
   "id": "afdb9812-1833-4041-8b29-3918e646c33d",
   "metadata": {},
   "outputs": [],
   "source": [
    "csv_file = \"../data/titanic.csv\""
   ]
  },
  {
   "cell_type": "code",
   "execution_count": null,
   "id": "b23bcb16-4230-4699-b9ae-ddaab2aef952",
   "metadata": {
    "tags": []
   },
   "outputs": [],
   "source": [
    "(\n",
    "    pl.read_csv(csv_file)\n",
    "    <blank>\n",
    "    .select(\n",
    "        'Pclass',cs.starts_with(\"Age\")\n",
    "    )\n",
    "    # Use head(6) to see the null on the sixth row\n",
    "    .head(6)\n",
    ")"
   ]
  },
  {
   "cell_type": "markdown",
   "id": "a7e78423-871b-4d0f-ab13-5a89ea43cba6",
   "metadata": {},
   "source": [
    "Continue by replacing the `null` values in the `Age` column with the `mean` age for passengers in that class"
   ]
  },
  {
   "cell_type": "code",
   "execution_count": null,
   "id": "0bc2bae5-1c93-4b0a-a375-8771b7f5d706",
   "metadata": {},
   "outputs": [],
   "source": [
    "(\n",
    "    pl.read_csv(csv_file)\n",
    "    <blank>\n",
    "    .select(\n",
    "        'Pclass',cs.starts_with(\"Age\")\n",
    "    )\n",
    "    .head(6)\n",
    ")"
   ]
  },
  {
   "cell_type": "markdown",
   "id": "2ee9f63f-8627-4a13-8610-038ad933451b",
   "metadata": {},
   "source": [
    "Replace `Age_mean` with a new column called `Age_delta` that is the difference between the age and the average age of all passengers in the same class"
   ]
  },
  {
   "cell_type": "code",
   "execution_count": null,
   "id": "10d08758-3932-45bb-86a4-c6d6fa06d681",
   "metadata": {},
   "outputs": [],
   "source": [
    "(\n",
    "    pl.read_csv(csv_file)\n",
    "    .with_columns(\n",
    "        <blank>\n",
    "    )\n",
    "    .select(\n",
    "        'Pclass',cs.starts_with(\"Age\")\n",
    "    )\n",
    "    .head(10)\n",
    ")"
   ]
  },
  {
   "cell_type": "markdown",
   "id": "8d04287c-4339-42b1-8190-741081862d14",
   "metadata": {},
   "source": [
    "Continue by adding another column called `Age_z` that has the z-score for the `Age` where the z-score is the (age - average age of the passengers in that class) divided by the standard deviation of the age column for passengers in that class"
   ]
  },
  {
   "cell_type": "code",
   "execution_count": null,
   "id": "5c19ec70-87b5-4802-b5e9-766b1cf2fa8c",
   "metadata": {},
   "outputs": [],
   "source": [
    "(\n",
    "    pl.read_csv(csv_file)\n",
    "    .with_columns(\n",
    "        <blank>\n",
    "    )\n",
    "    .select(\n",
    "        'Pclass',cs.starts_with(\"Age\")\n",
    "    )\n",
    "    .head(10)\n",
    ")"
   ]
  },
  {
   "cell_type": "markdown",
   "id": "d691b3da-31fb-4743-ba50-0e916e4cdaf0",
   "metadata": {},
   "source": [
    "### Exercise 2\n",
    "\n",
    "Count the number of passengers in each group of: passenger class and survival. Name the column of counts `counts`"
   ]
  },
  {
   "cell_type": "code",
   "execution_count": null,
   "id": "ecc3447f-a305-4f8f-b8f7-0375a7797246",
   "metadata": {},
   "outputs": [],
   "source": [
    "(\n",
    "    pl.read_csv(csv_file)\n",
    "    <blank>\n",
    ")"
   ]
  },
  {
   "cell_type": "markdown",
   "id": "a29b8099-4dfc-40ad-b09b-0fa5595f99ac",
   "metadata": {},
   "source": [
    "Continue by calculating the percentage breakdown of passenger survival within each passenger class group. Call this column `percent`.\n",
    "\n",
    "Sort the output by passenger class and survival"
   ]
  },
  {
   "cell_type": "code",
   "execution_count": null,
   "id": "1064a044-9eba-45f4-93f4-a1f59c8f950d",
   "metadata": {},
   "outputs": [],
   "source": []
  },
  {
   "cell_type": "markdown",
   "id": "e9342c8a-51cc-478f-9a8d-11e3a4828b80",
   "metadata": {},
   "source": [
    "Filter the `DataFrame` to find the passengers with the longest name in each class and sort by class"
   ]
  },
  {
   "cell_type": "code",
   "execution_count": null,
   "id": "a0257491-bcd5-49d8-b36a-0c2fa550d9c4",
   "metadata": {},
   "outputs": [],
   "source": [
    "pl.Config.set_fmt_str_lengths(100)\n",
    "(\n",
    "    pl.read_csv(csv_file)\n",
    "    <blank>\n",
    ")"
   ]
  },
  {
   "cell_type": "markdown",
   "id": "a4343418-d0db-45b9-b832-15b7d965450f",
   "metadata": {},
   "source": [
    "Calculate the median age of passengers by `Pclass` and `Sex` using `group_by.agg`"
   ]
  },
  {
   "cell_type": "code",
   "execution_count": null,
   "id": "6464fb84-732a-470b-b8fa-87c7f99c95ec",
   "metadata": {},
   "outputs": [],
   "source": [
    "(\n",
    "    pl.read_csv(csv_file)\n",
    "    <blank>\n",
    ")"
   ]
  },
  {
   "cell_type": "markdown",
   "id": "18ea723e-b584-43d9-b73e-43dfd2c4268f",
   "metadata": {},
   "source": [
    "Fill `nulls` in the `Age` column by the median by `Pclass` and `Sex` in a new column called `Age_filled`. Filter by `nulls` in the `Age` column to confirm that the filled values correspond to the `group_by` above"
   ]
  },
  {
   "cell_type": "code",
   "execution_count": null,
   "id": "8854ddd4-8d48-4ecb-9a51-8e23b4cfdb2c",
   "metadata": {},
   "outputs": [],
   "source": [
    "(\n",
    "    pl.read_csv(csv_file)\n",
    "    <blank>\n",
    ")"
   ]
  },
  {
   "cell_type": "markdown",
   "id": "6cb836d2-c329-4731-abea-0575fd20a487",
   "metadata": {},
   "source": [
    "## Solutions\n",
    "\n",
    "### Solution to exercise 1\n",
    "We want to calculate the *z-score* of the `Age` column for each passenger normalised by their passenger class.\n",
    "\n",
    "Add a new column `Age_mean` with the mean of the `Age` column for passengers by class"
   ]
  },
  {
   "cell_type": "code",
   "execution_count": null,
   "id": "02feb5d1-9676-49b4-a787-e6a15dc29f3d",
   "metadata": {
    "jupyter": {
     "source_hidden": true
    },
    "tags": []
   },
   "outputs": [],
   "source": [
    "(\n",
    "    pl.read_csv(csv_file)\n",
    "    .with_columns(\n",
    "        Age_mean = pl.col('Age').mean().over('Pclass')\n",
    "    )\n",
    "    .select(\n",
    "        cs.starts_with(\"Age\")\n",
    "    )\n",
    "    .head(6)\n",
    ")"
   ]
  },
  {
   "cell_type": "markdown",
   "id": "f745b326-e8ee-42cd-8e6e-622c12cb4425",
   "metadata": {},
   "source": [
    "Continue by replacing the `null` values in the `Age` column with the `mean` age for passengers in that class"
   ]
  },
  {
   "cell_type": "code",
   "execution_count": null,
   "id": "a3aec425-44df-4701-922b-7c9bb488a116",
   "metadata": {
    "jupyter": {
     "source_hidden": true
    },
    "tags": []
   },
   "outputs": [],
   "source": [
    "(\n",
    "    pl.read_csv(csv_file)\n",
    "    .with_columns(\n",
    "        Age_mean = pl.col('Age').mean().over('Pclass')\n",
    "    )\n",
    "    .with_columns(\n",
    "        Age = pl.col('Age').fill_null(pl.col('Age').mean().over('Pclass'))\n",
    "    )\n",
    "    .select(\n",
    "        'Pclass',cs.starts_with(\"Age\")\n",
    "    )\n",
    "    .head(6)\n",
    ")"
   ]
  },
  {
   "cell_type": "markdown",
   "id": "ee79ce53-f15a-4398-906d-5c92bfe22c69",
   "metadata": {},
   "source": [
    "Replace `Age_mean` with a new column called `Age_delta` that is the difference between the age and the average age of all passengers in the same class. Keep the `fill_null` step from above"
   ]
  },
  {
   "cell_type": "code",
   "execution_count": null,
   "id": "78ef9000-50a6-4c64-be0e-6c7c36db0aee",
   "metadata": {
    "jupyter": {
     "source_hidden": true
    },
    "tags": []
   },
   "outputs": [],
   "source": [
    "(\n",
    "    pl.read_csv(csv_file)\n",
    "    .with_columns(\n",
    "        Age = pl.col('Age').fill_null(pl.col('Age').mean().over('Pclass'))\n",
    "    )\n",
    "    .with_columns(\n",
    "        Age_delta = pl.col('Age') - pl.col('Age').mean().over('Pclass')\n",
    "    )\n",
    "    .select(\n",
    "        'Pclass',cs.starts_with(\"Age\")\n",
    "    )\n",
    "    .head(6)\n",
    ")"
   ]
  },
  {
   "cell_type": "markdown",
   "id": "3faf82e5-39aa-471c-afa1-418f88705525",
   "metadata": {},
   "source": [
    "Continue by adding another column called `Age_z` that has the z-score for the `Age` where the z-score is the (age - average age of the passengers in that class) divided by the standard deviation of the age column for passengers in that class"
   ]
  },
  {
   "cell_type": "code",
   "execution_count": null,
   "id": "da58a67e-c9e8-47bb-a304-8b8be0fe1bba",
   "metadata": {
    "jupyter": {
     "source_hidden": true
    },
    "tags": []
   },
   "outputs": [],
   "source": [
    "(\n",
    "    pl.read_csv(csv_file)\n",
    "    .with_columns(\n",
    "        Age = pl.col('Age').fill_null(pl.col('Age').mean().over('Pclass'))\n",
    "    )\n",
    "    .with_columns(\n",
    "        Age_delta = pl.col('Age') - pl.col('Age').mean().over('Pclass')\n",
    "    )\n",
    "\n",
    "    .with_columns(\n",
    "        Age_z = ((pl.col('Age') - pl.col('Age').mean().over('Pclass'))/pl.col('Age').std().over('Pclass'))\n",
    "    )\n",
    "    .select(\n",
    "        'Pclass',cs.starts_with(\"Age\")\n",
    "    )\n",
    "    .head(6)\n",
    ")"
   ]
  },
  {
   "cell_type": "markdown",
   "id": "74e851e4-c9cb-4851-b200-a2dc0065ba09",
   "metadata": {},
   "source": [
    "### Solution to exercise 2"
   ]
  },
  {
   "cell_type": "markdown",
   "id": "be87a30b-1219-405b-aba4-939c5ab68d6d",
   "metadata": {},
   "source": [
    "Count the number of passengers in each group of passenger class and survival"
   ]
  },
  {
   "cell_type": "code",
   "execution_count": null,
   "id": "7f2deea2-a60d-4893-9202-a60dc5b113f1",
   "metadata": {
    "jupyter": {
     "source_hidden": true
    },
    "tags": []
   },
   "outputs": [],
   "source": [
    "(\n",
    "    pl.read_csv(csv_file)\n",
    "    .group_by([\"Pclass\",\"Survived\"])\n",
    "    .agg(\n",
    "        pl.col(\"Name\").count().alias(\"counts\")\n",
    "    )\n",
    ")"
   ]
  },
  {
   "cell_type": "markdown",
   "id": "5e6ec614-b946-4c86-9fb3-650e8a7e23c1",
   "metadata": {},
   "source": [
    "Calculate the percentage breakdown of passenger survival within each passenger class group. Calculate the percentage as 0-100.\n",
    "\n",
    "Sort the output by passenger class and survival"
   ]
  },
  {
   "cell_type": "code",
   "execution_count": null,
   "id": "28c7b1b4-52b0-47e0-8dc6-a6d49a16fbb0",
   "metadata": {
    "jupyter": {
     "source_hidden": true
    },
    "tags": []
   },
   "outputs": [],
   "source": [
    "(\n",
    "    pl.read_csv(csv_file)\n",
    "    .group_by(\"Pclass\",\"Survived\")\n",
    "    .agg(\n",
    "        pl.col(\"Name\").count().alias(\"counts\")\n",
    "    )\n",
    "    .with_columns(\n",
    "        100*(pl.col(\"counts\")/pl.col(\"counts\").sum().over(\"Pclass\")).round(3).alias(\"percent\")\n",
    "    )\n",
    "    .sort(\"Pclass\",\"Survived\")\n",
    ")"
   ]
  },
  {
   "cell_type": "markdown",
   "id": "fc4f40a0-8558-4aef-b427-660efed918a5",
   "metadata": {},
   "source": [
    "Filter the `DataFrame` to find the passengers with the longest name in each class"
   ]
  },
  {
   "cell_type": "code",
   "execution_count": null,
   "id": "52d3e24e-f502-4799-a268-3a4864f881ee",
   "metadata": {
    "jupyter": {
     "source_hidden": true
    }
   },
   "outputs": [],
   "source": [
    "pl.Config.set_fmt_str_lengths(100)\n",
    "(\n",
    "    pl.read_csv(csv_file)\n",
    "    .filter(\n",
    "        pl.col(\"Name\").str.len_chars() == pl.col(\"Name\").str.len_chars().max().over(\"Pclass\")\n",
    "    )\n",
    "    .sort(\"Pclass\")\n",
    ")"
   ]
  },
  {
   "cell_type": "markdown",
   "id": "13b44806-b6a0-4946-8324-0bb04914a58d",
   "metadata": {},
   "source": [
    "Calculate the median age of passengers by `Pclass` and `Sex` using `group_by.agg`"
   ]
  },
  {
   "cell_type": "code",
   "execution_count": null,
   "id": "2e36015b-9c69-4879-851d-640d817a1b75",
   "metadata": {
    "jupyter": {
     "source_hidden": true
    }
   },
   "outputs": [],
   "source": [
    "(\n",
    "    pl.read_csv(csv_file)\n",
    "    .group_by(\"Pclass\",\"Sex\",maintain_order=True)\n",
    "    .agg(\n",
    "        pl.col(\"Age\").median()\n",
    "    )\n",
    ")"
   ]
  },
  {
   "cell_type": "markdown",
   "id": "e963ba9d-37ac-41a4-a65f-2b64f8763b7c",
   "metadata": {},
   "source": [
    "Fill `nulls` in the `Age` column by the median by `Pclass` and `Sex` in a new column called `Age_filled`. Filter by `nulls` in the `Age` column to confirm that the filled values correspond to the `group_by` above"
   ]
  },
  {
   "cell_type": "code",
   "execution_count": null,
   "id": "d09b9fb5-aa20-4b55-8cf6-8c2d47b89806",
   "metadata": {
    "jupyter": {
     "source_hidden": true
    }
   },
   "outputs": [],
   "source": [
    "(\n",
    "    pl.read_csv(csv_file)\n",
    "    .with_columns(\n",
    "        pl.col(\"Age\").fill_null(\n",
    "            pl.col(\"Age\").median().over(\"Pclass\",\"Sex\")\n",
    "        ).alias(\"Age_filled\")\n",
    "    )\n",
    "    .filter(\n",
    "        pl.col(\"Age\").is_null()\n",
    "    )\n",
    ")"
   ]
  }
 ],
 "metadata": {
  "kernelspec": {
   "display_name": "Python 3 (ipykernel)",
   "language": "python",
   "name": "python3"
  },
  "language_info": {
   "codemirror_mode": {
    "name": "ipython",
    "version": 3
   },
   "file_extension": ".py",
   "mimetype": "text/x-python",
   "name": "python",
   "nbconvert_exporter": "python",
   "pygments_lexer": "ipython3",
   "version": "3.10.1"
  }
 },
 "nbformat": 4,
 "nbformat_minor": 5
}
