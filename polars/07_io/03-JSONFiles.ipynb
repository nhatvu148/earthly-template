{
 "cells": [
  {
   "cell_type": "markdown",
   "id": "d5e1d8d8-7d1b-412c-8d7f-c99f44db57a3",
   "metadata": {},
   "source": [
    "# JSON and serialization\n",
    "By the end of this lecture you will be able to:\n",
    "- read and write a `DataFrame` to JSON and newline delimited JSON\n",
    "- do lazy scans of newline delimited JSON\n",
    "- serialize and deserialize a `DataFrame`\n",
    "\n",
    "A newline delimited JSON is a file with a valid JSON object per line. You can learn more about newline delimited JSON here: https://medium.com/@kandros/newline-delimited-json-is-awesome-8f6259ed4b4b\n",
    "\n",
    "JSON can be used to represent tabular data in a string format and is often used for sending data over a network. In this notebook we see how to parse JSON with Polars and an alternative (and more robust) way to convert a `DataFrame` to a string representation."
   ]
  },
  {
   "cell_type": "code",
   "execution_count": null,
   "id": "4731cf26-7649-4d23-8fed-d3fcf78c7e84",
   "metadata": {
    "tags": []
   },
   "outputs": [],
   "source": [
    "from pathlib import Path\n",
    "from collections import OrderedDict\n",
    "\n",
    "import polars as pl"
   ]
  },
  {
   "cell_type": "markdown",
   "id": "75171cd3-7d91-4f67-b603-5b61b8a0aa99",
   "metadata": {},
   "source": [
    "We create the following valid JSON string with three rows of data. Note that we prefix the string with `b` so Python converts the string to a bytes object.\n",
    "\n",
    "We convert to bytes because the `pl.read_json` method interprets a string input as a path to a file. The `pl.read_json` method can also accept a JSON string formatted as bytes, however."
   ]
  },
  {
   "cell_type": "code",
   "execution_count": null,
   "id": "a4be106a-988a-49c2-a196-4bfd4088e51f",
   "metadata": {
    "tags": []
   },
   "outputs": [],
   "source": [
    "jsonString = b\"\"\"\n",
    "    [\n",
    "        {\"id\":1,\"values\":\"a\"},\n",
    "        {\"id\":2,\"values\":\"b\"},\n",
    "        {\"id\":3,\"values\":null}\n",
    "    ]\n",
    "\"\"\""
   ]
  },
  {
   "cell_type": "code",
   "execution_count": null,
   "id": "d709c9e7-6cd0-4c57-bd28-d80501673520",
   "metadata": {
    "tags": []
   },
   "outputs": [],
   "source": [
    "(\n",
    "    pl.read_json(jsonString)\n",
    ")"
   ]
  },
  {
   "cell_type": "markdown",
   "id": "8253857d-63b7-4e89-8003-0148d90ffaa0",
   "metadata": {},
   "source": [
    "Note that if you receive a JSON string (from a HTTP response for example) you can cast the string to bytes so Polars can read it with Python's built-in `bytes` function and the appropriate encoding (utf-8 in this example)"
   ]
  },
  {
   "cell_type": "code",
   "execution_count": null,
   "id": "134b5127-86b4-43fc-a712-5531b599952a",
   "metadata": {
    "tags": []
   },
   "outputs": [],
   "source": [
    "pl.read_json(\n",
    "    bytes(\"\"\"\n",
    "        [\n",
    "            {\"id\":1,\"values\":\"a\"},\n",
    "            {\"id\":2,\"values\":\"b\"},\n",
    "            {\"id\":3,\"values\":null}\n",
    "        ]\n",
    "    \"\"\",\n",
    "        \"utf-8\"\n",
    "         )\n",
    ")"
   ]
  },
  {
   "cell_type": "markdown",
   "id": "e625201b-071b-43ee-a03d-691dee19ed40",
   "metadata": {},
   "source": [
    "We can specify the schema of the output with the `schema` argument. Here we pass a `dict` with the mapping for a column"
   ]
  },
  {
   "cell_type": "code",
   "execution_count": null,
   "id": "242c2c3d-2867-4d44-b3be-1d85cb657c97",
   "metadata": {},
   "outputs": [],
   "source": [
    "(\n",
    "    pl.read_json(jsonString,schema={\"id\":pl.Int64})\n",
    ")"
   ]
  },
  {
   "cell_type": "markdown",
   "id": "40373292-2d2e-4863-9f99-ea8e4a273a69",
   "metadata": {},
   "source": [
    "Or we can pass an `OrderedDict`"
   ]
  },
  {
   "cell_type": "code",
   "execution_count": null,
   "id": "f1871050-af5f-4ed8-b820-9b2b550e7e90",
   "metadata": {},
   "outputs": [],
   "source": [
    "(\n",
    "    pl.read_json(jsonString,schema=OrderedDict([(\"id\",pl.Int64)]))\n",
    ")"
   ]
  },
  {
   "cell_type": "markdown",
   "id": "8e8abfd8-1e91-4f52-93e1-670e1a70bfde",
   "metadata": {},
   "source": [
    "As the data in `jsonString` does not specify the dtypes of the column Polars tries to infer these from the first rows. We can control how many rows Polars uses to infer the dtypes with the `infer_schema_length` argument"
   ]
  },
  {
   "cell_type": "code",
   "execution_count": null,
   "id": "a2c0b021-6d75-48ab-9856-ba10fe6adb6b",
   "metadata": {},
   "outputs": [],
   "source": [
    "(\n",
    "    pl.read_json(jsonString,infer_schema_length=2)\n",
    ")"
   ]
  },
  {
   "cell_type": "markdown",
   "id": "aba5ef75-778f-4520-8c84-11e1c36d3948",
   "metadata": {},
   "source": [
    "### Writing JSON\n",
    "We can write a `DataFrame` to a JSON string with `write_json`"
   ]
  },
  {
   "cell_type": "code",
   "execution_count": null,
   "id": "69652990-d8e2-43bf-b207-c0cc07335d88",
   "metadata": {},
   "outputs": [],
   "source": [
    "df = pl.read_json(jsonString)\n",
    "df.write_json()"
   ]
  },
  {
   "cell_type": "markdown",
   "id": "ad7e0d66-c2ab-4a60-a4e4-8e452051dff1",
   "metadata": {},
   "source": [
    "Be aware that we can lose dtype information by writing to and then reading JSON. Here, for example, we cast the `id` column to 8-bit integer before writing to JSON but the final `DataFrame` has a 64-bit integer `id` column. We see an alternative approach to deal with this below."
   ]
  },
  {
   "cell_type": "code",
   "execution_count": null,
   "id": "c3e60bf3-c972-48a0-9146-efdce3570072",
   "metadata": {},
   "outputs": [],
   "source": [
    "json_output = (\n",
    "    pl.read_json(jsonString)\n",
    "    .with_columns(\n",
    "        pl.col(\"id\").cast(pl.Int8)\n",
    "    )\n",
    "    .write_json()\n",
    ")\n",
    "pl.read_json(bytes(json_output,\"utf-8\"))"
   ]
  },
  {
   "cell_type": "markdown",
   "id": "7a01ef53-1e94-40f2-a7ff-6543543502e9",
   "metadata": {},
   "source": [
    "## Nested data\n",
    "\n",
    "JSON may contain arbitrarily nested structures. Polars tries to cast these nested structures to its own nested dtypes. \n",
    "\n",
    "### Nested key-value pairs\n",
    "Polars converts the key-value pair in `values` to a `pl.Struct` dtype *if the types in the nested structure are consistent*. Otherwise an `Exception` is raised"
   ]
  },
  {
   "cell_type": "code",
   "execution_count": null,
   "id": "1ac601ba-0c0c-48be-8710-cda2cdd91d0e",
   "metadata": {},
   "outputs": [],
   "source": [
    "nestedJsonString = b\"\"\"\n",
    "    [\n",
    "        {\"id\":1,\"values\":{\"a\":0,\"b\":1}},\n",
    "        {\"id\":2,\"values\":{\"a\":0,\"b\":1}},\n",
    "        {\"id\":3,\"values\":null}\n",
    "    ]\n",
    "\"\"\""
   ]
  },
  {
   "cell_type": "code",
   "execution_count": null,
   "id": "6be9557b-3052-494f-8023-dceabcfc5c80",
   "metadata": {},
   "outputs": [],
   "source": [
    "(\n",
    "    pl.read_json(nestedJsonString)\n",
    ")"
   ]
  },
  {
   "cell_type": "markdown",
   "id": "c7b7be71-335f-45e2-91ce-93fbc929d8cb",
   "metadata": {},
   "source": [
    "### Nested arrays\n",
    "Polars attempts to convert arrays to a `pl.List` dtype"
   ]
  },
  {
   "cell_type": "code",
   "execution_count": null,
   "id": "8a4b9f07-9c1a-4ec0-a907-be8aa3e8d8c8",
   "metadata": {},
   "outputs": [],
   "source": [
    "nestedArrayJsonString = b\"\"\"\n",
    "    [\n",
    "        {\"id\":1,\"values\":[0,1]},\n",
    "        {\"id\":2,\"values\":[0,1.0]}\n",
    "    ]\n",
    "\"\"\""
   ]
  },
  {
   "cell_type": "code",
   "execution_count": null,
   "id": "4646be1c-0b5f-4a34-97d6-177dfcbe1dbc",
   "metadata": {},
   "outputs": [],
   "source": [
    "(\n",
    "    pl.read_json(nestedArrayJsonString)\n",
    ")"
   ]
  },
  {
   "cell_type": "markdown",
   "id": "d159d500-0910-47b1-98b3-9415728dafdf",
   "metadata": {},
   "source": [
    "## Newline delimited JSON\n",
    "In a similar way to standard JSON we can read newline delimited JSON with `pl.read_ndjson`"
   ]
  },
  {
   "cell_type": "code",
   "execution_count": null,
   "id": "5beedff5-8e79-4d7c-8655-d3c80fcf123c",
   "metadata": {},
   "outputs": [],
   "source": [
    "newlineDelimitedJsonString = b\"\"\"\n",
    "        {\"id\":1,\"values\":\"a\"}\\n\n",
    "        {\"id\":2,\"values\":\"b\"}\\n\n",
    "        {\"id\":3,\"values\":null}\\n\n",
    "\"\"\""
   ]
  },
  {
   "cell_type": "code",
   "execution_count": null,
   "id": "291c7f88-4381-4882-b540-d6d04f3eb7c4",
   "metadata": {},
   "outputs": [],
   "source": [
    "(\n",
    "    pl.read_ndjson(newlineDelimitedJsonString)\n",
    ")"
   ]
  },
  {
   "cell_type": "markdown",
   "id": "a5c541e2-5d1a-4631-81ce-be95257c62e9",
   "metadata": {},
   "source": [
    "As with standard JSON we can pass a `schema` and set `infer_schema_length`.\n",
    "\n",
    "We can also do lazy scans of newline-delimited JSON. To show this we must first create a directory to hold an example newline-delimited JSON"
   ]
  },
  {
   "cell_type": "code",
   "execution_count": null,
   "id": "1bbcb2e1-5676-4e9e-856a-db7175794401",
   "metadata": {},
   "outputs": [],
   "source": [
    "# Specify a directory to hold the ndJSON file\n",
    "ndjson_dir = Path('data_files/ndjson')\n",
    "ndjson_file = \"example.json\"\n",
    "# Create the ndjson sub-directory if it doesn't exist already\n",
    "ndjson_dir.mkdir(parents=True,exist_ok=True)\n",
    "# Set the path to the ndJSON file\n",
    "ndjson_path = ndjson_dir / ndjson_file"
   ]
  },
  {
   "cell_type": "markdown",
   "id": "657aacb4-a7b0-4a65-b624-db7a554c84fe",
   "metadata": {},
   "source": [
    "Now we create a `DataFrame` from the example above and write it to the example file"
   ]
  },
  {
   "cell_type": "code",
   "execution_count": null,
   "id": "b449f5c8-dc60-4743-b64e-3d62ec768c99",
   "metadata": {},
   "outputs": [],
   "source": [
    "(\n",
    "    pl.read_ndjson(newlineDelimitedJsonString)\n",
    "    .write_ndjson(ndjson_path)\n",
    ")"
   ]
  },
  {
   "cell_type": "markdown",
   "id": "491b9223-9e56-4cc1-b259-bab2a09d3325",
   "metadata": {},
   "source": [
    "We can now start a lazy query by scanning the ndJSON file"
   ]
  },
  {
   "cell_type": "code",
   "execution_count": null,
   "id": "ac0fe991-a951-4800-aae0-4d304174279f",
   "metadata": {},
   "outputs": [],
   "source": [
    "print(\n",
    "    pl.scan_ndjson(ndjson_path)\n",
    "    .select(\"id\")\n",
    "    .explain()\n",
    ")"
   ]
  },
  {
   "cell_type": "markdown",
   "id": "2a9ad58b-d991-40a7-872f-9dc3d76592f9",
   "metadata": {},
   "source": [
    "At present `pl.scan_ndjson` does not work in streaming mode (as there is no `STREAMING` part of this query plan)"
   ]
  },
  {
   "cell_type": "code",
   "execution_count": null,
   "id": "a9f9cb1f-10b5-430b-ba2a-c361209e6258",
   "metadata": {},
   "outputs": [],
   "source": [
    "print(\n",
    "    pl.scan_ndjson(ndjson_path)\n",
    "    .select(\"id\")\n",
    "    .explain(streaming=True)\n",
    ")"
   ]
  },
  {
   "cell_type": "markdown",
   "id": "5b6bd748-7bb3-41b4-ae80-a8e9569df5b7",
   "metadata": {},
   "source": [
    "## Serialization\n",
    "Polars has an alternative way to serialize a `DataFrame` to a string representation. First we create our `DataFrame`"
   ]
  },
  {
   "cell_type": "code",
   "execution_count": null,
   "id": "d8189184-6923-4afb-bbeb-9edccee8018b",
   "metadata": {},
   "outputs": [],
   "source": [
    "df = pl.read_json(jsonString)"
   ]
  },
  {
   "cell_type": "markdown",
   "id": "90ab9c66-2111-47f1-aca7-4bd4b98bf05f",
   "metadata": {},
   "source": [
    "We then call `serialize` to get the string JSON representation"
   ]
  },
  {
   "cell_type": "code",
   "execution_count": null,
   "id": "deedb5ba-8200-461f-b029-f9f7e8094c76",
   "metadata": {},
   "outputs": [],
   "source": [
    "(\n",
    "    df\n",
    "    .serialize(format=\"json\")\n",
    ")"
   ]
  },
  {
   "cell_type": "markdown",
   "id": "8b69383a-650d-4c33-9f52-616636d57c41",
   "metadata": {},
   "source": [
    "In the output we see that the `datatype` for each column is specified. We can pass a file path to `serialize` to write to a file instead of outputting a string.\n",
    "\n",
    "To convert the serialized output back to a `DataFrame` we call `pl.DataFrame.deserialize` on the file or the string (encoded as bytes for a JSON string)"
   ]
  },
  {
   "cell_type": "code",
   "execution_count": null,
   "id": "2103a166-3062-40e9-8510-4de1b81e97c2",
   "metadata": {},
   "outputs": [],
   "source": [
    "(\n",
    "    pl.DataFrame.deserialize(\n",
    "        bytes(\n",
    "            df\n",
    "            .cast(\n",
    "                {\n",
    "                    \"id\":pl.Int8\n",
    "                }\n",
    "            )\n",
    "            .serialize(format=\"json\"),\n",
    "            \"utf-8\"\n",
    "        ),\n",
    "        format=\"json\"\n",
    "    )\n",
    ")"
   ]
  },
  {
   "cell_type": "markdown",
   "id": "a5e3702b-12d3-43be-833d-47773517b833",
   "metadata": {},
   "source": [
    "Above we passed the `format=json` argument to get the output as a human-readable JSON. By default, however, the output of `serialize` is a bytes representation of the `DataFrame`"
   ]
  },
  {
   "cell_type": "code",
   "execution_count": null,
   "id": "a2477f08-868e-4692-b36a-f2350809ca57",
   "metadata": {},
   "outputs": [],
   "source": [
    "(\n",
    "    df\n",
    "    .serialize()\n",
    ")"
   ]
  },
  {
   "cell_type": "markdown",
   "id": "978dbdfa-c484-4339-8082-9ffd2b21ae1a",
   "metadata": {},
   "source": [
    "We can do re-create the `DataFrame` by passing this output as a `io.BytesIO` object using Python's built-in `io` module"
   ]
  },
  {
   "cell_type": "code",
   "execution_count": null,
   "id": "0cae6ab7-a4ae-43be-89ca-30e664b92133",
   "metadata": {},
   "outputs": [],
   "source": [
    "import io\n",
    "(\n",
    "    pl.DataFrame.deserialize(\n",
    "            io.BytesIO(df.serialize())\n",
    "    )\n",
    ")"
   ]
  }
 ],
 "metadata": {
  "kernelspec": {
   "display_name": "Python 3 (ipykernel)",
   "language": "python",
   "name": "python3"
  },
  "language_info": {
   "codemirror_mode": {
    "name": "ipython",
    "version": 3
   },
   "file_extension": ".py",
   "mimetype": "text/x-python",
   "name": "python",
   "nbconvert_exporter": "python",
   "pygments_lexer": "ipython3",
   "version": "3.10.1"
  }
 },
 "nbformat": 4,
 "nbformat_minor": 5
}
