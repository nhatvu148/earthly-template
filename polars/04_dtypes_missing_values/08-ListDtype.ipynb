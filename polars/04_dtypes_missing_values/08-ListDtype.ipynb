{
 "cells": [
  {
   "cell_type": "markdown",
   "id": "2bf5718e-7cf0-49ba-8898-6ec9645fc09b",
   "metadata": {},
   "source": [
    "## List dtype 1: Creating and transforming List columns\n",
    "By the end of this lecture you will be able to:\n",
    "- select `pl.List` columns\n",
    "- explode a `pl.List` column into rows\n",
    "- convert a `pl.List` column to a `pl.Struct` or a Numpy array"
   ]
  },
  {
   "cell_type": "code",
   "execution_count": null,
   "id": "6773a7b8-738d-4848-b17d-452e3e3029be",
   "metadata": {
    "tags": []
   },
   "outputs": [],
   "source": [
    "import polars as pl"
   ]
  },
  {
   "cell_type": "markdown",
   "id": "c9abc1a6-8fc6-4864-94b0-ea256e5f0a12",
   "metadata": {},
   "source": [
    "We create a `DataFrame` with integer, floating point and string `pl.List` columns. We set `strict=False` so that we can mix integers and floats in the input data for `floats`"
   ]
  },
  {
   "cell_type": "code",
   "execution_count": null,
   "id": "0e98f87d-b6a3-44bd-93ab-d012ee5f4091",
   "metadata": {
    "tags": []
   },
   "outputs": [],
   "source": [
    "df_lists = pl.DataFrame(\n",
    "    {\n",
    "        'ints':[ \n",
    "            [0,1], \n",
    "            [2,3]\n",
    "        ],\n",
    "        'floats':[ \n",
    "            [0.0,1], \n",
    "            [2,3]\n",
    "        ],\n",
    "        'strings':[ \n",
    "            [\"0\",\"1\"],\n",
    "            [\"2\",\"3\"]\n",
    "        ]\n",
    "    },strict=False\n",
    ")\n",
    "df_lists"
   ]
  },
  {
   "cell_type": "markdown",
   "id": "437b3058-b5f6-4c78-8d79-81de164a10e5",
   "metadata": {},
   "source": [
    "In the printed representation we see a list on each row.\n",
    "\n",
    "In reality the data on each row of a `pl.List` column is a Polars `Series`.\n",
    "\n",
    "We can see the underlying `Series` by selecting a row in a `pl.List` column"
   ]
  },
  {
   "cell_type": "code",
   "execution_count": null,
   "id": "01add894-a911-45d9-b96e-94899e136b5f",
   "metadata": {
    "tags": []
   },
   "outputs": [],
   "source": [
    "df_lists[0,\"ints\"]"
   ]
  },
  {
   "cell_type": "markdown",
   "id": "9d7c4149-a0e2-48a7-9a46-5a271a61742b",
   "metadata": {},
   "source": [
    "We can configure how many list elements are printed with a `pl.Config` setting"
   ]
  },
  {
   "cell_type": "code",
   "execution_count": null,
   "id": "4a5a87e4-451e-4a67-93e7-c30a97e9491e",
   "metadata": {},
   "outputs": [],
   "source": [
    "pl.Config.set_fmt_table_cell_list_len(20)"
   ]
  },
  {
   "cell_type": "markdown",
   "id": "af3e2680-a734-4525-a8d5-85293531382a",
   "metadata": {},
   "source": [
    "## Selecting `pl.List` columns by dtype\n",
    "We cannot select all `pl.List` columns without the column dtype"
   ]
  },
  {
   "cell_type": "code",
   "execution_count": null,
   "id": "1c438c14-b9d5-4d2f-9b89-e257dcc513b8",
   "metadata": {},
   "outputs": [],
   "source": [
    "(\n",
    "    df_lists\n",
    "    .select(\n",
    "        pl.col(pl.List)\n",
    "    )\n",
    ")"
   ]
  },
  {
   "cell_type": "markdown",
   "id": "90aaf38c-587f-4b88-bda9-2e61227963ad",
   "metadata": {},
   "source": [
    "Instead we must pass the dtype for the lists in that column.\n",
    "\n",
    "In this example we select the 64-bit integer `pl.List` column "
   ]
  },
  {
   "cell_type": "code",
   "execution_count": null,
   "id": "5975fa7e-4a15-421e-923d-e4bdbb4b266b",
   "metadata": {},
   "outputs": [],
   "source": [
    "(\n",
    "    df_lists\n",
    "    .select(\n",
    "        pl.col(pl.List(pl.Int64))\n",
    "    )\n",
    ")"
   ]
  },
  {
   "cell_type": "markdown",
   "id": "814d60a2-c941-4e8c-a4d2-2bbd5a7c91a5",
   "metadata": {},
   "source": [
    "### Length of List columns\n",
    "The length of the list does not have to be the same on each row"
   ]
  },
  {
   "cell_type": "code",
   "execution_count": null,
   "id": "cb31dc99-53af-4f79-924d-e728283cc515",
   "metadata": {},
   "outputs": [],
   "source": [
    "(\n",
    "    pl.DataFrame(\n",
    "        {\n",
    "            'values':[ \n",
    "                [0,1], \n",
    "                [2,3,4],\n",
    "                [4,5,6,7,8]\n",
    "            ],\n",
    "        }\n",
    "    )\n",
    ")"
   ]
  },
  {
   "cell_type": "markdown",
   "id": "76b7ddbd-2952-4001-8ebd-42ac2c26a708",
   "metadata": {},
   "source": [
    "Polars also has a `pl.Array` dtype where the length of the arrays do have to be the same on each row. We create this dtype by specifying the length of the arrays and the inner dtype"
   ]
  },
  {
   "cell_type": "code",
   "execution_count": null,
   "id": "9c9f4cca-a1b0-4f00-9e89-e9770083a2b4",
   "metadata": {},
   "outputs": [],
   "source": [
    "(\n",
    "    df_lists\n",
    "    .with_columns(\n",
    "        ints_array = pl.col('ints').cast(pl.Array(shape=2,inner=pl.Int64))\n",
    "    )\n",
    "    .select('ints','ints_array')\n",
    ")"
   ]
  },
  {
   "cell_type": "markdown",
   "id": "f0a5b92c-1797-4286-8552-a709bfc784f4",
   "metadata": {},
   "source": [
    "At present the functionality for the `pl.Array` dtype is limited so we focus on the `pl.List` dtype here"
   ]
  },
  {
   "cell_type": "markdown",
   "id": "ab61bbec-64ad-434d-825a-06f6de8cccef",
   "metadata": {},
   "source": [
    "## Turning `pl.List` columns into rows\n",
    "We use `explode` to expand each list element into its own row. To illustrate this we first create a simpler `DataFrame` with an `id` column and a `values` `pl.List` column"
   ]
  },
  {
   "cell_type": "code",
   "execution_count": null,
   "id": "cd013c20-8566-4094-ac3e-322265cf2d98",
   "metadata": {},
   "outputs": [],
   "source": [
    "df_list = pl.DataFrame(\n",
    "    {\n",
    "        \"id\":[\"a\",\"b\"],\n",
    "        'values':[ \n",
    "            [0,1], \n",
    "            [2,3,4]\n",
    "        ],\n",
    "    }\n",
    ")\n",
    "df_list"
   ]
  },
  {
   "cell_type": "markdown",
   "id": "7e893473-5eae-4bf4-9363-bd8d422aa4d1",
   "metadata": {},
   "source": [
    "We can convert each list element into its own row by calling `explode` on the `DataFrame`"
   ]
  },
  {
   "cell_type": "code",
   "execution_count": null,
   "id": "a2e3375f-4f8f-4048-ba51-464b8d9bb700",
   "metadata": {},
   "outputs": [],
   "source": [
    "(\n",
    "    df_list\n",
    "    .explode(\"values\")\n",
    ")"
   ]
  },
  {
   "cell_type": "markdown",
   "id": "ea8ac98e-137e-44c0-979e-0b88db55ee27",
   "metadata": {},
   "source": [
    "### Using `explode` to do operations on `pl.List` columns\n",
    "In the next lecture we see how to apply expressions to `pl.List` columns. However, this approach of instead using `explode` is often both a more performant solution that is easier to write than using list expressions (particularly where the list expressions require the `eval` approach we see in the nex lecture).\n",
    "\n",
    "For example, here we want to create a new column that has the rank of the values in each list (with the lowest value having rank 1 etc).\n",
    "\n",
    "We do this first by:\n",
    "- doing `explode` on the list column\n",
    "- doing the `rank` expression (using `over` to do it by `list`: we see more on `over` in the next section)"
   ]
  },
  {
   "cell_type": "code",
   "execution_count": null,
   "id": "0bce1493-2b82-4a2a-aef2-b72614d40c11",
   "metadata": {},
   "outputs": [],
   "source": [
    "(\n",
    "    df_list\n",
    "    .explode(\"values\")\n",
    "    .with_columns(\n",
    "        pl.col(\"values\").rank().over(\"id\").cast(pl.Int32).alias(\"rank\")\n",
    "    )\n",
    ")"
   ]
  },
  {
   "cell_type": "markdown",
   "id": "0da137a1-a886-4895-84ff-b7f47fa8d7d2",
   "metadata": {},
   "source": [
    "We can then gather the data back-up into `pl.List` columns by using `group_by` on the `id` column and aggregating the `values` and `rank` by `id`.\n",
    "\n",
    "We continue the example above with `group_by`"
   ]
  },
  {
   "cell_type": "code",
   "execution_count": null,
   "id": "c5338064-f02f-4b5a-b862-e4cc5f350841",
   "metadata": {},
   "outputs": [],
   "source": [
    "(\n",
    "    df_list\n",
    "    .explode(\"values\")\n",
    "    .with_columns(\n",
    "        pl.col(\"values\").rank().over(\"id\").cast(pl.Int32).alias(\"rank\")\n",
    "    )\n",
    "    .group_by(\"id\")\n",
    "    .agg(\n",
    "        pl.col(\"values\"),\n",
    "        pl.col(\"rank\")\n",
    "    )\n",
    ")"
   ]
  },
  {
   "cell_type": "markdown",
   "id": "96dbeb3e-495e-4339-bb1d-102cda04f68f",
   "metadata": {},
   "source": [
    "> This next idea is more advanced, you may want to come back to it later if you find there are too many new concepts in it\n",
    "\n",
    "This approach can be memory intensive if you have many columns and/or a list column with many elements. One way to reduce memory use is to do the `explode` in a `pipe` function where you only select the columns you need to do the `expode`/`group_by` operations.\n",
    "\n",
    "To illustrate this we create a new `DataFrame` with an extra column"
   ]
  },
  {
   "cell_type": "code",
   "execution_count": null,
   "id": "b8486ed1-2298-4915-9b12-ad3db2f6cffb",
   "metadata": {},
   "outputs": [],
   "source": [
    "df_list_extra_column = pl.DataFrame(\n",
    "    {\n",
    "        \"id\":[\"a\",\"b\"],\n",
    "        \"id2\":[\"c\",\"d\"],\n",
    "        'values':[ \n",
    "            [0,1], \n",
    "            [2,3,4]\n",
    "        ],\n",
    "    }\n",
    ")\n",
    "df_list_extra_column"
   ]
  },
  {
   "cell_type": "markdown",
   "id": "91ba578a-6406-4e3f-883c-1f071265c65d",
   "metadata": {},
   "source": [
    "We now (from inside-out in the code below):\n",
    "- `pipe` the `df_list_extra_column` into a function where we call it `df`\n",
    "- in the function we calculate the rank column\n",
    "- join the results back to `df_list_extra_column` (see the section on joins and concatenations if you are not familar with joins)"
   ]
  },
  {
   "cell_type": "code",
   "execution_count": null,
   "id": "38a6d22e-66d1-4d8d-9c86-d375bc086600",
   "metadata": {},
   "outputs": [],
   "source": [
    "(\n",
    "    df_list_extra_column\n",
    "    .join(\n",
    "        # Join the outputs of the ranking back onto the DataFrame\n",
    "        df_list_extra_column.pipe(\n",
    "            # Pass df_list_extra_column into the function as \"df\"\n",
    "            lambda df: (\n",
    "                df\n",
    "                # Restrict the number of columns before exploding\n",
    "                .select(\"id\",\"values\")\n",
    "                # Do the same ranking operations as above\n",
    "                .explode(\"values\")\n",
    "                .with_columns(\n",
    "                    pl.col(\"values\").rank().over(\"id\").cast(pl.Int32).alias(\"rank\")\n",
    "                )\n",
    "                .group_by(\"id\")\n",
    "                .agg(\n",
    "                    # Only return the rank column as the values column is already in df_list_extra_column\n",
    "                    pl.col(\"rank\")\n",
    "                )\n",
    "            )\n",
    "        ),\n",
    "        # Join the results back on the id column\n",
    "        on=\"id\",\n",
    "        how=\"left\",\n",
    "        coalesce=True\n",
    "    )\n",
    ")"
   ]
  },
  {
   "cell_type": "markdown",
   "id": "e1557b30-dcce-4a03-9ee9-58dafa8b031c",
   "metadata": {},
   "source": [
    "## Convert a `pl.List` column to a `pl.Struct` column\n",
    "Polars has an `list` namespace with expressions that work on `pl.List` columns (we see more of this in the next lecture).\n",
    "\n",
    "We convert a `pl.List` column to a `pl.Struct` column with `list.to_struct`.\n",
    "\n",
    "> Recall that the data is stored in memory differently in a List column compared to a Struct column. In a List column each row horizontally is a Series. In a Struct column each nested column vertically is a Series\n",
    "\n",
    "In this example we use `list.to_struct` to turn the `pl.List` column into `DataFrame` columns"
   ]
  },
  {
   "cell_type": "code",
   "execution_count": null,
   "id": "d8c83fd2-5056-4173-a8b7-ca9863612750",
   "metadata": {},
   "outputs": [],
   "source": [
    "(\n",
    "    pl.DataFrame(\n",
    "        {\n",
    "            'values':[ \n",
    "                [0,1], \n",
    "                [2,3],\n",
    "                [4,5]\n",
    "            ],\n",
    "        }\n",
    "    )\n",
    "    # Convert the lists to a struct\n",
    "    .with_columns(\n",
    "        pl.col(\"values\").list.to_struct().alias(\"value_struct\")\n",
    "    )\n",
    ")"
   ]
  },
  {
   "cell_type": "markdown",
   "id": "28b733c1-d51a-4efd-9e6e-35cd08eb8465",
   "metadata": {},
   "source": [
    "We can then create full `DataFrame` columns from the `pl.Struct` column by calling `unnest` on the `DataFrame`"
   ]
  },
  {
   "cell_type": "code",
   "execution_count": null,
   "id": "21b0a514-509a-490a-8ea9-bf881754ba49",
   "metadata": {},
   "outputs": [],
   "source": [
    "(\n",
    "    pl.DataFrame(\n",
    "        {\n",
    "            'values':[ \n",
    "                [0,1], \n",
    "                [2,3],\n",
    "                [4,5]\n",
    "            ],\n",
    "        }\n",
    "    )\n",
    "    # Convert the lists to a struct\n",
    "    .with_columns(\n",
    "        pl.col(\"values\").list.to_struct().alias(\"value_struct\")\n",
    "    )\n",
    "    # Un-nest the struct to DataFrame columns\n",
    "    .unnest(\"value_struct\")\n",
    ")"
   ]
  },
  {
   "cell_type": "markdown",
   "id": "899a27fa-5328-458c-a983-800a82d20217",
   "metadata": {},
   "source": [
    "While a `pl.List` list can have a variable number of elements a `pl.Struct` has a fixed number of elements on each row. The number of struct nested columns is set by the length of the first row the `pl.List` column:\n",
    "- if subsequent `pl.List` rows are shorter then these become `null` values in the `pl.Struct` nested columns\n",
    "- if subsequent `pl.List` rows are longer then these are dropped from the the `pl.Struct` nested columns\n",
    "\n",
    "Try this yourself by adding or removing values from the second row of the lists above"
   ]
  },
  {
   "cell_type": "markdown",
   "id": "3a571a99-aba8-4510-9721-35464d840ffe",
   "metadata": {},
   "source": [
    "## Convert a `pl.List` column to a Numpy array\n",
    "A `pl.List` column is a natural way to hold array data that we may need in Numpy. \n",
    "\n",
    "Here we create a `pl.List(pl.Float64)` column that holds `embeddings` from a machine learning model"
   ]
  },
  {
   "cell_type": "code",
   "execution_count": null,
   "id": "a9ef158b-f74b-4ae6-8017-284413725e37",
   "metadata": {},
   "outputs": [],
   "source": [
    "df_embeddings = (\n",
    "    pl.DataFrame(\n",
    "        {\n",
    "            'embeddings':[ \n",
    "                [0.0,1.0], \n",
    "                [2.0,3.0],\n",
    "                [4.0,5.0]\n",
    "            ],\n",
    "        }\n",
    "    )\n",
    ")\n",
    "df_embeddings"
   ]
  },
  {
   "cell_type": "markdown",
   "id": "24f17ce6-d46e-430f-b5f7-2d7672eefda2",
   "metadata": {},
   "source": [
    "If we call `to_numpy` directly on the `embeddings` column we get a **one-dimensional `object`** Numpy array where each element is an array"
   ]
  },
  {
   "cell_type": "code",
   "execution_count": null,
   "id": "8df3a1f1-abd7-405b-9173-762a807a7e9a",
   "metadata": {},
   "outputs": [],
   "source": [
    "df_embeddings[\"embeddings\"].to_numpy()"
   ]
  },
  {
   "cell_type": "markdown",
   "id": "9d1f1d50-e770-4df2-a095-f9c1496f8fe8",
   "metadata": {},
   "source": [
    "To get the `embeddings` column as a two-dimensional Numpy array we can `explode` the column and then reshape it in Numpy"
   ]
  },
  {
   "cell_type": "code",
   "execution_count": null,
   "id": "60742853-e418-413a-a022-ff2ad5e693a2",
   "metadata": {},
   "outputs": [],
   "source": [
    "(\n",
    "    df_embeddings\n",
    "    [\"embeddings\"]\n",
    "    .explode()\n",
    "    .to_numpy()\n",
    "    .reshape(len(df_embeddings),-1)\n",
    ")"
   ]
  },
  {
   "cell_type": "markdown",
   "id": "b555d05a-e2c4-4719-ae56-307edc600d1f",
   "metadata": {},
   "source": [
    "Alternatively, the fixed-width `pl.Array` dtype converts directly to a Numpy two-dimensional array without a reshape"
   ]
  },
  {
   "cell_type": "code",
   "execution_count": null,
   "id": "2cece2e1-4ae2-4a4e-887d-d282289cc226",
   "metadata": {},
   "outputs": [],
   "source": [
    "(\n",
    "    df_embeddings\n",
    "    .with_columns(\n",
    "        pl.col(\"embeddings\").cast(pl.Array(shape=2,inner=pl.Float64))\n",
    "    )\n",
    "    [\"embeddings\"]\n",
    "    .to_numpy()\n",
    ")"
   ]
  },
  {
   "cell_type": "markdown",
   "id": "2961f4d8-4b7a-4b23-88b6-0bd3802ae351",
   "metadata": {},
   "source": [
    "## Exercises\n",
    "In the exercises you will develop your understanding of:\n",
    "- selecting list columns\n",
    "- exploding list columns\n",
    "- counting occurences in a list column\n",
    "\n",
    "### Exercise 1\n",
    "We create a `DataFrame` with `pl.List` columns"
   ]
  },
  {
   "cell_type": "code",
   "execution_count": null,
   "id": "2d76f6ef-448c-4eb2-ac47-c4ee1ecd050d",
   "metadata": {},
   "outputs": [],
   "source": [
    "df_lists = pl.DataFrame(\n",
    "    {\n",
    "        'ints':[ \n",
    "            [0,1], \n",
    "            [2,3]\n",
    "        ],\n",
    "        'floats':[ \n",
    "            [0.0,1], \n",
    "            [2,3]\n",
    "        ],\n",
    "        'strings':[ \n",
    "            [\"0\",\"1\"],\n",
    "            [\"2\",\"3\"]\n",
    "        ]\n",
    "\n",
    "    },\n",
    "    strict=False\n",
    ")\n",
    "df_lists"
   ]
  },
  {
   "cell_type": "markdown",
   "id": "85af80e0-57cb-4d7f-ad07-03056d4b349b",
   "metadata": {},
   "source": [
    "Select the floating point list column from `df_lists`"
   ]
  },
  {
   "cell_type": "code",
   "execution_count": null,
   "id": "715626c9-c5bc-4039-8fac-fdc26ea6a783",
   "metadata": {},
   "outputs": [],
   "source": [
    "(\n",
    "    df_lists\n",
    "    <blank>\n",
    ")"
   ]
  },
  {
   "cell_type": "markdown",
   "id": "bc5f4700-5ef8-42b0-ada7-a317a36418c7",
   "metadata": {},
   "source": [
    "Select the floating point **and** integer list column from `df_lists`"
   ]
  },
  {
   "cell_type": "code",
   "execution_count": null,
   "id": "c994dfce-060c-426e-8d6e-68b756635429",
   "metadata": {},
   "outputs": [],
   "source": [
    "(\n",
    "    df_lists\n",
    "    <blank>\n",
    ")"
   ]
  },
  {
   "cell_type": "markdown",
   "id": "7b22aa8a-0b21-4386-bc6d-43315796768e",
   "metadata": {},
   "source": [
    "### Exercise 2\n",
    "We create a `pl.List` column from the Titanic dataset by splitting the `Name` column on every whitespace"
   ]
  },
  {
   "cell_type": "code",
   "execution_count": null,
   "id": "799027fd-a906-4ab5-b083-0aee5a2bfa3f",
   "metadata": {},
   "outputs": [],
   "source": [
    "csv_file = \"../data/titanic.csv\"\n",
    "df = (\n",
    "    pl.read_csv(csv_file)\n",
    "    .select(\n",
    "        [\n",
    "            \"PassengerId\",\n",
    "            \"Pclass\",\n",
    "            \"Name\",\n",
    "            pl.col(\"Name\").str.split(\" \").alias(\"Name_list\")\n",
    "        ]\n",
    "    )\n",
    ")\n",
    "df.head(2)"
   ]
  },
  {
   "cell_type": "markdown",
   "id": "8369ea43-2538-4c6a-b01c-bb9410817403",
   "metadata": {},
   "source": [
    "Expand the `Name_list` column into separate rows"
   ]
  },
  {
   "cell_type": "code",
   "execution_count": null,
   "id": "33ae204c-ee55-4b43-a4a0-151533302383",
   "metadata": {},
   "outputs": [],
   "source": [
    "(\n",
    "    df\n",
    "    <blank>\n",
    "    .head()\n",
    ")"
   ]
  },
  {
   "cell_type": "markdown",
   "id": "c0d3fac6-89d5-4d10-8297-f6526115f6f7",
   "metadata": {},
   "source": [
    "Filter to remove rows with the titles: \"Mr.\",\"Mrs.\",\"Miss.\",\"Master.\" from the output"
   ]
  },
  {
   "cell_type": "code",
   "execution_count": null,
   "id": "0003fe55-d813-49dc-9481-46835426da81",
   "metadata": {},
   "outputs": [],
   "source": []
  },
  {
   "cell_type": "markdown",
   "id": "8845e703-4e03-4530-bfe9-b1e1a9c7073c",
   "metadata": {},
   "source": [
    "Find the most common names:\n",
    "\n",
    "After filtering the titles count the occurence of each name in the `Name_list` column using `.value_counts(sort=True)`"
   ]
  },
  {
   "cell_type": "code",
   "execution_count": null,
   "id": "d3493071-f9ef-4772-bc1a-718e251adbd9",
   "metadata": {},
   "outputs": [],
   "source": []
  },
  {
   "cell_type": "markdown",
   "id": "8a296ee1-e017-4c62-9424-c04187aa356c",
   "metadata": {},
   "source": [
    "## Solutions\n",
    "\n",
    "### Solution to exercise 1\n",
    "We create a `DataFrame` with `pl.List` columns. We use `strict=False` so that we can pass a mix of floats and integers for the `floats` column"
   ]
  },
  {
   "cell_type": "code",
   "execution_count": null,
   "id": "5f681b85-7549-4363-a124-accca87adbc4",
   "metadata": {},
   "outputs": [],
   "source": [
    "df_lists = pl.DataFrame(\n",
    "    {\n",
    "        'ints':[ \n",
    "            [0,1], \n",
    "            [2,3]\n",
    "        ],\n",
    "        'floats':[ \n",
    "            [0.0,1], \n",
    "            [2,3]\n",
    "        ],\n",
    "        'strings':[ \n",
    "            [\"0\",\"1\"],\n",
    "            [\"2\",\"3\"]\n",
    "        ]\n",
    "\n",
    "    },\n",
    "    strict=False\n",
    ")\n",
    "df_lists"
   ]
  },
  {
   "cell_type": "markdown",
   "id": "5524086f-2a95-4553-84cb-5f9069cfa9f0",
   "metadata": {},
   "source": [
    "Select the floating point list column from `df_lists`"
   ]
  },
  {
   "cell_type": "code",
   "execution_count": null,
   "id": "7e789992-5142-44ee-9b9d-a6b6f5f17c0a",
   "metadata": {
    "jupyter": {
     "source_hidden": true
    },
    "tags": []
   },
   "outputs": [],
   "source": [
    "(\n",
    "    df_lists\n",
    "    .select(\n",
    "        pl.col(pl.List(pl.Float64))\n",
    "    )\n",
    ")"
   ]
  },
  {
   "cell_type": "markdown",
   "id": "d0688d53-4322-4541-a4f3-6a8bcfeb0143",
   "metadata": {},
   "source": [
    "Select the floating point **and** integer list column from `df_lists`"
   ]
  },
  {
   "cell_type": "code",
   "execution_count": null,
   "id": "d4e1976e-bcce-443f-a0c9-5af92ff9a0d3",
   "metadata": {
    "jupyter": {
     "source_hidden": true
    },
    "tags": []
   },
   "outputs": [],
   "source": [
    "(\n",
    "    df_lists\n",
    "    .select(\n",
    "        pl.col([pl.List(pl.Float64),pl.List(pl.Int64)])\n",
    "    )\n",
    ")"
   ]
  },
  {
   "cell_type": "markdown",
   "id": "472764d6-11a8-4b95-b8c0-deea133d28b8",
   "metadata": {},
   "source": [
    "### Solution to exercise 2\n",
    "We create a `pl.List` column from the Titanic dataset by splitting the `Name` column on every whitespace"
   ]
  },
  {
   "cell_type": "code",
   "execution_count": null,
   "id": "5a3485ca-897f-4521-93d3-6eea60269405",
   "metadata": {},
   "outputs": [],
   "source": [
    "csv_file = \"../data/titanic.csv\"\n",
    "df = (\n",
    "    pl.read_csv(csv_file)\n",
    "    .select(\n",
    "        \"PassengerId\",\n",
    "        \"Pclass\",\n",
    "        \"Name\",\n",
    "        pl.col(\"Name\").str.split(\" \").alias(\"Name_list\")\n",
    "    )\n",
    ")\n",
    "df.head(2)"
   ]
  },
  {
   "cell_type": "markdown",
   "id": "be7db6bb-7e23-4d62-9644-9d67fb258827",
   "metadata": {},
   "source": [
    "Expand the `Name_list` column into separate rows"
   ]
  },
  {
   "cell_type": "code",
   "execution_count": null,
   "id": "c783d862-8d84-44e8-b26c-60855355c46a",
   "metadata": {
    "jupyter": {
     "source_hidden": true
    },
    "tags": []
   },
   "outputs": [],
   "source": [
    "(\n",
    "    df\n",
    "    .explode(\"Name_list\")\n",
    "    .head()\n",
    ")"
   ]
  },
  {
   "cell_type": "markdown",
   "id": "9414669f-d11e-4b41-8c48-9052a3617b4a",
   "metadata": {},
   "source": [
    "Filter to remove rows with the titles: \"Mr.\",\"Mrs.\",\"Miss.\",\"Master.\" from the output"
   ]
  },
  {
   "cell_type": "code",
   "execution_count": null,
   "id": "35e286ec-b372-44cd-966c-a2ea4b0f0dbf",
   "metadata": {
    "jupyter": {
     "source_hidden": true
    },
    "tags": []
   },
   "outputs": [],
   "source": [
    "(\n",
    "    df\n",
    "    .explode(\"Name_list\")\n",
    "    .filter(~pl.col(\"Name_list\").is_in([\"Mr.\",\"Mrs.\",\"Miss.\",\"Master.\"]))\n",
    "    .head()\n",
    ")"
   ]
  },
  {
   "cell_type": "markdown",
   "id": "ec18846e-0eaa-4668-bae0-ea3a7c78175b",
   "metadata": {},
   "source": [
    "Find the most common names:\n",
    "\n",
    "After filtering the titles count the occurence of each name in the `Name_list` column using `.value_counts(sort=True)`"
   ]
  },
  {
   "cell_type": "code",
   "execution_count": null,
   "id": "e92fb82f-bead-4c51-8931-c0791c6c30cb",
   "metadata": {
    "jupyter": {
     "source_hidden": true
    },
    "tags": []
   },
   "outputs": [],
   "source": [
    "(\n",
    "    df\n",
    "    .explode(\"Name_list\")\n",
    "    .filter(~pl.col(\"Name_list\").is_in([\"Mr.\",\"Mrs.\",\"Miss.\",\"Master.\"]))\n",
    "    [\"Name_list\"]\n",
    "    .value_counts(sort=True)\n",
    "    .head()\n",
    ")"
   ]
  }
 ],
 "metadata": {
  "kernelspec": {
   "display_name": "Python 3 (ipykernel)",
   "language": "python",
   "name": "python3"
  },
  "language_info": {
   "codemirror_mode": {
    "name": "ipython",
    "version": 3
   },
   "file_extension": ".py",
   "mimetype": "text/x-python",
   "name": "python",
   "nbconvert_exporter": "python",
   "pygments_lexer": "ipython3",
   "version": "3.10.1"
  }
 },
 "nbformat": 4,
 "nbformat_minor": 5
}
