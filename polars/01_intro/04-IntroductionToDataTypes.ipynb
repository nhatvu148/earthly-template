{
 "cells": [
  {
   "cell_type": "markdown",
   "id": "d910ee57-0819-40f3-b345-0deece619afa",
   "metadata": {},
   "source": [
    "## What is a Polars `DataFrame`?\n",
    "In this lecture we have a high-level look at a Polars `DataFrame` and learn:\n",
    "- how to access important metadata\n",
    "- how Polars stores data with Apache Arrow\n",
    "- what happens when we modify a `DataFrame`"
   ]
  },
  {
   "cell_type": "code",
   "execution_count": 2,
   "id": "a350b0f1-ff14-4097-94a2-a4f937b89fcd",
   "metadata": {
    "tags": []
   },
   "outputs": [],
   "source": [
    "import polars as pl\n",
    "import numpy as np"
   ]
  },
  {
   "cell_type": "code",
   "execution_count": 3,
   "id": "ee7a4ca2-4a74-41c0-8640-501a2f16a6e6",
   "metadata": {
    "tags": []
   },
   "outputs": [],
   "source": [
    "csv_file = \"../data/titanic.csv\""
   ]
  },
  {
   "cell_type": "code",
   "execution_count": 4,
   "id": "a1c1b14e-6642-43ec-8185-2e0924d8ca85",
   "metadata": {
    "tags": []
   },
   "outputs": [
    {
     "data": {
      "text/html": [
       "<div><style>\n",
       ".dataframe > thead > tr,\n",
       ".dataframe > tbody > tr {\n",
       "  text-align: right;\n",
       "  white-space: pre-wrap;\n",
       "}\n",
       "</style>\n",
       "<small>shape: (3, 12)</small><table border=\"1\" class=\"dataframe\"><thead><tr><th>PassengerId</th><th>Survived</th><th>Pclass</th><th>Name</th><th>Sex</th><th>Age</th><th>SibSp</th><th>Parch</th><th>Ticket</th><th>Fare</th><th>Cabin</th><th>Embarked</th></tr><tr><td>i64</td><td>i64</td><td>i64</td><td>str</td><td>str</td><td>f64</td><td>i64</td><td>i64</td><td>str</td><td>f64</td><td>str</td><td>str</td></tr></thead><tbody><tr><td>1</td><td>0</td><td>3</td><td>&quot;Braund, Mr. Owen Harris&quot;</td><td>&quot;male&quot;</td><td>22.0</td><td>1</td><td>0</td><td>&quot;A/5 21171&quot;</td><td>7.25</td><td>null</td><td>&quot;S&quot;</td></tr><tr><td>2</td><td>1</td><td>1</td><td>&quot;Cumings, Mrs. John Bradley (Fl…</td><td>&quot;female&quot;</td><td>38.0</td><td>1</td><td>0</td><td>&quot;PC 17599&quot;</td><td>71.2833</td><td>&quot;C85&quot;</td><td>&quot;C&quot;</td></tr><tr><td>3</td><td>1</td><td>3</td><td>&quot;Heikkinen, Miss. Laina&quot;</td><td>&quot;female&quot;</td><td>26.0</td><td>0</td><td>0</td><td>&quot;STON/O2. 3101282&quot;</td><td>7.925</td><td>null</td><td>&quot;S&quot;</td></tr></tbody></table></div>"
      ],
      "text/plain": [
       "shape: (3, 12)\n",
       "┌─────────────┬──────────┬────────┬───────────────────┬───┬───────────┬─────────┬───────┬──────────┐\n",
       "│ PassengerId ┆ Survived ┆ Pclass ┆ Name              ┆ … ┆ Ticket    ┆ Fare    ┆ Cabin ┆ Embarked │\n",
       "│ ---         ┆ ---      ┆ ---    ┆ ---               ┆   ┆ ---       ┆ ---     ┆ ---   ┆ ---      │\n",
       "│ i64         ┆ i64      ┆ i64    ┆ str               ┆   ┆ str       ┆ f64     ┆ str   ┆ str      │\n",
       "╞═════════════╪══════════╪════════╪═══════════════════╪═══╪═══════════╪═════════╪═══════╪══════════╡\n",
       "│ 1           ┆ 0        ┆ 3      ┆ Braund, Mr. Owen  ┆ … ┆ A/5 21171 ┆ 7.25    ┆ null  ┆ S        │\n",
       "│             ┆          ┆        ┆ Harris            ┆   ┆           ┆         ┆       ┆          │\n",
       "│ 2           ┆ 1        ┆ 1      ┆ Cumings, Mrs.     ┆ … ┆ PC 17599  ┆ 71.2833 ┆ C85   ┆ C        │\n",
       "│             ┆          ┆        ┆ John Bradley (Fl… ┆   ┆           ┆         ┆       ┆          │\n",
       "│ 3           ┆ 1        ┆ 3      ┆ Heikkinen, Miss.  ┆ … ┆ STON/O2.  ┆ 7.925   ┆ null  ┆ S        │\n",
       "│             ┆          ┆        ┆ Laina             ┆   ┆ 3101282   ┆         ┆       ┆          │\n",
       "└─────────────┴──────────┴────────┴───────────────────┴───┴───────────┴─────────┴───────┴──────────┘"
      ]
     },
     "execution_count": 4,
     "metadata": {},
     "output_type": "execute_result"
    }
   ],
   "source": [
    "df = pl.read_csv(csv_file)\n",
    "df.head(3)"
   ]
  },
  {
   "cell_type": "markdown",
   "id": "65dfc421-2bde-42d7-b3d2-64ec4a20a291",
   "metadata": {},
   "source": [
    "A Polars `DataFrame`:\n",
    "- is a tabular dataset stored in an Arrow Table (see below)\n",
    "- has a height and a width\n",
    "- has unique string column names\n",
    "- has a data type for each column\n",
    "- has methods for transforming the data stored in the Arrow Table"
   ]
  },
  {
   "cell_type": "markdown",
   "id": "4151d339-2df2-4669-8522-99339d06ce56",
   "metadata": {},
   "source": [
    "We can get the height (number of rows) and width (number of columns) as attributes"
   ]
  },
  {
   "cell_type": "code",
   "execution_count": 5,
   "id": "ea66a40c-1a5d-4ec9-b60b-9c076c932102",
   "metadata": {},
   "outputs": [
    {
     "data": {
      "text/plain": [
       "12"
      ]
     },
     "execution_count": 5,
     "metadata": {},
     "output_type": "execute_result"
    }
   ],
   "source": [
    "df.width"
   ]
  },
  {
   "cell_type": "code",
   "execution_count": 6,
   "id": "f89fd9b5-a49f-49e4-9cec-20cce7f1f96c",
   "metadata": {},
   "outputs": [
    {
     "data": {
      "text/plain": [
       "891"
      ]
     },
     "execution_count": 6,
     "metadata": {},
     "output_type": "execute_result"
    }
   ],
   "source": [
    "df.height"
   ]
  },
  {
   "cell_type": "markdown",
   "id": "731ff417-4da4-4121-bc46-a80835f423bc",
   "metadata": {},
   "source": [
    "## Data type schema\n",
    "\n",
    "Every column in a `DataFrame` has a data type called a `dtype`.\n",
    "\n",
    "We can get an `OrderedDict` that maps column names to dtypes with the `.schema` attribute"
   ]
  },
  {
   "cell_type": "code",
   "execution_count": 7,
   "id": "330d8400-a4cb-4020-85d4-9ed663e99d66",
   "metadata": {
    "tags": []
   },
   "outputs": [
    {
     "data": {
      "text/plain": [
       "Schema([('PassengerId', Int64),\n",
       "        ('Survived', Int64),\n",
       "        ('Pclass', Int64),\n",
       "        ('Name', String),\n",
       "        ('Sex', String),\n",
       "        ('Age', Float64),\n",
       "        ('SibSp', Int64),\n",
       "        ('Parch', Int64),\n",
       "        ('Ticket', String),\n",
       "        ('Fare', Float64),\n",
       "        ('Cabin', String),\n",
       "        ('Embarked', String)])"
      ]
     },
     "execution_count": 7,
     "metadata": {},
     "output_type": "execute_result"
    }
   ],
   "source": [
    "df.schema"
   ]
  },
  {
   "cell_type": "markdown",
   "id": "b7c9d084-18b7-4604-8628-35a73fa57a18",
   "metadata": {},
   "source": [
    "There is also a `dtypes` attribute (as in Pandas). However, this gives a `list` of dtypes with no column names"
   ]
  },
  {
   "cell_type": "code",
   "execution_count": 8,
   "id": "d723eaef-e948-410d-b108-c3ae9acc9ea9",
   "metadata": {
    "tags": []
   },
   "outputs": [
    {
     "data": {
      "text/plain": [
       "[Int64,\n",
       " Int64,\n",
       " Int64,\n",
       " String,\n",
       " String,\n",
       " Float64,\n",
       " Int64,\n",
       " Int64,\n",
       " String,\n",
       " Float64,\n",
       " String,\n",
       " String]"
      ]
     },
     "execution_count": 8,
     "metadata": {},
     "output_type": "execute_result"
    }
   ],
   "source": [
    "df.dtypes"
   ]
  },
  {
   "cell_type": "markdown",
   "id": "10dd4917-18e1-472f-a943-9ca369047d32",
   "metadata": {},
   "source": [
    "A `Series` also has a data type attribute"
   ]
  },
  {
   "cell_type": "code",
   "execution_count": 9,
   "id": "350e16ff-e27b-485f-a978-641dbb846f96",
   "metadata": {
    "tags": []
   },
   "outputs": [
    {
     "data": {
      "text/plain": [
       "String"
      ]
     },
     "execution_count": 9,
     "metadata": {},
     "output_type": "execute_result"
    }
   ],
   "source": [
    "df['Name'].dtype"
   ]
  },
  {
   "cell_type": "markdown",
   "id": "c0988c35-d159-45de-9d83-984bf8ab0733",
   "metadata": {},
   "source": [
    "### Supertypes\n",
    "We can group the dtypes into groups:\n",
    "- integers e.g. pl.Int8,pl.Int16 etc\n",
    "- floats pl.Float32,pl.Float64\n",
    "- string pl.Utf8\n",
    "- boolean pl.Boolean\n",
    "- datetime pl.Datetime,pl.Date etc\n",
    "\n",
    "Polars also has a concept of supertypes. Supertypes occur where we are trying to do an operation involving columns that have different types. If the dtypes of these columns have a supertype all columns are cast to that type to do the operation. \n",
    "\n",
    "Supertypes are defined on a given pair of dtypes rather than being universal. Here are some simple examples:\n",
    "- pl.Int8 & pl.Int16 -> pl.Int16\n",
    "- pl.Float32 & pl.Float64 -> pl.Float64\n",
    "\n",
    "There are also rules in place for other combinations e.g.:\n",
    "- pl.Int64 & pl.Boolean -> pl.Boolean\n",
    "- pl.Int32 & pl.Float32 -> pl.Float64 (following a convention set by Numpy)\n",
    "- any dtype & pl.Utf8 -> pl.Utf8 (any column can be cast to string)"
   ]
  },
  {
   "cell_type": "markdown",
   "id": "ba54ff62-ebcf-4773-aaab-7899378b63cf",
   "metadata": {},
   "source": [
    "## Apache Arrow\n",
    "\n",
    "A classic Pandas `DataFrame` stores its data in Numpy arrays. In Polars the data is stored in an Arrow Table. \n",
    "\n",
    "We can see this Arrow Table by calling `to_arrow` - this is a cheap operation as it is just viewing the underlying data"
   ]
  },
  {
   "cell_type": "code",
   "execution_count": 10,
   "id": "1512cf66-861b-49cc-b5b2-e14876b3a2ad",
   "metadata": {},
   "outputs": [
    {
     "data": {
      "text/plain": [
       "pyarrow.Table\n",
       "PassengerId: int64\n",
       "Survived: int64\n",
       "Pclass: int64\n",
       "Name: large_string\n",
       "Sex: large_string\n",
       "Age: double\n",
       "SibSp: int64\n",
       "Parch: int64\n",
       "Ticket: large_string\n",
       "Fare: double\n",
       "Cabin: large_string\n",
       "Embarked: large_string\n",
       "----\n",
       "PassengerId: [[1,2,3,4,5,...,887,888,889,890,891]]\n",
       "Survived: [[0,1,1,1,0,...,0,1,0,1,0]]\n",
       "Pclass: [[3,1,3,1,3,...,2,1,3,1,3]]\n",
       "Name: [[\"Braund, Mr. Owen Harris\",\"Cumings, Mrs. John Bradley (Florence Briggs Thayer)\",\"Heikkinen, Miss. Laina\",\"Futrelle, Mrs. Jacques Heath (Lily May Peel)\",\"Allen, Mr. William Henry\",...,\"Montvila, Rev. Juozas\",\"Graham, Miss. Margaret Edith\",\"Johnston, Miss. Catherine Helen \"Carrie\"\",\"Behr, Mr. Karl Howell\",\"Dooley, Mr. Patrick\"]]\n",
       "Sex: [[\"male\",\"female\",\"female\",\"female\",\"male\",...,\"male\",\"female\",\"female\",\"male\",\"male\"]]\n",
       "Age: [[22,38,26,35,35,...,27,19,null,26,32]]\n",
       "SibSp: [[1,1,0,1,0,...,0,0,1,0,0]]\n",
       "Parch: [[0,0,0,0,0,...,0,0,2,0,0]]\n",
       "Ticket: [[\"A/5 21171\",\"PC 17599\",\"STON/O2. 3101282\",\"113803\",\"373450\",...,\"211536\",\"112053\",\"W./C. 6607\",\"111369\",\"370376\"]]\n",
       "Fare: [[7.25,71.2833,7.925,53.1,8.05,...,13,30,23.45,30,7.75]]\n",
       "..."
      ]
     },
     "execution_count": 10,
     "metadata": {},
     "output_type": "execute_result"
    }
   ],
   "source": [
    "df.to_arrow()"
   ]
  },
  {
   "cell_type": "markdown",
   "id": "ceb223ed-509e-4723-9158-8f40ca9975c3",
   "metadata": {},
   "source": [
    "An Arrow Table is a collection of Arrow Arrays - these are one-dimensional vectors that are the fundamental data store. We can see the Arrow Array for a column by calling `to_arrow` on a `Series`"
   ]
  },
  {
   "cell_type": "code",
   "execution_count": 11,
   "id": "1a39e53b-e698-4408-b003-b8670e0494df",
   "metadata": {},
   "outputs": [
    {
     "data": {
      "text/plain": [
       "<pyarrow.lib.DoubleArray object at 0x110daa200>\n",
       "[\n",
       "  22,\n",
       "  38,\n",
       "  26,\n",
       "  35,\n",
       "  35,\n",
       "  null,\n",
       "  54,\n",
       "  2,\n",
       "  27,\n",
       "  14,\n",
       "  ...\n",
       "  33,\n",
       "  22,\n",
       "  28,\n",
       "  25,\n",
       "  39,\n",
       "  27,\n",
       "  19,\n",
       "  null,\n",
       "  26,\n",
       "  32\n",
       "]"
      ]
     },
     "execution_count": 11,
     "metadata": {},
     "output_type": "execute_result"
    }
   ],
   "source": [
    "df[\"Age\"].to_arrow()"
   ]
  },
  {
   "cell_type": "markdown",
   "id": "4287c0c3-be08-498b-bb77-41752a9bae18",
   "metadata": {},
   "source": [
    "### What is Apache Arrow?\n",
    "Apache Arrow is an open source cross-language project to store tabular data in-memory. Apache Arrow is both:\n",
    "- a specificiation for how data should be represented in memory\n",
    "- a set of libraries in different languages that implement that specification\n",
    "\n",
    "Polars uses the implementation of the Arrow specification from the Rust library [Arrow2](https://docs.rs/arrow2/latest/arrow2/)\n",
    "\n",
    "### Why does `Polars` use `Apache Arrow`?\n",
    "The Apache Arrow project developed when it became clear that Numpy arrays - designed for scientific computing - are not the optimal data store for tabular data.\n",
    "\n",
    "Arrow allows for:\n",
    "- sharing data without copying (known as \"zero-copy\")\n",
    "- faster vectorised calculations\n",
    "- working with larger-than-memory data in chunks\n",
    "- consistent representation of missing data\n",
    "\n",
    "Overall, Polars can process data more quickly and with less memory usage because of Arrow.\n",
    "\n",
    "### What are the downsides of `Apache Arrow`?\n",
    "The design of Arrow is optimised for operations on one-dimensional columns, whreas the design of Numpy is optimised for operations on multi-dimensional arrays. This tradeoff means some kinds of operations will be slower with Arrow data compared to Numpy:\n",
    "- transposing a dataframe\n",
    "- doing matrix multiplication/linear algebra on a `dataframe`\n",
    "\n",
    "For this kind of use case - where calculations require accessing data by row and column - it may be faster to convert to a Numpy array (see the lecture on conversion in this Section).\n",
    "\n",
    "### So what is the relationship between a Polars `DataFrame` and Arrow data?\n",
    "A Polars `DataFrame` holds references to an Arrow Table which holds references to Arrow Arrays. We can think of a Polars `DataFrame` being a lightweight object that points to the lightweight Arrow Table which points to the heavyweight Arrow Arrays (heavyweight because they hold the actual data). \n",
    "\n",
    "This detached structure means we can make changes to the cheap `DataFrame` wrapper and copy none (or a minimal amount) of the data in the Arrow Arrays. We see examples of this below."
   ]
  },
  {
   "cell_type": "code",
   "execution_count": 12,
   "id": "9f804845-2505-4213-b41b-d31f970ab262",
   "metadata": {},
   "outputs": [
    {
     "data": {
      "text/plain": [
       "(1000000, 100)"
      ]
     },
     "execution_count": 12,
     "metadata": {},
     "output_type": "execute_result"
    }
   ],
   "source": [
    "df_shape = (1_000_000,100)\n",
    "df_polars = pl.DataFrame(\n",
    "    np.random.standard_normal(df_shape)\n",
    ")\n",
    "df_polars.shape"
   ]
  },
  {
   "cell_type": "markdown",
   "id": "329da875-91a8-41ca-a444-0579739e41a2",
   "metadata": {},
   "source": [
    "### Dropping a column\n",
    "We see how long it takes to drop a column from a Polars `DataFrame`. We use the IPython `timeit` module to compare performance (we learn more about `timeit` later in the course)"
   ]
  },
  {
   "cell_type": "code",
   "execution_count": 13,
   "id": "b039c1f3-98e0-4721-9556-0a6a5c1248c5",
   "metadata": {},
   "outputs": [
    {
     "name": "stdout",
     "output_type": "stream",
     "text": [
      "The slowest run took 51.63 times longer than the fastest. This could mean that an intermediate result is being cached.\n",
      "394 μs ± 511 μs per loop (mean ± std. dev. of 3 runs, 1 loop each)\n"
     ]
    }
   ],
   "source": [
    "%%timeit -n1 -r3\n",
    "df_polars.drop(\"column_0\")"
   ]
  },
  {
   "cell_type": "markdown",
   "id": "6dc1b9f5-2f12-4869-a476-e418fcf65e89",
   "metadata": {},
   "source": [
    "Polars does this very fast (and much faster than classic Pandas). This is because Polars just creates a new `DataFrame` object (a cheap operation) that points to all the Arrow Arrays except `column_0`. Polars basically just loops through the list of column names for this operation!\n",
    "\n",
    "### Renaming a column\n",
    "We have a similar effect whenever we change some part of a `DataFrame` that does not affect the actual data in the columns. For example, if we rename a column..."
   ]
  },
  {
   "cell_type": "code",
   "execution_count": 14,
   "id": "77a4fc38-3a4d-4fe0-854d-98bb8474c7ad",
   "metadata": {},
   "outputs": [
    {
     "name": "stdout",
     "output_type": "stream",
     "text": [
      "79.9 μs ± 27 μs per loop (mean ± std. dev. of 3 runs, 1 loop each)\n"
     ]
    }
   ],
   "source": [
    "%%timeit -n1 -r3\n",
    "df_polars.rename({\"column_0\":\"a\"})"
   ]
  },
  {
   "cell_type": "markdown",
   "id": "4dcb10f0-9b99-4ada-9339-6d143b0a79aa",
   "metadata": {},
   "source": [
    "Polars again does this very fast because it just updates the column name and checks the column names are still unique.\n",
    "\n",
    "### Cloning a `DataFrame`\n",
    "Or if we create a new `DataFrame` by cloning"
   ]
  },
  {
   "cell_type": "code",
   "execution_count": 15,
   "id": "89c5b73f-9e65-4d5b-98ea-3af13778f781",
   "metadata": {},
   "outputs": [
    {
     "name": "stdout",
     "output_type": "stream",
     "text": [
      "The slowest run took 8.63 times longer than the fastest. This could mean that an intermediate result is being cached.\n",
      "3.36 μs ± 3.22 μs per loop (mean ± std. dev. of 3 runs, 1 loop each)\n"
     ]
    }
   ],
   "source": [
    "%%timeit -n1 -r3\n",
    "df_polars.clone()"
   ]
  },
  {
   "cell_type": "markdown",
   "id": "12c09d0d-dbc1-4f47-8d73-32f648e7bd79",
   "metadata": {},
   "source": [
    "In this case Polars has created a new `DataFrame` object that points at the same Arrow Table.\n",
    "### Updating a cloned `DataFrame`\n",
    "\n",
    "Although the new and old `DataFrames` initially point at the same Arrow Table we do not need to worry about changes to one affecting the other.\n",
    "\n",
    "If we make changes to a value in one of the `DataFrames` - say the new `DataFrame` - then the new `DataFrame` will:\n",
    "- copy the data in **the column that has changed** to a new Arrow Array\n",
    "- create a new Arrow Table that points to the updated Arrow Array along with the unchanged Arrow Arrays\n",
    "\n",
    "So now we have:\n",
    "- two `DataFrames` that point to:\n",
    "- two Arrow Tables that point to:\n",
    "- the same Array Arrays for the unchanged columns and different Arrow Arrays for the changed column\n",
    "\n",
    "In this way we create a new `DataFrame` but **only ever have to copy data in columns that change**. We see how changes to the new `DataFrame` do not affect the old `DataFrame` in this example where we change the first value in the first row"
   ]
  },
  {
   "cell_type": "code",
   "execution_count": 16,
   "id": "978ed8f1-f0df-4f73-b404-663d52296066",
   "metadata": {},
   "outputs": [
    {
     "data": {
      "text/plain": [
       "1000.0"
      ]
     },
     "execution_count": 16,
     "metadata": {},
     "output_type": "execute_result"
    }
   ],
   "source": [
    "df_polars2 = df_polars.clone()\n",
    "df_polars2[0,0] = 1000\n",
    "df_polars2[0,0]"
   ]
  },
  {
   "cell_type": "markdown",
   "id": "81803749-c609-4d2e-aaa9-547da34aa04d",
   "metadata": {},
   "source": [
    "In the original `DataFrame` we still have the original value"
   ]
  },
  {
   "cell_type": "code",
   "execution_count": 17,
   "id": "475a6ef9-6b94-4289-af6d-cd7930b48c58",
   "metadata": {},
   "outputs": [
    {
     "data": {
      "text/plain": [
       "1.1283192223431564"
      ]
     },
     "execution_count": 17,
     "metadata": {},
     "output_type": "execute_result"
    }
   ],
   "source": [
    "df_polars[0,0]"
   ]
  },
  {
   "cell_type": "markdown",
   "id": "79e3ba51-b738-4c99-9186-39b5104e9f30",
   "metadata": {
    "collapsed": true,
    "jupyter": {
     "outputs_hidden": true
    },
    "tags": []
   },
   "source": [
    "## Exercises\n",
    "In the exercises you will develop your understanding of:\n",
    "- getting the dtypes of a `DataFrame`\n",
    "- getting the dtypes of a `Series`\n",
    "\n",
    "### Exercise 1 \n",
    "\n",
    "What are the dtypes of this `DataFrame`?"
   ]
  },
  {
   "cell_type": "code",
   "execution_count": 18,
   "id": "62401a6d-8351-4c4e-930b-84502c7945f8",
   "metadata": {
    "tags": []
   },
   "outputs": [
    {
     "ename": "SyntaxError",
     "evalue": "invalid syntax (3364341132.py, line 2)",
     "output_type": "error",
     "traceback": [
      "\u001b[0;36m  Cell \u001b[0;32mIn[18], line 2\u001b[0;36m\u001b[0m\n\u001b[0;31m    df<blank>\u001b[0m\n\u001b[0m             ^\u001b[0m\n\u001b[0;31mSyntaxError\u001b[0m\u001b[0;31m:\u001b[0m invalid syntax\n"
     ]
    }
   ],
   "source": [
    "df = pl.DataFrame({'a':[0,1,2],'b':[0,1,2.0]})\n",
    "df<blank>"
   ]
  },
  {
   "cell_type": "markdown",
   "id": "13f5e0c9-3f43-46c1-b987-d6c564db754b",
   "metadata": {},
   "source": [
    "### Exercise 2\n",
    "Create a `Series` by selecting the `a` column of `df`"
   ]
  },
  {
   "cell_type": "code",
   "execution_count": null,
   "id": "31132b0e-dd18-4b3d-9ef3-96765cf36720",
   "metadata": {
    "tags": []
   },
   "outputs": [],
   "source": [
    "df = pl.DataFrame({'a':[0,1,2],'b':[0,1,2.0]})\n",
    "# df<blank>"
   ]
  },
  {
   "cell_type": "markdown",
   "id": "86b23da0-1b97-4505-bffe-ddffa73c3843",
   "metadata": {},
   "source": [
    "What is the dtype of `a`?\n",
    "What is the dtype of `b`?"
   ]
  },
  {
   "cell_type": "markdown",
   "id": "eeb8821a-8e1a-4686-aed1-229329c515f7",
   "metadata": {},
   "source": [
    "## Solutions\n",
    "\n",
    "### Solution to Exercise 1\n",
    "What are the dtypes of this `DataFrame`?"
   ]
  },
  {
   "cell_type": "code",
   "execution_count": 19,
   "id": "b53002fb-546b-407c-9551-fe7c73a5cdf3",
   "metadata": {
    "jupyter": {
     "source_hidden": true
    },
    "tags": []
   },
   "outputs": [
    {
     "ename": "TypeError",
     "evalue": "unexpected value while building Series of type Int64; found value of type Float64: 2.0\n\nHint: Try setting `strict=False` to allow passing data with mixed types.",
     "output_type": "error",
     "traceback": [
      "\u001b[0;31m---------------------------------------------------------------------------\u001b[0m",
      "\u001b[0;31mTypeError\u001b[0m                                 Traceback (most recent call last)",
      "File \u001b[0;32m~/Work/my-apps/ds-course/polars-materials/notebooks/venv/lib/python3.12/site-packages/polars/_utils/construction/series.py:308\u001b[0m, in \u001b[0;36m_construct_series_with_fallbacks\u001b[0;34m(constructor, name, values, dtype, strict)\u001b[0m\n\u001b[1;32m    307\u001b[0m \u001b[38;5;28;01mtry\u001b[39;00m:\n\u001b[0;32m--> 308\u001b[0m     \u001b[38;5;28;01mreturn\u001b[39;00m \u001b[43mconstructor\u001b[49m\u001b[43m(\u001b[49m\u001b[43mname\u001b[49m\u001b[43m,\u001b[49m\u001b[43m \u001b[49m\u001b[43mvalues\u001b[49m\u001b[43m,\u001b[49m\u001b[43m \u001b[49m\u001b[43mstrict\u001b[49m\u001b[43m)\u001b[49m\n\u001b[1;32m    309\u001b[0m \u001b[38;5;28;01mexcept\u001b[39;00m \u001b[38;5;167;01mTypeError\u001b[39;00m:\n",
      "\u001b[0;31mTypeError\u001b[0m: 'float' object cannot be interpreted as an integer",
      "\nDuring handling of the above exception, another exception occurred:\n",
      "\u001b[0;31mTypeError\u001b[0m                                 Traceback (most recent call last)",
      "Cell \u001b[0;32mIn[19], line 1\u001b[0m\n\u001b[0;32m----> 1\u001b[0m df \u001b[38;5;241m=\u001b[39m \u001b[43mpl\u001b[49m\u001b[38;5;241;43m.\u001b[39;49m\u001b[43mDataFrame\u001b[49m\u001b[43m(\u001b[49m\u001b[43m{\u001b[49m\u001b[38;5;124;43m'\u001b[39;49m\u001b[38;5;124;43ma\u001b[39;49m\u001b[38;5;124;43m'\u001b[39;49m\u001b[43m:\u001b[49m\u001b[43m[\u001b[49m\u001b[38;5;241;43m0\u001b[39;49m\u001b[43m,\u001b[49m\u001b[38;5;241;43m1\u001b[39;49m\u001b[43m,\u001b[49m\u001b[38;5;241;43m2\u001b[39;49m\u001b[43m]\u001b[49m\u001b[43m,\u001b[49m\u001b[38;5;124;43m'\u001b[39;49m\u001b[38;5;124;43mb\u001b[39;49m\u001b[38;5;124;43m'\u001b[39;49m\u001b[43m:\u001b[49m\u001b[43m[\u001b[49m\u001b[38;5;241;43m0\u001b[39;49m\u001b[43m,\u001b[49m\u001b[38;5;241;43m1\u001b[39;49m\u001b[43m,\u001b[49m\u001b[38;5;241;43m2.0\u001b[39;49m\u001b[43m]\u001b[49m\u001b[43m}\u001b[49m\u001b[43m)\u001b[49m\n\u001b[1;32m      2\u001b[0m df\u001b[38;5;241m.\u001b[39mschema\n",
      "File \u001b[0;32m~/Work/my-apps/ds-course/polars-materials/notebooks/venv/lib/python3.12/site-packages/polars/dataframe/frame.py:365\u001b[0m, in \u001b[0;36mDataFrame.__init__\u001b[0;34m(self, data, schema, schema_overrides, strict, orient, infer_schema_length, nan_to_null)\u001b[0m\n\u001b[1;32m    360\u001b[0m     \u001b[38;5;28mself\u001b[39m\u001b[38;5;241m.\u001b[39m_df \u001b[38;5;241m=\u001b[39m dict_to_pydf(\n\u001b[1;32m    361\u001b[0m         {}, schema\u001b[38;5;241m=\u001b[39mschema, schema_overrides\u001b[38;5;241m=\u001b[39mschema_overrides\n\u001b[1;32m    362\u001b[0m     )\n\u001b[1;32m    364\u001b[0m \u001b[38;5;28;01melif\u001b[39;00m \u001b[38;5;28misinstance\u001b[39m(data, \u001b[38;5;28mdict\u001b[39m):\n\u001b[0;32m--> 365\u001b[0m     \u001b[38;5;28mself\u001b[39m\u001b[38;5;241m.\u001b[39m_df \u001b[38;5;241m=\u001b[39m \u001b[43mdict_to_pydf\u001b[49m\u001b[43m(\u001b[49m\n\u001b[1;32m    366\u001b[0m \u001b[43m        \u001b[49m\u001b[43mdata\u001b[49m\u001b[43m,\u001b[49m\n\u001b[1;32m    367\u001b[0m \u001b[43m        \u001b[49m\u001b[43mschema\u001b[49m\u001b[38;5;241;43m=\u001b[39;49m\u001b[43mschema\u001b[49m\u001b[43m,\u001b[49m\n\u001b[1;32m    368\u001b[0m \u001b[43m        \u001b[49m\u001b[43mschema_overrides\u001b[49m\u001b[38;5;241;43m=\u001b[39;49m\u001b[43mschema_overrides\u001b[49m\u001b[43m,\u001b[49m\n\u001b[1;32m    369\u001b[0m \u001b[43m        \u001b[49m\u001b[43mstrict\u001b[49m\u001b[38;5;241;43m=\u001b[39;49m\u001b[43mstrict\u001b[49m\u001b[43m,\u001b[49m\n\u001b[1;32m    370\u001b[0m \u001b[43m        \u001b[49m\u001b[43mnan_to_null\u001b[49m\u001b[38;5;241;43m=\u001b[39;49m\u001b[43mnan_to_null\u001b[49m\u001b[43m,\u001b[49m\n\u001b[1;32m    371\u001b[0m \u001b[43m    \u001b[49m\u001b[43m)\u001b[49m\n\u001b[1;32m    373\u001b[0m \u001b[38;5;28;01melif\u001b[39;00m \u001b[38;5;28misinstance\u001b[39m(data, (\u001b[38;5;28mlist\u001b[39m, \u001b[38;5;28mtuple\u001b[39m, Sequence)):\n\u001b[1;32m    374\u001b[0m     \u001b[38;5;28mself\u001b[39m\u001b[38;5;241m.\u001b[39m_df \u001b[38;5;241m=\u001b[39m sequence_to_pydf(\n\u001b[1;32m    375\u001b[0m         data,\n\u001b[1;32m    376\u001b[0m         schema\u001b[38;5;241m=\u001b[39mschema,\n\u001b[0;32m   (...)\u001b[0m\n\u001b[1;32m    380\u001b[0m         infer_schema_length\u001b[38;5;241m=\u001b[39minfer_schema_length,\n\u001b[1;32m    381\u001b[0m     )\n",
      "File \u001b[0;32m~/Work/my-apps/ds-course/polars-materials/notebooks/venv/lib/python3.12/site-packages/polars/_utils/construction/dataframe.py:160\u001b[0m, in \u001b[0;36mdict_to_pydf\u001b[0;34m(data, schema, schema_overrides, strict, nan_to_null, allow_multithreaded)\u001b[0m\n\u001b[1;32m    147\u001b[0m     data_series \u001b[38;5;241m=\u001b[39m [\n\u001b[1;32m    148\u001b[0m         pl\u001b[38;5;241m.\u001b[39mSeries(\n\u001b[1;32m    149\u001b[0m             name,\n\u001b[0;32m   (...)\u001b[0m\n\u001b[1;32m    155\u001b[0m         \u001b[38;5;28;01mfor\u001b[39;00m name \u001b[38;5;129;01min\u001b[39;00m column_names\n\u001b[1;32m    156\u001b[0m     ]\n\u001b[1;32m    157\u001b[0m \u001b[38;5;28;01melse\u001b[39;00m:\n\u001b[1;32m    158\u001b[0m     data_series \u001b[38;5;241m=\u001b[39m [\n\u001b[1;32m    159\u001b[0m         s\u001b[38;5;241m.\u001b[39m_s\n\u001b[0;32m--> 160\u001b[0m         \u001b[38;5;28;01mfor\u001b[39;00m s \u001b[38;5;129;01min\u001b[39;00m \u001b[43m_expand_dict_values\u001b[49m\u001b[43m(\u001b[49m\n\u001b[1;32m    161\u001b[0m \u001b[43m            \u001b[49m\u001b[43mdata\u001b[49m\u001b[43m,\u001b[49m\n\u001b[1;32m    162\u001b[0m \u001b[43m            \u001b[49m\u001b[43mschema_overrides\u001b[49m\u001b[38;5;241;43m=\u001b[39;49m\u001b[43mschema_overrides\u001b[49m\u001b[43m,\u001b[49m\n\u001b[1;32m    163\u001b[0m \u001b[43m            \u001b[49m\u001b[43mstrict\u001b[49m\u001b[38;5;241;43m=\u001b[39;49m\u001b[43mstrict\u001b[49m\u001b[43m,\u001b[49m\n\u001b[1;32m    164\u001b[0m \u001b[43m            \u001b[49m\u001b[43mnan_to_null\u001b[49m\u001b[38;5;241;43m=\u001b[39;49m\u001b[43mnan_to_null\u001b[49m\u001b[43m,\u001b[49m\n\u001b[1;32m    165\u001b[0m \u001b[43m        \u001b[49m\u001b[43m)\u001b[49m\u001b[38;5;241m.\u001b[39mvalues()\n\u001b[1;32m    166\u001b[0m     ]\n\u001b[1;32m    168\u001b[0m data_series \u001b[38;5;241m=\u001b[39m _handle_columns_arg(data_series, columns\u001b[38;5;241m=\u001b[39mcolumn_names, from_dict\u001b[38;5;241m=\u001b[39m\u001b[38;5;28;01mTrue\u001b[39;00m)\n\u001b[1;32m    169\u001b[0m pydf \u001b[38;5;241m=\u001b[39m PyDataFrame(data_series)\n",
      "File \u001b[0;32m~/Work/my-apps/ds-course/polars-materials/notebooks/venv/lib/python3.12/site-packages/polars/_utils/construction/dataframe.py:389\u001b[0m, in \u001b[0;36m_expand_dict_values\u001b[0;34m(data, schema_overrides, strict, order, nan_to_null)\u001b[0m\n\u001b[1;32m    386\u001b[0m     updated_data[name] \u001b[38;5;241m=\u001b[39m s\n\u001b[1;32m    388\u001b[0m \u001b[38;5;28;01melif\u001b[39;00m arrlen(val) \u001b[38;5;129;01mis\u001b[39;00m \u001b[38;5;129;01mnot\u001b[39;00m \u001b[38;5;28;01mNone\u001b[39;00m \u001b[38;5;129;01mor\u001b[39;00m _is_generator(val):\n\u001b[0;32m--> 389\u001b[0m     updated_data[name] \u001b[38;5;241m=\u001b[39m \u001b[43mpl\u001b[49m\u001b[38;5;241;43m.\u001b[39;49m\u001b[43mSeries\u001b[49m\u001b[43m(\u001b[49m\n\u001b[1;32m    390\u001b[0m \u001b[43m        \u001b[49m\u001b[43mname\u001b[49m\u001b[38;5;241;43m=\u001b[39;49m\u001b[43mname\u001b[49m\u001b[43m,\u001b[49m\n\u001b[1;32m    391\u001b[0m \u001b[43m        \u001b[49m\u001b[43mvalues\u001b[49m\u001b[38;5;241;43m=\u001b[39;49m\u001b[43mval\u001b[49m\u001b[43m,\u001b[49m\n\u001b[1;32m    392\u001b[0m \u001b[43m        \u001b[49m\u001b[43mdtype\u001b[49m\u001b[38;5;241;43m=\u001b[39;49m\u001b[43mdtype\u001b[49m\u001b[43m,\u001b[49m\n\u001b[1;32m    393\u001b[0m \u001b[43m        \u001b[49m\u001b[43mstrict\u001b[49m\u001b[38;5;241;43m=\u001b[39;49m\u001b[43mstrict\u001b[49m\u001b[43m,\u001b[49m\n\u001b[1;32m    394\u001b[0m \u001b[43m        \u001b[49m\u001b[43mnan_to_null\u001b[49m\u001b[38;5;241;43m=\u001b[39;49m\u001b[43mnan_to_null\u001b[49m\u001b[43m,\u001b[49m\n\u001b[1;32m    395\u001b[0m \u001b[43m    \u001b[49m\u001b[43m)\u001b[49m\n\u001b[1;32m    396\u001b[0m \u001b[38;5;28;01melif\u001b[39;00m val \u001b[38;5;129;01mis\u001b[39;00m \u001b[38;5;28;01mNone\u001b[39;00m \u001b[38;5;129;01mor\u001b[39;00m \u001b[38;5;28misinstance\u001b[39m(  \u001b[38;5;66;03m# type: ignore[redundant-expr]\u001b[39;00m\n\u001b[1;32m    397\u001b[0m     val, (\u001b[38;5;28mint\u001b[39m, \u001b[38;5;28mfloat\u001b[39m, \u001b[38;5;28mstr\u001b[39m, \u001b[38;5;28mbool\u001b[39m, date, datetime, time, timedelta)\n\u001b[1;32m    398\u001b[0m ):\n\u001b[1;32m    399\u001b[0m     updated_data[name] \u001b[38;5;241m=\u001b[39m F\u001b[38;5;241m.\u001b[39mrepeat(\n\u001b[1;32m    400\u001b[0m         val, array_len, dtype\u001b[38;5;241m=\u001b[39mdtype, eager\u001b[38;5;241m=\u001b[39m\u001b[38;5;28;01mTrue\u001b[39;00m\n\u001b[1;32m    401\u001b[0m     )\u001b[38;5;241m.\u001b[39malias(name)\n",
      "File \u001b[0;32m~/Work/my-apps/ds-course/polars-materials/notebooks/venv/lib/python3.12/site-packages/polars/series/series.py:289\u001b[0m, in \u001b[0;36mSeries.__init__\u001b[0;34m(self, name, values, dtype, strict, nan_to_null)\u001b[0m\n\u001b[1;32m    286\u001b[0m         \u001b[38;5;28;01mraise\u001b[39;00m \u001b[38;5;167;01mTypeError\u001b[39;00m(msg)\n\u001b[1;32m    288\u001b[0m \u001b[38;5;28;01mif\u001b[39;00m \u001b[38;5;28misinstance\u001b[39m(values, Sequence):\n\u001b[0;32m--> 289\u001b[0m     \u001b[38;5;28mself\u001b[39m\u001b[38;5;241m.\u001b[39m_s \u001b[38;5;241m=\u001b[39m \u001b[43msequence_to_pyseries\u001b[49m\u001b[43m(\u001b[49m\n\u001b[1;32m    290\u001b[0m \u001b[43m        \u001b[49m\u001b[43mname\u001b[49m\u001b[43m,\u001b[49m\n\u001b[1;32m    291\u001b[0m \u001b[43m        \u001b[49m\u001b[43mvalues\u001b[49m\u001b[43m,\u001b[49m\n\u001b[1;32m    292\u001b[0m \u001b[43m        \u001b[49m\u001b[43mdtype\u001b[49m\u001b[38;5;241;43m=\u001b[39;49m\u001b[43mdtype\u001b[49m\u001b[43m,\u001b[49m\n\u001b[1;32m    293\u001b[0m \u001b[43m        \u001b[49m\u001b[43mstrict\u001b[49m\u001b[38;5;241;43m=\u001b[39;49m\u001b[43mstrict\u001b[49m\u001b[43m,\u001b[49m\n\u001b[1;32m    294\u001b[0m \u001b[43m        \u001b[49m\u001b[43mnan_to_null\u001b[49m\u001b[38;5;241;43m=\u001b[39;49m\u001b[43mnan_to_null\u001b[49m\u001b[43m,\u001b[49m\n\u001b[1;32m    295\u001b[0m \u001b[43m    \u001b[49m\u001b[43m)\u001b[49m\n\u001b[1;32m    297\u001b[0m \u001b[38;5;28;01melif\u001b[39;00m values \u001b[38;5;129;01mis\u001b[39;00m \u001b[38;5;28;01mNone\u001b[39;00m:\n\u001b[1;32m    298\u001b[0m     \u001b[38;5;28mself\u001b[39m\u001b[38;5;241m.\u001b[39m_s \u001b[38;5;241m=\u001b[39m sequence_to_pyseries(name, [], dtype\u001b[38;5;241m=\u001b[39mdtype)\n",
      "File \u001b[0;32m~/Work/my-apps/ds-course/polars-materials/notebooks/venv/lib/python3.12/site-packages/polars/_utils/construction/series.py:293\u001b[0m, in \u001b[0;36msequence_to_pyseries\u001b[0;34m(name, values, dtype, strict, nan_to_null)\u001b[0m\n\u001b[1;32m    290\u001b[0m     \u001b[38;5;28;01mexcept\u001b[39;00m \u001b[38;5;167;01mRuntimeError\u001b[39;00m:\n\u001b[1;32m    291\u001b[0m         \u001b[38;5;28;01mreturn\u001b[39;00m PySeries\u001b[38;5;241m.\u001b[39mnew_from_any_values(name, values, strict\u001b[38;5;241m=\u001b[39mstrict)\n\u001b[0;32m--> 293\u001b[0m \u001b[38;5;28;01mreturn\u001b[39;00m \u001b[43m_construct_series_with_fallbacks\u001b[49m\u001b[43m(\u001b[49m\n\u001b[1;32m    294\u001b[0m \u001b[43m    \u001b[49m\u001b[43mconstructor\u001b[49m\u001b[43m,\u001b[49m\u001b[43m \u001b[49m\u001b[43mname\u001b[49m\u001b[43m,\u001b[49m\u001b[43m \u001b[49m\u001b[43mvalues\u001b[49m\u001b[43m,\u001b[49m\u001b[43m \u001b[49m\u001b[43mdtype\u001b[49m\u001b[43m,\u001b[49m\u001b[43m \u001b[49m\u001b[43mstrict\u001b[49m\u001b[38;5;241;43m=\u001b[39;49m\u001b[43mstrict\u001b[49m\n\u001b[1;32m    295\u001b[0m \u001b[43m\u001b[49m\u001b[43m)\u001b[49m\n",
      "File \u001b[0;32m~/Work/my-apps/ds-course/polars-materials/notebooks/venv/lib/python3.12/site-packages/polars/_utils/construction/series.py:311\u001b[0m, in \u001b[0;36m_construct_series_with_fallbacks\u001b[0;34m(constructor, name, values, dtype, strict)\u001b[0m\n\u001b[1;32m    309\u001b[0m \u001b[38;5;28;01mexcept\u001b[39;00m \u001b[38;5;167;01mTypeError\u001b[39;00m:\n\u001b[1;32m    310\u001b[0m     \u001b[38;5;28;01mif\u001b[39;00m dtype \u001b[38;5;129;01mis\u001b[39;00m \u001b[38;5;28;01mNone\u001b[39;00m:\n\u001b[0;32m--> 311\u001b[0m         \u001b[38;5;28;01mreturn\u001b[39;00m \u001b[43mPySeries\u001b[49m\u001b[38;5;241;43m.\u001b[39;49m\u001b[43mnew_from_any_values\u001b[49m\u001b[43m(\u001b[49m\u001b[43mname\u001b[49m\u001b[43m,\u001b[49m\u001b[43m \u001b[49m\u001b[43mvalues\u001b[49m\u001b[43m,\u001b[49m\u001b[43m \u001b[49m\u001b[43mstrict\u001b[49m\u001b[38;5;241;43m=\u001b[39;49m\u001b[43mstrict\u001b[49m\u001b[43m)\u001b[49m\n\u001b[1;32m    312\u001b[0m     \u001b[38;5;28;01melse\u001b[39;00m:\n\u001b[1;32m    313\u001b[0m         \u001b[38;5;28;01mreturn\u001b[39;00m PySeries\u001b[38;5;241m.\u001b[39mnew_from_any_values_and_dtype(\n\u001b[1;32m    314\u001b[0m             name, values, dtype, strict\u001b[38;5;241m=\u001b[39mstrict\n\u001b[1;32m    315\u001b[0m         )\n",
      "\u001b[0;31mTypeError\u001b[0m: unexpected value while building Series of type Int64; found value of type Float64: 2.0\n\nHint: Try setting `strict=False` to allow passing data with mixed types."
     ]
    }
   ],
   "source": [
    "df = pl.DataFrame({'a':[0,1,2],'b':[0,1,2.0]})\n",
    "df.schema"
   ]
  },
  {
   "cell_type": "markdown",
   "id": "7839739f-9354-4d77-b0ea-bb8a1540a5ff",
   "metadata": {},
   "source": [
    "### Solution to Exercise 2\n",
    "Create a `Series` by selecting the `a` column of `df`"
   ]
  },
  {
   "cell_type": "code",
   "execution_count": null,
   "id": "d0f790ea-4ab7-43db-a587-a653620fc91e",
   "metadata": {
    "jupyter": {
     "source_hidden": true
    },
    "tags": []
   },
   "outputs": [],
   "source": [
    "df = pl.DataFrame({'a':[0,1,2],'b':[0,1,2.0]})\n",
    "s = df[\"a\"]"
   ]
  },
  {
   "cell_type": "code",
   "execution_count": null,
   "id": "8c1d6d1a-d560-4edc-b6b1-74e95c817a20",
   "metadata": {
    "jupyter": {
     "source_hidden": true
    },
    "tags": []
   },
   "outputs": [],
   "source": [
    "s"
   ]
  },
  {
   "cell_type": "markdown",
   "id": "d72df459-0b61-43dd-8a11-529d37c85fe1",
   "metadata": {},
   "source": [
    "`s` has 64-bit integer dtype "
   ]
  },
  {
   "cell_type": "code",
   "execution_count": null,
   "id": "bdbc0f0f-b867-4d00-aef2-43ada786c5e1",
   "metadata": {
    "jupyter": {
     "source_hidden": true
    },
    "tags": []
   },
   "outputs": [],
   "source": [
    "s2 = df[\"b\"]\n",
    "s2"
   ]
  },
  {
   "cell_type": "markdown",
   "id": "52eeaa66-b731-4db5-963b-a1b8ba01eedd",
   "metadata": {},
   "source": [
    "`s2` has 64-bit floating point dtype "
   ]
  }
 ],
 "metadata": {
  "kernelspec": {
   "display_name": "venv",
   "language": "python",
   "name": "python3"
  },
  "language_info": {
   "codemirror_mode": {
    "name": "ipython",
    "version": 3
   },
   "file_extension": ".py",
   "mimetype": "text/x-python",
   "name": "python",
   "nbconvert_exporter": "python",
   "pygments_lexer": "ipython3",
   "version": "3.12.7"
  }
 },
 "nbformat": 4,
 "nbformat_minor": 5
}
