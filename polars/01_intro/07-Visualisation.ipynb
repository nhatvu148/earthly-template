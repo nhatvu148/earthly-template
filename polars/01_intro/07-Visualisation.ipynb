{
 "cells": [
  {
   "cell_type": "markdown",
   "id": "8f1a348d-60e8-43b3-9618-bac97c4c3e03",
   "metadata": {},
   "source": [
    "# Visualisation\n",
    "By the end of this lecture on you will be able to:\n",
    "- create charts from Polars with the internal `plot` method\n",
    "- create charts from Polars with external plotting libraries\n",
    "- understand how these libraries support Polars\n",
    "\n",
    "Up-to-date versions of the visualisation libraries are typically required for maximum compatibility"
   ]
  },
  {
   "cell_type": "code",
   "execution_count": null,
   "id": "70aa4e4a-f6d2-4c87-a18b-6e566da6e587",
   "metadata": {},
   "outputs": [],
   "source": [
    "%pip install -U polars"
   ]
  },
  {
   "cell_type": "code",
   "execution_count": null,
   "id": "31958b81-dcc3-4cf9-9e77-f89bdee12927",
   "metadata": {},
   "outputs": [],
   "source": [
    "import polars as pl\n",
    "\n",
    "import matplotlib.pyplot as plt\n",
    "import seaborn as sns\n",
    "import plotly.express as px\n",
    "import altair as alt"
   ]
  },
  {
   "cell_type": "code",
   "execution_count": null,
   "id": "3db18c26-04ac-4123-ae5f-182167f4cad6",
   "metadata": {},
   "outputs": [],
   "source": [
    "csv_file = '../data/titanic.csv'"
   ]
  },
  {
   "cell_type": "code",
   "execution_count": null,
   "id": "fd891629-7372-4c59-8a7c-aabd338baf8f",
   "metadata": {},
   "outputs": [],
   "source": [
    "df = pl.read_csv(csv_file)\n",
    "df.head(3)"
   ]
  },
  {
   "cell_type": "markdown",
   "id": "71879cce-06d5-4891-a2e5-77e1736caa3e",
   "metadata": {},
   "source": [
    "We first look at whether we can pass a Polars `DataFrame` directly to each plotting library by creating a simple bar chart. Below we consider some other points to be aware of for working with each library from Polars."
   ]
  },
  {
   "cell_type": "markdown",
   "id": "5ee7b9a8-adc1-4558-989d-5e24599195fd",
   "metadata": {},
   "source": [
    "## Bar chart\n",
    "\n",
    "We begin by getting a count of the number of passengers in each passenger class. We use the `value_counts` method to count the occurences in the column. See the section of the course on Statistics and Aggregation for more on this method."
   ]
  },
  {
   "cell_type": "code",
   "execution_count": null,
   "id": "f9214d46-7fe1-4ec8-b6f6-b5cc9dea261a",
   "metadata": {},
   "outputs": [],
   "source": [
    "passenger_class_counts_df = (\n",
    "    df['Pclass']\n",
    "    .value_counts()\n",
    "    .sort(\"Pclass\")\n",
    ")\n",
    "passenger_class_counts_df"
   ]
  },
  {
   "cell_type": "markdown",
   "id": "77ff9ac5-fe48-48e9-bba5-5c60bf7a88da",
   "metadata": {},
   "source": [
    "## Built-in plotting with Altair\n",
    "> Until v1.6.0 the built-in plotting was with HvPlot. From v1.6.0 the built-in plotting has been with Altair.\n",
    "\n",
    "A `DataFrame` has a built-in `.plot` method that passes the `DataFrame` to the Altair library. \n",
    "\n",
    "Here we make a bar chart of the number of passengers in each class. Note that we cast `Pclass` from integer to string so that the column is treated like a categorical variable (see what happens if we pass it without this step as an integer)"
   ]
  },
  {
   "cell_type": "code",
   "execution_count": null,
   "id": "5c692b54-e38f-43e8-b0fa-97d46e8344a8",
   "metadata": {},
   "outputs": [],
   "source": [
    "(\n",
    "    passenger_class_counts_df\n",
    "    .with_columns(\n",
    "        pl.col(\"Pclass\").cast(pl.String)\n",
    "    )\n",
    "    .plot.bar(\n",
    "        x=\"Pclass\",\n",
    "        y=\"count\"\n",
    "    )\n",
    "    .properties(\n",
    "        width=500\n",
    "    )\n",
    ")"
   ]
  },
  {
   "cell_type": "markdown",
   "id": "c5722e92-734e-42b2-9cb3-925ac90cc173",
   "metadata": {},
   "source": [
    "If you hover over each bar you will see a `tooltip` which displays the name and height of the bar by default.\n",
    "\n",
    "If you want to learn more about Altair then I recommend doing this tutorial to understand more about the key concepts: https://altair-viz.github.io/altair-tutorial/README.html\n",
    "\n",
    "Thankfully, there is a less verbose way to manage the dtypes as we can use the [Altair system for encoding data types](https://altair-viz.github.io/user_guide/encodings/index.html#encoding-data-types) to override the default mapping from Polars dtype to Altair encoding.  These Altair encodings are:\n",
    "- `Q` for quantitative data\n",
    "- `O` for ordinal data\n",
    "- `N` for categorical data\n",
    "- `T` for datetime data\n",
    "\n",
    "In this case we can say that the `Pclass` is ordinal data (though we could also say it is categorical). To tell Altair the `Pclass` should be treated as an ordinal variable we follow the column name with `:O`"
   ]
  },
  {
   "cell_type": "code",
   "execution_count": null,
   "id": "ef52a897-5124-4de8-adef-0fdb83e2e132",
   "metadata": {},
   "outputs": [],
   "source": [
    "(\n",
    "    passenger_class_counts_df\n",
    "    .plot.bar(\n",
    "        x=\"Pclass:O\",\n",
    "        y=\"count\"\n",
    "    )\n",
    "    .properties(\n",
    "        width=500\n",
    "    )\n",
    ")"
   ]
  },
  {
   "cell_type": "markdown",
   "id": "05336513-f09a-4cc4-8f3a-e0e0e62c3da2",
   "metadata": {},
   "source": [
    "Try changing the `:O` to the other encodings to see the effect on the chart.\n",
    "\n",
    "The output of `plot.bar` is a normal Altair `Chart` object so we can use standard Altair methods to configure the chart. In the example we use `.properties` to set high-level properties such as the width and title of the chart"
   ]
  },
  {
   "cell_type": "code",
   "execution_count": null,
   "id": "ea21adc4-d626-4aa1-b267-8ebc419ea7d3",
   "metadata": {},
   "outputs": [],
   "source": [
    "(\n",
    "    passenger_class_counts_df\n",
    "    .plot\n",
    "    .bar(\n",
    "        x=\"Pclass:O\",\n",
    "        y=\"count\",\n",
    "        tooltip=[\"Pclass\",\"count\"]\n",
    "    )\n",
    "    .properties(\n",
    "        width=500,\n",
    "        title=\"Number of passengers by class\"\n",
    "    )\n",
    ")"
   ]
  },
  {
   "cell_type": "markdown",
   "id": "0147cf72-91ec-461b-94dd-ea3d4901ebcc",
   "metadata": {},
   "source": [
    "Be aware that the arguments to the plot method are Altair `Channel` objects rather than just column name strings. This means we can use Altair axis objects to apply more control over styling. \n",
    "\n",
    "Here for example:\n",
    "- we use `alt.X` and `alt.Y` to add axis titles\n",
    "- we use `alt.Tooltip` to override the default tooltip"
   ]
  },
  {
   "cell_type": "code",
   "execution_count": null,
   "id": "42cb1342-5d9a-4b89-b6e5-bb1286c61713",
   "metadata": {},
   "outputs": [],
   "source": [
    "(\n",
    "    passenger_class_counts_df\n",
    "    .plot\n",
    "    .bar(\n",
    "        x=alt.X(\"Pclass:O\",title=\"Passenger class\"),\n",
    "        y=alt.Y(\"count\",title=\"Number of passengers\"),\n",
    "        tooltip=[\n",
    "            alt.Tooltip(\"Pclass\",title=\"Class\"),\n",
    "            alt.Tooltip(\"count\",title=\"Number of passengers\")\n",
    "        ]\n",
    "    )\n",
    "    .properties(\n",
    "        width=500\n",
    "    )\n",
    ")"
   ]
  },
  {
   "cell_type": "markdown",
   "id": "48eac9d1-2674-4e12-8eec-49f25f66bdc5",
   "metadata": {},
   "source": [
    "In Altair we can also apply functions to transform or aggregate the data. Here for example we make the same bar chart directly from `df`. We do this by passing `Pclass` as the x-axis and `count()` as the y-axis"
   ]
  },
  {
   "cell_type": "code",
   "execution_count": null,
   "id": "07a5fc59-4eab-4e94-87cf-c94fe95d53fb",
   "metadata": {},
   "outputs": [],
   "source": [
    "(\n",
    "    df\n",
    "    .plot\n",
    "    .bar(\n",
    "        x=alt.X(\"Pclass:O\",title=\"Passenger class\"),\n",
    "        y=alt.Y('count()', title='Number of Passengers'),\n",
    "    )\n",
    "    .properties(\n",
    "        width=500\n",
    "    )\n",
    ")"
   ]
  },
  {
   "cell_type": "markdown",
   "id": "f18b4d90-a85e-42a0-af1d-542e51a53634",
   "metadata": {},
   "source": [
    "The aggregation functions are set out here: https://altair-viz.github.io/user_guide/encodings/index.html#aggregation-functions.\n",
    "\n",
    "If we pass the full dataset to Altair and it has more than 5000 rows we get the dreaded Altair MaxRowsLimit error. There [are ways around this](https://altair-viz.github.io/user_guide/large_datasets.html) such as turning off the limit or using [vegafusion](https://www.rhosignal.com/posts/polars-and-altair/).\n",
    "\n",
    "I have used Altair for a number of years but I prefer to write normal functions to do any transformations or aggregations with Polars and then do relatively simple plots with Altair. This is mainly because the functions I write are testable and working with Altair data transformations can be hard to debug.\n",
    "\n",
    "\n",
    "We can make a stacked bar chart with colours on each bar set by another column by adding the `color` argument. Here we colour the bars by the proportions that survived"
   ]
  },
  {
   "cell_type": "code",
   "execution_count": null,
   "id": "35dc5529-3e8c-4371-afbc-1a7196ffc168",
   "metadata": {},
   "outputs": [],
   "source": [
    "(\n",
    "    df\n",
    "    .plot\n",
    "    .bar(\n",
    "        x=alt.X(\"Pclass:O\",title=\"Passenger class\"),\n",
    "        y=alt.Y('count()', title='Number of Passengers'),\n",
    "        color=alt.Color('Survived:N',legend=alt.Legend(title='Survived')),\n",
    "        tooltip=['Pclass', 'Survived', 'count()']\n",
    "    )\n",
    "    .properties(\n",
    "        width=500\n",
    "    )\n",
    ")"
   ]
  },
  {
   "cell_type": "markdown",
   "id": "edc05d8a-137a-4d6a-acc5-51ca7cb846cf",
   "metadata": {},
   "source": [
    "We can make a stacked bar chart with colours on each bar set by another column by adding the `color` argument. Here we colour the bars by the proportions that survived"
   ]
  },
  {
   "cell_type": "code",
   "execution_count": null,
   "id": "ec43c3c7-1b2a-4e1e-9681-560f8c08a719",
   "metadata": {},
   "outputs": [],
   "source": [
    "(\n",
    "    df\n",
    "    .plot\n",
    "    .bar(\n",
    "        x=alt.X(\"Pclass:O\",title=\"Passenger class\"),\n",
    "        y=alt.Y('count()', title='Number of Passengers'),\n",
    "        color=alt.Color('Survived:N',legend=alt.Legend(title='Survived')),\n",
    "    tooltip=['Pclass', 'Survived', 'count()']\n",
    "    )\n",
    "    .properties(\n",
    "        width=500\n",
    "    )\n",
    ")"
   ]
  },
  {
   "cell_type": "markdown",
   "id": "f83de59f-9514-481b-b12a-70060577f0a6",
   "metadata": {},
   "source": [
    "### Scatter plot\n",
    "In this example we do:\n",
    "- a scatter plot of Age vs Fare\n",
    "- with colour by Pclass\n",
    "- add a tooltip (including the `Name` column that is not plotted)\n",
    "- set the width of the plot\n",
    "- set the title of the plot"
   ]
  },
  {
   "cell_type": "code",
   "execution_count": null,
   "id": "ba735714-da60-4e96-92da-67349f8d93c3",
   "metadata": {},
   "outputs": [],
   "source": [
    "(\n",
    "    df\n",
    "    .plot\n",
    "    .scatter(\n",
    "        x=\"Age\",\n",
    "        y=\"Fare\",\n",
    "        color=\"Pclass:N\",  \n",
    "        tooltip=[\"Age\",\"Fare\",\"Pclass\",\"Name\"]\n",
    "    )\n",
    "    .properties(\n",
    "        width=500,\n",
    "        title=\"Age vs Fare\"\n",
    "    )\n",
    ")"
   ]
  },
  {
   "cell_type": "markdown",
   "id": "eb0c230a-7cf6-46ea-b052-c17c5cb91c1c",
   "metadata": {},
   "source": [
    "In this case `Pclass` is the colour. Try varying the encoding type of `Pclass` in this plot to see how it affects the colour scheme.\n",
    "\n",
    "Note that the plots are interactive and we can pan or zoom the chart with mouse/trackpad movements "
   ]
  },
  {
   "cell_type": "markdown",
   "id": "cbd544eb-a261-42b3-8ae9-d709095cc630",
   "metadata": {},
   "source": [
    "We can control the colormap with the `configure_range` method and the Vega color schemas described here: https://vega.github.io/vega/docs/schemes/"
   ]
  },
  {
   "cell_type": "code",
   "execution_count": null,
   "id": "07ac83d8-62cb-4fc4-8e7a-9acb8e03653e",
   "metadata": {},
   "outputs": [],
   "source": [
    "(\n",
    "    df\n",
    "    .with_columns(\n",
    "        pl.col(\"Pclass\").cast(pl.String)\n",
    "    )\n",
    "    .plot\n",
    "    .scatter(\n",
    "        x=\"Age\",\n",
    "        y=\"Fare\",\n",
    "        color=\"Pclass\",  \n",
    "        tooltip=[\"Age\",\"Fare\",\"Pclass\",\"Name\"]\n",
    "    )\n",
    "    .properties(\n",
    "        width=500\n",
    "    )\n",
    "    .configure_range(\n",
    "        category={'scheme': 'dark2'}\n",
    "    )\n",
    ")"
   ]
  },
  {
   "cell_type": "markdown",
   "id": "d8c3ff08-2dde-4fd9-ba06-d21003047d42",
   "metadata": {},
   "source": [
    "You can see more examples of Altair plots here: https://altair-viz.github.io/gallery/index.html"
   ]
  },
  {
   "cell_type": "markdown",
   "id": "cfbbec9e-0062-496d-95e7-72f18277f75d",
   "metadata": {},
   "source": [
    "### Histogram\n",
    "We can make a histogram either from a `hist` expression on a `Series`"
   ]
  },
  {
   "cell_type": "code",
   "execution_count": null,
   "id": "432eb416-df25-4ea2-a0bf-665b8ec71216",
   "metadata": {},
   "outputs": [],
   "source": [
    "(\n",
    "    df[\"Age\"]\n",
    "    .hist(\n",
    "        bin_count=10\n",
    "    )\n",
    ").head(2).to_dicts()"
   ]
  },
  {
   "cell_type": "markdown",
   "id": "e0a7cdb1-04e7-46ba-8676-3e4dff26d75c",
   "metadata": {},
   "source": [
    "We then use either the `breakpoint` or `category` columns as the axis"
   ]
  },
  {
   "cell_type": "code",
   "execution_count": null,
   "id": "3b374c0e-6bd4-4a80-8876-e3d20ab94026",
   "metadata": {},
   "outputs": [],
   "source": [
    "(\n",
    "    df[\"Age\"]\n",
    "    .hist(\n",
    "        bin_count=10\n",
    "    )\n",
    "    .plot\n",
    "    .bar(\n",
    "        x=\"category\",\n",
    "        y=\"count\"\n",
    "    )\n",
    ")"
   ]
  },
  {
   "cell_type": "markdown",
   "id": "2ac5d37b-0649-412d-bd7c-5674226f34b1",
   "metadata": {},
   "source": [
    "Altair has native support for Polars via the [Narwhals package](https://github.com/narwhals-dev/narwhals). This package allows third-party packages to support different `DataFrame` libraries using the same API as described here: https://pola.rs/posts/lightweight_plotting/"
   ]
  },
  {
   "cell_type": "markdown",
   "id": "fb8bdcf7-4739-4768-99ca-a3a45ce0c004",
   "metadata": {},
   "source": [
    "## Plotting directly with external libraries\n",
    "We can also pass a Polars `DataFrame` directly to external libraries.\n",
    "### Matplotlib\n",
    "We can pass the columns of the `passenger_class_counts_df` directly to Matplotlib\n",
    "\n",
    "> I sometimes encounter problems with this chart and the Seaborn chart below not rendering. If you encounter this please let me know"
   ]
  },
  {
   "cell_type": "code",
   "execution_count": null,
   "id": "59824c93-47f5-473e-a0df-4c186d067179",
   "metadata": {},
   "outputs": [],
   "source": [
    "(\n",
    "    plt.bar(\n",
    "        x=passenger_class_counts_df[\"Pclass\"],\n",
    "        height=passenger_class_counts_df[\"count\"]\n",
    "    )\n",
    ")"
   ]
  },
  {
   "cell_type": "markdown",
   "id": "68c766ec-03e0-46b7-b1e7-a08957b3aa94",
   "metadata": {},
   "source": [
    "Note that the `Pclass` column is an integer column in Polars but the x-axis in the chart is a float axis. To make this appear as an categorical integer axis we cast the integers to strings"
   ]
  },
  {
   "cell_type": "code",
   "execution_count": null,
   "id": "f1aad60c-b89a-409c-94db-48464a91eeef",
   "metadata": {},
   "outputs": [],
   "source": [
    "passenger_class_counts_string_column_df = (\n",
    "    passenger_class_counts_df\n",
    "    .with_columns(\n",
    "        pl.col(\"Pclass\").cast(pl.Utf8)\n",
    "    )\n",
    ")\n",
    "(\n",
    "    plt.bar(\n",
    "        x=passenger_class_counts_string_column_df[\"Pclass\"],\n",
    "        height=passenger_class_counts_string_column_df[\"count\"]\n",
    "    )\n",
    ")"
   ]
  },
  {
   "cell_type": "markdown",
   "id": "ccf45e92-a796-477e-a7d7-7881aabb96d2",
   "metadata": {},
   "source": [
    "Matplotlib does not have explicit support for Polars. However, Matplotlib can accept a Polars `Series` as it just needs sequence-type objects that it can iterate through using standard python methods (that a `Series` supports)."
   ]
  },
  {
   "cell_type": "markdown",
   "id": "51489430-36c9-4a0b-b509-8204680afffb",
   "metadata": {},
   "source": [
    "### Seaborn\n",
    "We can pass a Polars `DataFrame` to Seaborn for many charts. Note that Seaborn then typically copies the data to Pandas internally as it makes extensive use of Pandas-specific features such as the index. With a large `DataFrame` you may want to only pass the columns needed for the plot to avoid the whole `DataFrame` being copied!"
   ]
  },
  {
   "cell_type": "code",
   "execution_count": null,
   "id": "8cf39291-5e83-4efe-8782-615c86516cc6",
   "metadata": {},
   "outputs": [],
   "source": [
    "(\n",
    "    sns.barplot(\n",
    "        passenger_class_counts_df,\n",
    "        x=\"Pclass\",\n",
    "        y=\"count\"\n",
    "    )\n",
    ")"
   ]
  },
  {
   "cell_type": "markdown",
   "id": "2d9b1a1f-4b44-4f89-9dc8-2ed1f1571fb0",
   "metadata": {},
   "source": [
    "Some more complicated Seaborn charts also accept a Polars `DataFrame` directly such as `sns.scatterplot` or `sns.jointplot`. In this example we do a joint plot of (log) Age and (log) Fare coloured by passenger class"
   ]
  },
  {
   "cell_type": "code",
   "execution_count": null,
   "id": "9d8ea79e-3f57-4172-99ea-23bc43c4a8ca",
   "metadata": {},
   "outputs": [],
   "source": [
    "(\n",
    "    sns.jointplot(\n",
    "        data=(\n",
    "            df\n",
    "            .with_columns(\n",
    "                [\n",
    "                    pl.col(pl.Float64).log(),\n",
    "                    pl.col(\"Pclass\").cast(pl.Utf8)\n",
    "                ]\n",
    "            )\n",
    "        ),\n",
    "        x=\"Age\", \n",
    "        y=\"Fare\", \n",
    "        hue=\"Pclass\",\n",
    "    )\n",
    ")"
   ]
  },
  {
   "cell_type": "markdown",
   "id": "c16af9d5-c3a4-426e-9513-37bc97206dc6",
   "metadata": {},
   "source": [
    "### Plotly\n",
    "We can pass a `DataFrame` directly to Plotly - note that we again use the `DataFrame` with a string column for correct output (ignore any Pandas warnings from the Plotly internals)"
   ]
  },
  {
   "cell_type": "code",
   "execution_count": null,
   "id": "9d19eedb-8b62-4f8a-9535-500158cce2a1",
   "metadata": {},
   "outputs": [],
   "source": [
    "(\n",
    "    px.bar(\n",
    "        passenger_class_counts_string_column_df,\n",
    "        x=\"Pclass\",\n",
    "        y=\"count\",\n",
    "        color=\"Pclass\",\n",
    "        width=400\n",
    "    )\n",
    ")"
   ]
  },
  {
   "cell_type": "markdown",
   "id": "6a7eb19f-9b05-4dde-9db9-401dd0e74952",
   "metadata": {},
   "source": [
    "### Altair\n",
    "We can pass a `DataFrame` directly to Altair"
   ]
  },
  {
   "cell_type": "code",
   "execution_count": null,
   "id": "9f5e8174-f3e4-420d-8fbc-73edff1ee6b2",
   "metadata": {},
   "outputs": [],
   "source": [
    "(\n",
    "    alt.Chart(\n",
    "        passenger_class_counts_df,\n",
    "        width=600\n",
    "    )\n",
    "    .mark_bar()\n",
    "    .encode(\n",
    "        x=\"Pclass:N\",\n",
    "        y=\"count:Q\",\n",
    "        color=\"Pclass:N\",\n",
    "    )\n",
    ")"
   ]
  },
  {
   "cell_type": "markdown",
   "id": "b7ad093c-013a-49e0-9816-aef868a6c621",
   "metadata": {},
   "source": [
    "## Exercises\n",
    "In the exercises you will develop your understanding of:\n",
    "- creating charts from Polars\n",
    "\n",
    "### Exercise 1\n",
    "We first create a `DataFrame` of bike sales and replace spaces in the string column names with `_` (see the lecture on Transforming DataFrames in the section of selecting and transforming data for more on `pipe`)"
   ]
  },
  {
   "cell_type": "code",
   "execution_count": null,
   "id": "c5528c56-a86d-4545-a41f-e454bddd4fbe",
   "metadata": {},
   "outputs": [],
   "source": [
    "df_bike = (\n",
    "    pl.read_parquet(\"../data/bike_sales.parquet\")\n",
    "    .pipe(lambda df: df.rename({col:col.replace(\" \",\"_\") for col in df.columns}))\n",
    ")\n",
    "df_bike.head(2)"
   ]
  },
  {
   "cell_type": "markdown",
   "id": "5da32bfa-4544-460c-baf2-3904c7fc4787",
   "metadata": {},
   "source": [
    "We do a `group_by` first to get the data"
   ]
  },
  {
   "cell_type": "code",
   "execution_count": null,
   "id": "ca7d105e-4660-4e94-af86-1ce568aa7a02",
   "metadata": {},
   "outputs": [],
   "source": [
    "customer_count_df = (\n",
    "    df_bike\n",
    "    .group_by(\"customer_age\",maintain_order=True)\n",
    "    .len()\n",
    "    .sort(\"customer_age\")\n",
    ")\n",
    "customer_count_df"
   ]
  },
  {
   "cell_type": "markdown",
   "id": "20592423-4074-435c-ae0e-531e5fe459cd",
   "metadata": {},
   "source": [
    "Using the built-in plot method make a bar chart of the `customer_age` column showing the number of bikes sold by customer_age."
   ]
  },
  {
   "cell_type": "code",
   "execution_count": null,
   "id": "0164b2c0-6012-4150-9ad7-0db6e95bbe75",
   "metadata": {},
   "outputs": [],
   "source": []
  },
  {
   "cell_type": "markdown",
   "id": "0ab7a2da-379d-40c9-a9e2-aa059d95ca58",
   "metadata": {},
   "source": [
    "For the next exercise we disable the max rows limit in Altair so we can do calculations on the 25000 rows in `df_bike`"
   ]
  },
  {
   "cell_type": "code",
   "execution_count": null,
   "id": "bdafc574-bd24-4a5c-be38-d096699093d3",
   "metadata": {},
   "outputs": [],
   "source": [
    "import altair as alt\n",
    "alt.data_transformers.disable_max_rows()"
   ]
  },
  {
   "cell_type": "markdown",
   "id": "a8c25cc0-44dc-4420-a9d5-aa4b45abcb31",
   "metadata": {},
   "source": [
    "<blank>"
   ]
  },
  {
   "cell_type": "markdown",
   "id": "c3e81f25-3b95-4f31-b763-c4815ba46913",
   "metadata": {},
   "source": [
    "Make the same plot directly from `df_bike` but this time using Altair to do the counting"
   ]
  },
  {
   "cell_type": "code",
   "execution_count": null,
   "id": "3961c8f6-732f-4f26-9238-3d43572043b3",
   "metadata": {},
   "outputs": [],
   "source": []
  },
  {
   "cell_type": "markdown",
   "id": "67aa5d50-3f2f-4645-bfc5-86aeb028ea19",
   "metadata": {},
   "source": [
    "Instead of a count of rows do a sum of the revenue column. Do this as a stacked bar chart coloured by `sub_category` of bike"
   ]
  },
  {
   "cell_type": "code",
   "execution_count": null,
   "id": "6be4fc0c-691c-4092-9aa0-051387838add",
   "metadata": {},
   "outputs": [],
   "source": []
  },
  {
   "cell_type": "markdown",
   "id": "032f090a-b27d-4bbd-b7bd-ecfb04114b1f",
   "metadata": {},
   "source": [
    "## Solutions\n",
    "Using the built-in plot method and your preferred visualisation library make a bar chart of the `customer_age` column showing the number of bikes sold by customer_age."
   ]
  },
  {
   "cell_type": "code",
   "execution_count": null,
   "id": "7d6e93b8-4c08-4ddb-a8bc-7a84fa62e32b",
   "metadata": {
    "jupyter": {
     "source_hidden": true
    }
   },
   "outputs": [],
   "source": [
    "(\n",
    "    customer_count_df\n",
    "    .plot\n",
    "    .bar(\n",
    "        x=alt.X(\"customer_age:O\",title=\"Customer age\"),\n",
    "        y=alt.Y(\"len\",title=\"Number of bikes sold\")\n",
    "    )\n",
    "    .properties(\n",
    "        width=1000\n",
    "    )\n",
    ")"
   ]
  },
  {
   "cell_type": "markdown",
   "id": "5d9c4fb6-69d5-42cc-8c47-7bcca97393b6",
   "metadata": {},
   "source": [
    "Make the same plot directly from `df_bike` using Altair to do the counting"
   ]
  },
  {
   "cell_type": "code",
   "execution_count": null,
   "id": "3c049013-4633-417d-ab5c-12292859c654",
   "metadata": {
    "jupyter": {
     "source_hidden": true
    }
   },
   "outputs": [],
   "source": [
    "(\n",
    "    df_bike\n",
    "    .plot\n",
    "    .bar(\n",
    "        x=alt.X(\"customer_age:O\",title=\"Customer age\"),\n",
    "        y=alt.Y(\"count()\",title=\"Number of bikes sold\")\n",
    "    )\n",
    "    .properties(\n",
    "        width=700\n",
    "    )\n",
    ")"
   ]
  },
  {
   "cell_type": "markdown",
   "id": "3cb6a9cb-245e-492a-9c8f-68d458ac0967",
   "metadata": {},
   "source": [
    "Instead of a count of rows do a sum of the revenue column. Do this as a stacked bar chart coloured by `sub_category` of bike"
   ]
  },
  {
   "cell_type": "code",
   "execution_count": null,
   "id": "43e8ee85-9f75-4459-abc5-85f4747a8fd2",
   "metadata": {},
   "outputs": [],
   "source": []
  },
  {
   "cell_type": "code",
   "execution_count": null,
   "id": "15793515-68de-4a5f-bf34-4f04dc2f0395",
   "metadata": {
    "jupyter": {
     "source_hidden": true
    }
   },
   "outputs": [],
   "source": [
    "(\n",
    "    df_bike\n",
    "    .plot\n",
    "    .bar(\n",
    "        x=alt.X(\"customer_age:O\",title=\"Customer age\"),\n",
    "        y=alt.Y(\"sum(revenue)\",title=\"Total revenue\"),\n",
    "        color=\"sub_category\"\n",
    "    )\n",
    "    .properties(\n",
    "        width=700\n",
    "    )\n",
    ")"
   ]
  },
  {
   "cell_type": "markdown",
   "id": "d12efaa2-9e84-46af-a8b7-14f6edd1f6b7",
   "metadata": {},
   "source": [
    "The solutions for the basic bar chart are shown for the other libraries here.\n",
    "\n",
    "### Matplotlib"
   ]
  },
  {
   "cell_type": "code",
   "execution_count": null,
   "id": "36415352-68fe-4a4d-9101-a70fee2d1e55",
   "metadata": {
    "jupyter": {
     "source_hidden": true
    }
   },
   "outputs": [],
   "source": [
    "plt.bar(\n",
    "    x=customer_count_df[\"customer_age\"],\n",
    "    height=customer_count_df[\"len\"],\n",
    ")"
   ]
  },
  {
   "cell_type": "markdown",
   "id": "00ca69fb-eb4c-4258-997d-e2bbec452dc4",
   "metadata": {},
   "source": [
    "### Seaborn"
   ]
  },
  {
   "cell_type": "code",
   "execution_count": null,
   "id": "46c3e0e0-8c87-451e-bf6a-7a858d778c85",
   "metadata": {
    "jupyter": {
     "source_hidden": true
    }
   },
   "outputs": [],
   "source": [
    "sns.barplot(\n",
    "    customer_count_df.to_pandas(use_pyarrow_extension_array=True),\n",
    "    x=\"customer_age\",\n",
    "    y=\"len\"\n",
    ")"
   ]
  },
  {
   "cell_type": "markdown",
   "id": "dd7641bc-48c1-4908-bd98-7bf823899e78",
   "metadata": {},
   "source": [
    "### Plotly"
   ]
  },
  {
   "cell_type": "code",
   "execution_count": null,
   "id": "8e817a9d-a858-4192-9e15-74af1a1a38fa",
   "metadata": {
    "jupyter": {
     "source_hidden": true
    }
   },
   "outputs": [],
   "source": [
    "px.bar(\n",
    "    customer_count_df.with_columns(pl.col(\"customer_age\").cast(pl.Utf8)),\n",
    "    x=\"customer_age\",\n",
    "    y=\"len\",\n",
    ")"
   ]
  },
  {
   "cell_type": "markdown",
   "id": "281a3625-6746-4412-9f84-cf1ffe983b81",
   "metadata": {},
   "source": [
    "### Altair"
   ]
  },
  {
   "cell_type": "code",
   "execution_count": null,
   "id": "896c6e04-91df-4e7f-b75f-abb4e70860cb",
   "metadata": {
    "jupyter": {
     "source_hidden": true
    }
   },
   "outputs": [],
   "source": [
    "(\n",
    "    alt.Chart(\n",
    "    customer_count_df,\n",
    "        width=600\n",
    "    )\n",
    "    .mark_bar()\n",
    "    .encode(\n",
    "        x=\"customer_age:N\",\n",
    "        y=\"len:Q\"\n",
    "    )\n",
    ")"
   ]
  }
 ],
 "metadata": {
  "kernelspec": {
   "display_name": "Python 3 (ipykernel)",
   "language": "python",
   "name": "python3"
  },
  "language_info": {
   "codemirror_mode": {
    "name": "ipython",
    "version": 3
   },
   "file_extension": ".py",
   "mimetype": "text/x-python",
   "name": "python",
   "nbconvert_exporter": "python",
   "pygments_lexer": "ipython3",
   "version": "3.10.1"
  }
 },
 "nbformat": 4,
 "nbformat_minor": 5
}
