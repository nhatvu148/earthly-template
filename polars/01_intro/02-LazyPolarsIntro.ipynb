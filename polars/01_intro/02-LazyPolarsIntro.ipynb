{
 "cells": [
  {
   "cell_type": "markdown",
   "id": "20f080a3-dc1c-4af9-bf60-6779f4ecdccf",
   "metadata": {},
   "source": [
    "# Lazy mode 1: Introducing lazy mode\n",
    "By the end of this lecture you will be able to:\n",
    "- create a `LazyFrame` from a CSV file\n",
    "- explain the difference between a `DataFrame` and a `LazyFrame`\n",
    "- print the optimized query plan\n",
    "\n",
    "Lazy mode is crucial to taking full advantage of Polars with query optimisation and streaming large datasets. We introduce lazy mode in this lesson and we re-visit it again and again throughout the course.  \n",
    "\n",
    "## Code or queries?\n",
    "Data analysis often involves multiple steps:\n",
    "- loading data from a file or database\n",
    "- transforming the data\n",
    "- grouping by a column\n",
    "- ...\n",
    "\n",
    "We call the set of steps a **query**.\n",
    "\n",
    "We can write some lines of code that carry out a query step-by-step in eager mode.\n",
    "\n",
    "There are two problems with this approach:\n",
    "- Each line of code is not aware of what the others are doing.\n",
    "- Each line of code requires copying the full dataframe.\n",
    "\n",
    "We can instead write the steps as an integrated query in lazy mode.\n",
    "\n",
    "With an integrated query:\n",
    "- a query optimizer can identify efficiencies\n",
    "- a query engine can minimise the memory usage and produce a single output"
   ]
  },
  {
   "cell_type": "markdown",
   "id": "cbd4f472-c79e-4b57-ad03-ac9188059369",
   "metadata": {},
   "source": [
    "## So what are eager and lazy modes?\n",
    "\n",
    "**Eager mode**: each line of code is run as soon as it is encountered.\n",
    "\n",
    "**Lazy mode**: each line is added to a query plan and the query plan is optimized."
   ]
  },
  {
   "cell_type": "code",
   "execution_count": 179,
   "id": "35ac8a3e-bb6e-41db-a3c1-93bb7bda3b3d",
   "metadata": {
    "tags": []
   },
   "outputs": [],
   "source": [
    "import polars as pl"
   ]
  },
  {
   "cell_type": "code",
   "execution_count": 21,
   "id": "5bcf6a0c-81a7-4dc5-add5-451b3ee33442",
   "metadata": {
    "tags": []
   },
   "outputs": [],
   "source": [
    "csv_file = \"../data/titanic.csv\""
   ]
  },
  {
   "cell_type": "markdown",
   "id": "85529268-81c8-4bc1-a339-9bb3802bc5ee",
   "metadata": {},
   "source": [
    "## `DataFrames` and `LazyFrames`\n",
    "We **read** a CSV in eager mode with `pl.read_csv`. This creates a **`DataFrame`**"
   ]
  },
  {
   "cell_type": "code",
   "execution_count": 162,
   "id": "027fb8cc-3837-497f-941d-0f9829403ac6",
   "metadata": {
    "tags": []
   },
   "outputs": [
    {
     "data": {
      "text/html": [
       "<div><style>\n",
       ".dataframe > thead > tr,\n",
       ".dataframe > tbody > tr {\n",
       "  text-align: right;\n",
       "  white-space: pre-wrap;\n",
       "}\n",
       "</style>\n",
       "<small>shape: (2, 12)</small><table border=\"1\" class=\"dataframe\"><thead><tr><th>PassengerId</th><th>Survived</th><th>Pclass</th><th>Name</th><th>Sex</th><th>Age</th><th>SibSp</th><th>Parch</th><th>Ticket</th><th>Fare</th><th>Cabin</th><th>Embarked</th></tr><tr><td>i64</td><td>i64</td><td>i64</td><td>str</td><td>str</td><td>f64</td><td>i64</td><td>i64</td><td>str</td><td>f64</td><td>str</td><td>str</td></tr></thead><tbody><tr><td>1</td><td>0</td><td>3</td><td>&quot;Braund, Mr. Owen Harris&quot;</td><td>&quot;male&quot;</td><td>22.0</td><td>1</td><td>0</td><td>&quot;A/5 21171&quot;</td><td>7.25</td><td>null</td><td>&quot;S&quot;</td></tr><tr><td>2</td><td>1</td><td>1</td><td>&quot;Cumings, Mrs. John Bradley (Fl…</td><td>&quot;female&quot;</td><td>38.0</td><td>1</td><td>0</td><td>&quot;PC 17599&quot;</td><td>71.2833</td><td>&quot;C85&quot;</td><td>&quot;C&quot;</td></tr></tbody></table></div>"
      ],
      "text/plain": [
       "shape: (2, 12)\n",
       "┌─────────────┬──────────┬────────┬───────────────────┬───┬───────────┬─────────┬───────┬──────────┐\n",
       "│ PassengerId ┆ Survived ┆ Pclass ┆ Name              ┆ … ┆ Ticket    ┆ Fare    ┆ Cabin ┆ Embarked │\n",
       "│ ---         ┆ ---      ┆ ---    ┆ ---               ┆   ┆ ---       ┆ ---     ┆ ---   ┆ ---      │\n",
       "│ i64         ┆ i64      ┆ i64    ┆ str               ┆   ┆ str       ┆ f64     ┆ str   ┆ str      │\n",
       "╞═════════════╪══════════╪════════╪═══════════════════╪═══╪═══════════╪═════════╪═══════╪══════════╡\n",
       "│ 1           ┆ 0        ┆ 3      ┆ Braund, Mr. Owen  ┆ … ┆ A/5 21171 ┆ 7.25    ┆ null  ┆ S        │\n",
       "│             ┆          ┆        ┆ Harris            ┆   ┆           ┆         ┆       ┆          │\n",
       "│ 2           ┆ 1        ┆ 1      ┆ Cumings, Mrs.     ┆ … ┆ PC 17599  ┆ 71.2833 ┆ C85   ┆ C        │\n",
       "│             ┆          ┆        ┆ John Bradley (Fl… ┆   ┆           ┆         ┆       ┆          │\n",
       "└─────────────┴──────────┴────────┴───────────────────┴───┴───────────┴─────────┴───────┴──────────┘"
      ]
     },
     "execution_count": 162,
     "metadata": {},
     "output_type": "execute_result"
    }
   ],
   "source": [
    "df_eager = pl.read_csv(csv_file)\n",
    "df_eager.head(2)"
   ]
  },
  {
   "cell_type": "markdown",
   "id": "ba4290cd-9941-4a8e-bbcc-0067b975a412",
   "metadata": {},
   "source": [
    "We **scan** a CSV in lazy mode with `pl.scan_csv`. This creates a **`LazyFrame`**"
   ]
  },
  {
   "cell_type": "code",
   "execution_count": 163,
   "id": "ee9c9dd2-0d62-481e-bce7-11fa498c316a",
   "metadata": {
    "tags": []
   },
   "outputs": [
    {
     "data": {
      "text/html": [
       "<i>naive plan: (run <b>LazyFrame.explain(optimized=True)</b> to see the optimized plan)</i>\n",
       "    <p></p>\n",
       "    <div>Csv SCAN [../data/titanic.csv]<p></p>PROJECT */12 COLUMNS</div>"
      ],
      "text/plain": [
       "<LazyFrame at 0x1157DDE20>"
      ]
     },
     "execution_count": 163,
     "metadata": {},
     "output_type": "execute_result"
    }
   ],
   "source": [
    "df_lazy = pl.scan_csv(csv_file)\n",
    "df_lazy"
   ]
  },
  {
   "cell_type": "markdown",
   "id": "84134f53-bf3d-4ac0-a729-a6e2d0c7ba68",
   "metadata": {},
   "source": [
    "When we scan a CSV Polars:\n",
    "- opens the file \n",
    "- gets the column names as headers\n",
    "- infers the type of each column from the first 100 rows\n",
    "\n",
    "A `LazyFrame` is really a **query plan** - a plan for how Polars will transform your data.\n",
    "\n",
    "We transform a `LazyFrame` into a `DataFrame` by calling `collect` on a `LazyFrame` - this processes your data according to the query plan"
   ]
  },
  {
   "cell_type": "code",
   "execution_count": 164,
   "id": "eecd4abe-cb4e-4696-93f5-e14b6447be47",
   "metadata": {},
   "outputs": [
    {
     "data": {
      "text/html": [
       "<div><style>\n",
       ".dataframe > thead > tr,\n",
       ".dataframe > tbody > tr {\n",
       "  text-align: right;\n",
       "  white-space: pre-wrap;\n",
       "}\n",
       "</style>\n",
       "<small>shape: (3, 12)</small><table border=\"1\" class=\"dataframe\"><thead><tr><th>PassengerId</th><th>Survived</th><th>Pclass</th><th>Name</th><th>Sex</th><th>Age</th><th>SibSp</th><th>Parch</th><th>Ticket</th><th>Fare</th><th>Cabin</th><th>Embarked</th></tr><tr><td>i64</td><td>i64</td><td>i64</td><td>str</td><td>str</td><td>f64</td><td>i64</td><td>i64</td><td>str</td><td>f64</td><td>str</td><td>str</td></tr></thead><tbody><tr><td>1</td><td>0</td><td>3</td><td>&quot;Braund, Mr. Owen Harris&quot;</td><td>&quot;male&quot;</td><td>22.0</td><td>1</td><td>0</td><td>&quot;A/5 21171&quot;</td><td>7.25</td><td>null</td><td>&quot;S&quot;</td></tr><tr><td>2</td><td>1</td><td>1</td><td>&quot;Cumings, Mrs. John Bradley (Fl…</td><td>&quot;female&quot;</td><td>38.0</td><td>1</td><td>0</td><td>&quot;PC 17599&quot;</td><td>71.2833</td><td>&quot;C85&quot;</td><td>&quot;C&quot;</td></tr><tr><td>3</td><td>1</td><td>3</td><td>&quot;Heikkinen, Miss. Laina&quot;</td><td>&quot;female&quot;</td><td>26.0</td><td>0</td><td>0</td><td>&quot;STON/O2. 3101282&quot;</td><td>7.925</td><td>null</td><td>&quot;S&quot;</td></tr></tbody></table></div>"
      ],
      "text/plain": [
       "shape: (3, 12)\n",
       "┌─────────────┬──────────┬────────┬───────────────────┬───┬───────────┬─────────┬───────┬──────────┐\n",
       "│ PassengerId ┆ Survived ┆ Pclass ┆ Name              ┆ … ┆ Ticket    ┆ Fare    ┆ Cabin ┆ Embarked │\n",
       "│ ---         ┆ ---      ┆ ---    ┆ ---               ┆   ┆ ---       ┆ ---     ┆ ---   ┆ ---      │\n",
       "│ i64         ┆ i64      ┆ i64    ┆ str               ┆   ┆ str       ┆ f64     ┆ str   ┆ str      │\n",
       "╞═════════════╪══════════╪════════╪═══════════════════╪═══╪═══════════╪═════════╪═══════╪══════════╡\n",
       "│ 1           ┆ 0        ┆ 3      ┆ Braund, Mr. Owen  ┆ … ┆ A/5 21171 ┆ 7.25    ┆ null  ┆ S        │\n",
       "│             ┆          ┆        ┆ Harris            ┆   ┆           ┆         ┆       ┆          │\n",
       "│ 2           ┆ 1        ┆ 1      ┆ Cumings, Mrs.     ┆ … ┆ PC 17599  ┆ 71.2833 ┆ C85   ┆ C        │\n",
       "│             ┆          ┆        ┆ John Bradley (Fl… ┆   ┆           ┆         ┆       ┆          │\n",
       "│ 3           ┆ 1        ┆ 3      ┆ Heikkinen, Miss.  ┆ … ┆ STON/O2.  ┆ 7.925   ┆ null  ┆ S        │\n",
       "│             ┆          ┆        ┆ Laina             ┆   ┆ 3101282   ┆         ┆       ┆          │\n",
       "└─────────────┴──────────┴────────┴───────────────────┴───┴───────────┴─────────┴───────┴──────────┘"
      ]
     },
     "execution_count": 164,
     "metadata": {},
     "output_type": "execute_result"
    }
   ],
   "source": [
    "(\n",
    "    df_lazy\n",
    "    .head(3)\n",
    "    .collect()\n",
    ")"
   ]
  },
  {
   "cell_type": "markdown",
   "id": "fad1be03-449a-475a-9472-4abd362eebca",
   "metadata": {},
   "source": [
    "We can get the dtype schema of a `LazyFrame` (which is a mapping from column names to dtypes) by calling `schema`"
   ]
  },
  {
   "cell_type": "code",
   "execution_count": 165,
   "id": "37646c19-46ff-460e-9dde-7c19fdead937",
   "metadata": {},
   "outputs": [
    {
     "name": "stderr",
     "output_type": "stream",
     "text": [
      "/var/folders/vr/2tl2xwn1265_k2w0vf7jl6k40000gn/T/ipykernel_23558/2642243989.py:1: PerformanceWarning: Resolving the schema of a LazyFrame is a potentially expensive operation. Use `LazyFrame.collect_schema()` to get the schema without this warning.\n",
      "  df_lazy.schema\n"
     ]
    },
    {
     "data": {
      "text/plain": [
       "Schema([('PassengerId', Int64),\n",
       "        ('Survived', Int64),\n",
       "        ('Pclass', Int64),\n",
       "        ('Name', String),\n",
       "        ('Sex', String),\n",
       "        ('Age', Float64),\n",
       "        ('SibSp', Int64),\n",
       "        ('Parch', Int64),\n",
       "        ('Ticket', String),\n",
       "        ('Fare', Float64),\n",
       "        ('Cabin', String),\n",
       "        ('Embarked', String)])"
      ]
     },
     "execution_count": 165,
     "metadata": {},
     "output_type": "execute_result"
    }
   ],
   "source": [
    "df_lazy.schema"
   ]
  },
  {
   "cell_type": "markdown",
   "id": "fbb4068d-6241-40d3-9c75-fb6289f349a3",
   "metadata": {},
   "source": [
    "However, we get a warning that getting the schema of a `LazyFrame` may be an expensive operation as it requires Polars to work through the logic of the query plan to see what the final columns and dtypes would be. \n",
    "\n",
    "Don't get *too* worried by the word \"expensive\" here - for a simple `LazyFrame` this might only take 1 millisecond. By \"expensive\" the Polars devs really mean that it takes some computation to arrive at the schema and that the time taken for this computation will grow as the length of the query plan grows. \n",
    "\n",
    "If you have a long and complicated query plan - imagine you are ingesting many files and doing lots of joins, concats and aggregations for example - then you might start to notice how long this takes.\n",
    "\n",
    "The preferred way to get the schema of a `LazyFrame` - equivalent to `.schema` internally - is with `collect_schema`"
   ]
  },
  {
   "cell_type": "code",
   "execution_count": 166,
   "id": "0c25776e-b3cd-4770-b141-bb4d8a5a44d8",
   "metadata": {},
   "outputs": [
    {
     "data": {
      "text/plain": [
       "Schema([('PassengerId', Int64),\n",
       "        ('Survived', Int64),\n",
       "        ('Pclass', Int64),\n",
       "        ('Name', String),\n",
       "        ('Sex', String),\n",
       "        ('Age', Float64),\n",
       "        ('SibSp', Int64),\n",
       "        ('Parch', Int64),\n",
       "        ('Ticket', String),\n",
       "        ('Fare', Float64),\n",
       "        ('Cabin', String),\n",
       "        ('Embarked', String)])"
      ]
     },
     "execution_count": 166,
     "metadata": {},
     "output_type": "execute_result"
    }
   ],
   "source": [
    "(\n",
    "    df_lazy\n",
    "    .collect_schema()\n",
    ")"
   ]
  },
  {
   "cell_type": "markdown",
   "id": "0915b342-d266-435e-8368-5dbe874c6497",
   "metadata": {},
   "source": [
    "Calculating the schema with `collect_schema` is still much faster than evaluating the full query with `collect` (see below) as `collect_schema` does not process your data, it just runs through the optimised query plan."
   ]
  },
  {
   "cell_type": "markdown",
   "id": "818fefa7-5984-4741-b9ca-29763d6f5c40",
   "metadata": {},
   "source": [
    "We cannot get the shape of the `LazyFrame` for free as Polars does not know how many rows there are from a CSV scan. If we want the length we have to trigger some evaluation of a query"
   ]
  },
  {
   "cell_type": "code",
   "execution_count": 167,
   "id": "64e149cb-b3e1-4340-931b-1134b8f24761",
   "metadata": {},
   "outputs": [
    {
     "data": {
      "text/html": [
       "<div><style>\n",
       ".dataframe > thead > tr,\n",
       ".dataframe > tbody > tr {\n",
       "  text-align: right;\n",
       "  white-space: pre-wrap;\n",
       "}\n",
       "</style>\n",
       "<small>shape: (1, 1)</small><table border=\"1\" class=\"dataframe\"><thead><tr><th>len</th></tr><tr><td>u32</td></tr></thead><tbody><tr><td>891</td></tr></tbody></table></div>"
      ],
      "text/plain": [
       "shape: (1, 1)\n",
       "┌─────┐\n",
       "│ len │\n",
       "│ --- │\n",
       "│ u32 │\n",
       "╞═════╡\n",
       "│ 891 │\n",
       "└─────┘"
      ]
     },
     "execution_count": 167,
     "metadata": {},
     "output_type": "execute_result"
    }
   ],
   "source": [
    "(\n",
    "    df_lazy\n",
    "    .select(\n",
    "        pl.len()\n",
    "    )\n",
    "    .collect()\n",
    ")"
   ]
  },
  {
   "cell_type": "markdown",
   "id": "10613d32-5f99-4f94-8321-f183a943a24d",
   "metadata": {},
   "source": [
    "In this query Polars loads one column from the CSV and counts how long it is with `pl.len`.\n",
    "\n",
    "We  learn more about evaluating a lazy query by calling `collect` in the next lecture"
   ]
  },
  {
   "cell_type": "markdown",
   "id": "484894df-868e-4e00-9f66-972c3b6dae71",
   "metadata": {},
   "source": [
    "### Creating a LazyFrame from data\n",
    "We can also directly create a `LazyFrame` from a constructor with some data"
   ]
  },
  {
   "cell_type": "code",
   "execution_count": 168,
   "id": "af3d6750-f753-41f2-85f2-19395b59560e",
   "metadata": {},
   "outputs": [
    {
     "data": {
      "text/html": [
       "<i>naive plan: (run <b>LazyFrame.explain(optimized=True)</b> to see the optimized plan)</i>\n",
       "    <p></p>\n",
       "    <div>DF [\"values\"]; PROJECT */1 COLUMNS; SELECTION: None</div>"
      ],
      "text/plain": [
       "<LazyFrame at 0x1157DD4F0>"
      ]
     },
     "execution_count": 168,
     "metadata": {},
     "output_type": "execute_result"
    }
   ],
   "source": [
    "pl.LazyFrame({\"values\":[0,1,2]})"
   ]
  },
  {
   "cell_type": "markdown",
   "id": "a0a24787-2ffd-4ff2-ba09-f5eb868b858c",
   "metadata": {},
   "source": [
    "Or we can call `.lazy` on `DataFrame`"
   ]
  },
  {
   "cell_type": "code",
   "execution_count": 169,
   "id": "149acf8f-3c41-420e-98ee-ff673c8c1892",
   "metadata": {},
   "outputs": [
    {
     "data": {
      "text/html": [
       "<i>naive plan: (run <b>LazyFrame.explain(optimized=True)</b> to see the optimized plan)</i>\n",
       "    <p></p>\n",
       "    <div>DF [\"values\"]; PROJECT */1 COLUMNS; SELECTION: None</div>"
      ],
      "text/plain": [
       "<LazyFrame at 0x1157DDF70>"
      ]
     },
     "execution_count": 169,
     "metadata": {},
     "output_type": "execute_result"
    }
   ],
   "source": [
    "pl.DataFrame({\"values\":[0,1,2]}).lazy()"
   ]
  },
  {
   "cell_type": "markdown",
   "id": "d86e2373-3c85-4d46-b8f0-db2e03d4800c",
   "metadata": {},
   "source": [
    "### What's the difference between a `DataFrame` and a `LazyFrame`?\n",
    "\n",
    "If we print a `DataFrame` we see data..."
   ]
  },
  {
   "cell_type": "code",
   "execution_count": 170,
   "id": "3aab6fc8-5f96-4dbd-bcde-8f8e69fcec89",
   "metadata": {
    "tags": []
   },
   "outputs": [
    {
     "data": {
      "text/html": [
       "<div><style>\n",
       ".dataframe > thead > tr,\n",
       ".dataframe > tbody > tr {\n",
       "  text-align: right;\n",
       "  white-space: pre-wrap;\n",
       "}\n",
       "</style>\n",
       "<small>shape: (2, 12)</small><table border=\"1\" class=\"dataframe\"><thead><tr><th>PassengerId</th><th>Survived</th><th>Pclass</th><th>Name</th><th>Sex</th><th>Age</th><th>SibSp</th><th>Parch</th><th>Ticket</th><th>Fare</th><th>Cabin</th><th>Embarked</th></tr><tr><td>i64</td><td>i64</td><td>i64</td><td>str</td><td>str</td><td>f64</td><td>i64</td><td>i64</td><td>str</td><td>f64</td><td>str</td><td>str</td></tr></thead><tbody><tr><td>1</td><td>0</td><td>3</td><td>&quot;Braund, Mr. Owen Harris&quot;</td><td>&quot;male&quot;</td><td>22.0</td><td>1</td><td>0</td><td>&quot;A/5 21171&quot;</td><td>7.25</td><td>null</td><td>&quot;S&quot;</td></tr><tr><td>2</td><td>1</td><td>1</td><td>&quot;Cumings, Mrs. John Bradley (Fl…</td><td>&quot;female&quot;</td><td>38.0</td><td>1</td><td>0</td><td>&quot;PC 17599&quot;</td><td>71.2833</td><td>&quot;C85&quot;</td><td>&quot;C&quot;</td></tr></tbody></table></div>"
      ],
      "text/plain": [
       "shape: (2, 12)\n",
       "┌─────────────┬──────────┬────────┬───────────────────┬───┬───────────┬─────────┬───────┬──────────┐\n",
       "│ PassengerId ┆ Survived ┆ Pclass ┆ Name              ┆ … ┆ Ticket    ┆ Fare    ┆ Cabin ┆ Embarked │\n",
       "│ ---         ┆ ---      ┆ ---    ┆ ---               ┆   ┆ ---       ┆ ---     ┆ ---   ┆ ---      │\n",
       "│ i64         ┆ i64      ┆ i64    ┆ str               ┆   ┆ str       ┆ f64     ┆ str   ┆ str      │\n",
       "╞═════════════╪══════════╪════════╪═══════════════════╪═══╪═══════════╪═════════╪═══════╪══════════╡\n",
       "│ 1           ┆ 0        ┆ 3      ┆ Braund, Mr. Owen  ┆ … ┆ A/5 21171 ┆ 7.25    ┆ null  ┆ S        │\n",
       "│             ┆          ┆        ┆ Harris            ┆   ┆           ┆         ┆       ┆          │\n",
       "│ 2           ┆ 1        ┆ 1      ┆ Cumings, Mrs.     ┆ … ┆ PC 17599  ┆ 71.2833 ┆ C85   ┆ C        │\n",
       "│             ┆          ┆        ┆ John Bradley (Fl… ┆   ┆           ┆         ┆       ┆          │\n",
       "└─────────────┴──────────┴────────┴───────────────────┴───┴───────────┴─────────┴───────┴──────────┘"
      ]
     },
     "execution_count": 170,
     "metadata": {},
     "output_type": "execute_result"
    }
   ],
   "source": [
    "df_eager.head(2)"
   ]
  },
  {
   "cell_type": "markdown",
   "id": "5150c98e-38b1-4b7a-9550-62b3ca3fb39d",
   "metadata": {},
   "source": [
    "...but if we print a `LazyFrame` we see a **query plan**\n",
    "\n",
    "**Key message: a method on a `DataFrame` acts on the data. An method on a `LazyFrame` acts on the query plan**.\n",
    "\n",
    "## Operations on a `DataFrame` and a `LazyFrame` \n",
    "To show the difference between operations on a `DataFrame` and a `LazyFrame` we rename the `PassengerID` column to `Id` using `rename`.\n",
    "\n",
    "On a `DataFrame` we see the first column is renamed..."
   ]
  },
  {
   "cell_type": "code",
   "execution_count": 171,
   "id": "5296491f-e7f8-4a90-b833-bfc072795f62",
   "metadata": {},
   "outputs": [
    {
     "data": {
      "text/html": [
       "<div><style>\n",
       ".dataframe > thead > tr,\n",
       ".dataframe > tbody > tr {\n",
       "  text-align: right;\n",
       "  white-space: pre-wrap;\n",
       "}\n",
       "</style>\n",
       "<small>shape: (2, 12)</small><table border=\"1\" class=\"dataframe\"><thead><tr><th>Id</th><th>Survived</th><th>Pclass</th><th>Name</th><th>Sex</th><th>Age</th><th>SibSp</th><th>Parch</th><th>Ticket</th><th>Fare</th><th>Cabin</th><th>Embarked</th></tr><tr><td>i64</td><td>i64</td><td>i64</td><td>str</td><td>str</td><td>f64</td><td>i64</td><td>i64</td><td>str</td><td>f64</td><td>str</td><td>str</td></tr></thead><tbody><tr><td>1</td><td>0</td><td>3</td><td>&quot;Braund, Mr. Owen Harris&quot;</td><td>&quot;male&quot;</td><td>22.0</td><td>1</td><td>0</td><td>&quot;A/5 21171&quot;</td><td>7.25</td><td>null</td><td>&quot;S&quot;</td></tr><tr><td>2</td><td>1</td><td>1</td><td>&quot;Cumings, Mrs. John Bradley (Fl…</td><td>&quot;female&quot;</td><td>38.0</td><td>1</td><td>0</td><td>&quot;PC 17599&quot;</td><td>71.2833</td><td>&quot;C85&quot;</td><td>&quot;C&quot;</td></tr></tbody></table></div>"
      ],
      "text/plain": [
       "shape: (2, 12)\n",
       "┌─────┬──────────┬────────┬───────────────────────────┬───┬───────────┬─────────┬───────┬──────────┐\n",
       "│ Id  ┆ Survived ┆ Pclass ┆ Name                      ┆ … ┆ Ticket    ┆ Fare    ┆ Cabin ┆ Embarked │\n",
       "│ --- ┆ ---      ┆ ---    ┆ ---                       ┆   ┆ ---       ┆ ---     ┆ ---   ┆ ---      │\n",
       "│ i64 ┆ i64      ┆ i64    ┆ str                       ┆   ┆ str       ┆ f64     ┆ str   ┆ str      │\n",
       "╞═════╪══════════╪════════╪═══════════════════════════╪═══╪═══════════╪═════════╪═══════╪══════════╡\n",
       "│ 1   ┆ 0        ┆ 3      ┆ Braund, Mr. Owen Harris   ┆ … ┆ A/5 21171 ┆ 7.25    ┆ null  ┆ S        │\n",
       "│ 2   ┆ 1        ┆ 1      ┆ Cumings, Mrs. John        ┆ … ┆ PC 17599  ┆ 71.2833 ┆ C85   ┆ C        │\n",
       "│     ┆          ┆        ┆ Bradley (Fl…              ┆   ┆           ┆         ┆       ┆          │\n",
       "└─────┴──────────┴────────┴───────────────────────────┴───┴───────────┴─────────┴───────┴──────────┘"
      ]
     },
     "execution_count": 171,
     "metadata": {},
     "output_type": "execute_result"
    }
   ],
   "source": [
    "(\n",
    "    df_eager\n",
    "    .rename({\"PassengerId\":\"Id\"})\n",
    "    .head(2)\n",
    ")    "
   ]
  },
  {
   "cell_type": "markdown",
   "id": "06cb4ae0-32ec-4835-a310-4aef7fbbbcc0",
   "metadata": {},
   "source": [
    "while on a `LazyFrame` we see that a `RENAME` step is added the query plan"
   ]
  },
  {
   "cell_type": "code",
   "execution_count": 172,
   "id": "5e7b1130-2875-4a38-aa4a-0221bc06f349",
   "metadata": {},
   "outputs": [
    {
     "data": {
      "text/html": [
       "<i>naive plan: (run <b>LazyFrame.explain(optimized=True)</b> to see the optimized plan)</i>\n",
       "    <p></p>\n",
       "    <div>RENAME<p></p>  Csv SCAN [../data/titanic.csv]<p></p>  PROJECT */12 COLUMNS</div>"
      ],
      "text/plain": [
       "<LazyFrame at 0x1157DD490>"
      ]
     },
     "execution_count": 172,
     "metadata": {},
     "output_type": "execute_result"
    }
   ],
   "source": [
    "(\n",
    "    df_lazy\n",
    "    .rename({\"PassengerId\":\"Id\"})\n",
    ")    "
   ]
  },
  {
   "cell_type": "markdown",
   "id": "4896acf8-1408-454f-a9f2-a4dfe424b98d",
   "metadata": {},
   "source": [
    "## Chaining or re-assigning?\n",
    "In this course we typically run operations with method chaining like this"
   ]
  },
  {
   "cell_type": "code",
   "execution_count": 173,
   "id": "247cf557-a371-4f5c-a94c-7d51d296391f",
   "metadata": {},
   "outputs": [
    {
     "data": {
      "text/html": [
       "<i>naive plan: (run <b>LazyFrame.explain(optimized=True)</b> to see the optimized plan)</i>\n",
       "    <p></p>\n",
       "    <div>RENAME<p></p>  Csv SCAN [../data/titanic.csv]<p></p>  PROJECT */12 COLUMNS</div>"
      ],
      "text/plain": [
       "<LazyFrame at 0x1157DCE30>"
      ]
     },
     "execution_count": 173,
     "metadata": {},
     "output_type": "execute_result"
    }
   ],
   "source": [
    "(\n",
    "    pl.scan_csv(csv_file)\n",
    "    .rename({\"PassengerId\":\"Id\"})\n",
    ")    "
   ]
  },
  {
   "cell_type": "markdown",
   "id": "5df3f9c2-df9e-48f2-8681-20875e68631d",
   "metadata": {},
   "source": [
    "However, we can also do operations by re-assigning the variable in each step"
   ]
  },
  {
   "cell_type": "code",
   "execution_count": 174,
   "id": "7b5d0c89-1fc6-48ef-996b-81b2efdfbaf8",
   "metadata": {},
   "outputs": [],
   "source": [
    "df_lazy = pl.scan_csv(csv_file)\n",
    "df_lazy = df_lazy.rename({\"PassengerId\":\"Id\"})"
   ]
  },
  {
   "cell_type": "markdown",
   "id": "409e4bdb-2946-44d4-95d3-de624d9ea86f",
   "metadata": {},
   "source": [
    "The two methods are equivalent when working with `DataFrames` or `LazyFrames`."
   ]
  },
  {
   "cell_type": "markdown",
   "id": "5ca0d756-30a7-42e2-96ca-1629042b4989",
   "metadata": {},
   "source": [
    "## Query optimisation\n",
    "Polars creates a *naive query plan* from your query. This means a query plan with no optimisations.\n",
    "\n",
    "`Polars` passes the naive query plan to its **query optimizer**. The query optimizer looks for more efficient ways to arrive at the output you want."
   ]
  },
  {
   "cell_type": "markdown",
   "id": "9276076c-b924-40b3-9c7f-e36f3676ac9d",
   "metadata": {},
   "source": [
    "The `explain` method shows the optimized plan. We use a `print` statement to format it correctly"
   ]
  },
  {
   "cell_type": "code",
   "execution_count": 175,
   "id": "4a505c32-72ca-4a15-bd77-5523d3093b32",
   "metadata": {
    "tags": []
   },
   "outputs": [
    {
     "name": "stdout",
     "output_type": "stream",
     "text": [
      "Csv SCAN [../data/titanic.csv]\n",
      "PROJECT */12 COLUMNS\n"
     ]
    }
   ],
   "source": [
    "print(\n",
    "    pl.scan_csv(csv_file)\n",
    "    .explain()\n",
    ")"
   ]
  },
  {
   "cell_type": "markdown",
   "id": "c2447ecb-dc65-49da-960a-1914ab1c7f4d",
   "metadata": {},
   "source": [
    "In this simple case the query plan shows that we:\n",
    "- scan the CSV file\n",
    "- select all 12 of the columns (*/12*)\n",
    "\n",
    "and the output is a `DataFrame`"
   ]
  },
  {
   "cell_type": "markdown",
   "id": "0a78a866-a67e-4882-b5cc-bc80acb1bcf8",
   "metadata": {},
   "source": [
    "## What query optimizations are applied?\n",
    "Query optimizations aren't magic. Most optimizations could be implemented by users in a well-written query if the user:\n",
    "- knows the optimization exists \n",
    "- remembers to implement the optimization and \n",
    "- implements the optimization correctly!\n",
    "\n",
    "Optimizations applied by Polars include:\n",
    "- `projection pushdown` limit the number of columns read to those required\n",
    "- `predicate pushdown` apply filter conditions as early as possible\n",
    "- `combine predicates` combine multiple filter conditions\n",
    "- `slice pushdown` limit rows processed when limited rows are required\n",
    "- `common subplan elimination` run duplicated transformations on the same data once and then re-use\n",
    "- `common subexpression elimination` duplicated expressions are cached and re-used"
   ]
  },
  {
   "cell_type": "markdown",
   "id": "f5723267-bd0d-47e2-a101-bad6782de7cb",
   "metadata": {},
   "source": [
    "We see how most of these optimisations arise later in the course.\n",
    "\n",
    "### Common subexpression elimination\n",
    "We see how the common subexpression elimination optimisation works here. With common subexpression elimination Polars identifies where the same expression is calculated more than once so Polars caches the first output to be re-used.\n",
    "\n",
    "In this example we have a lazy query where we scan the Titanic CSV file. We then:\n",
    "- use `select` to output a subset of columns\n",
    "- create a first expression which has the mean age minus one standard deviation\n",
    "- a second expression with the mean age\n",
    "- create a third expression which has the mean age plus one standard deviation\n",
    "- evaluate the query with .`collect`"
   ]
  },
  {
   "cell_type": "code",
   "execution_count": 176,
   "id": "41802d2c-3b77-4f94-9003-590a49b0878c",
   "metadata": {},
   "outputs": [
    {
     "data": {
      "text/html": [
       "<div><style>\n",
       ".dataframe > thead > tr,\n",
       ".dataframe > tbody > tr {\n",
       "  text-align: right;\n",
       "  white-space: pre-wrap;\n",
       "}\n",
       "</style>\n",
       "<small>shape: (1, 3)</small><table border=\"1\" class=\"dataframe\"><thead><tr><th>minus_one_std</th><th>mean</th><th>plus_one_std</th></tr><tr><td>f64</td><td>f64</td><td>f64</td></tr></thead><tbody><tr><td>15.17262</td><td>29.699118</td><td>44.225615</td></tr></tbody></table></div>"
      ],
      "text/plain": [
       "shape: (1, 3)\n",
       "┌───────────────┬───────────┬──────────────┐\n",
       "│ minus_one_std ┆ mean      ┆ plus_one_std │\n",
       "│ ---           ┆ ---       ┆ ---          │\n",
       "│ f64           ┆ f64       ┆ f64          │\n",
       "╞═══════════════╪═══════════╪══════════════╡\n",
       "│ 15.17262      ┆ 29.699118 ┆ 44.225615    │\n",
       "└───────────────┴───────────┴──────────────┘"
      ]
     },
     "execution_count": 176,
     "metadata": {},
     "output_type": "execute_result"
    }
   ],
   "source": [
    "(\n",
    "    pl.scan_csv(csv_file)\n",
    "    .select(\n",
    "        (pl.col(\"Age\").mean() - pl.col(\"Age\").std()).alias(\"minus_one_std\"),\n",
    "        pl.col(\"Age\").mean().alias(\"mean\"),\n",
    "        (pl.col(\"Age\").mean() + pl.col(\"Age\").std()).alias(\"plus_one_std\"),\n",
    "    )\n",
    "    .collect()\n",
    ")              "
   ]
  },
  {
   "cell_type": "markdown",
   "id": "e0686dcc-6144-40b9-8673-1c56634a6308",
   "metadata": {},
   "source": [
    "In this query we use the `pl.col(\"Age\").mean()` and `pl.col(\"Age\").std()` expressions repeatedly. If we print the optimised query plan with `.explain` we can see that Polars is applying the common subexpression optimisation"
   ]
  },
  {
   "cell_type": "code",
   "execution_count": 177,
   "id": "596dbc0a-c864-440a-9f12-53250d0543c9",
   "metadata": {},
   "outputs": [
    {
     "name": "stdout",
     "output_type": "stream",
     "text": [
      " SELECT [[(col(\"__POLARS_CSER_0x73b29b6cae631f75\")) - (col(\"__POLARS_CSER_0x92272a4df0f11131\"))].alias(\"minus_one_std\"), col(\"__POLARS_CSER_0x73b29b6cae631f75\").alias(\"mean\"), [(col(\"__POLARS_CSER_0x73b29b6cae631f75\")) + (col(\"__POLARS_CSER_0x92272a4df0f11131\"))].alias(\"minus_one_std\")] FROM\n",
      "   WITH_COLUMNS:\n",
      "   [col(\"Age\").std().alias(\"__POLARS_CSER_0x92272a4df0f11131\"), col(\"Age\").mean().alias(\"__POLARS_CSER_0x73b29b6cae631f75\")] \n",
      "    Csv SCAN [../data/titanic.csv]\n",
      "    PROJECT 1/12 COLUMNS\n"
     ]
    }
   ],
   "source": [
    "print(\n",
    "    pl.scan_csv(csv_file)\n",
    "    .select(\n",
    "        (pl.col(\"Age\").mean() - pl.col(\"Age\").std()).alias(\"minus_one_std\"),\n",
    "        pl.col(\"Age\").mean().alias(\"mean\"),\n",
    "        (pl.col(\"Age\").mean() + pl.col(\"Age\").std()).alias(\"minus_one_std\"),\n",
    "    )\n",
    "    .explain()\n",
    ")               "
   ]
  },
  {
   "cell_type": "markdown",
   "id": "8f17eac7-d985-4f2b-a532-9ad5863418db",
   "metadata": {},
   "source": [
    "This query plan has two blocks separated by `FROM`.\n",
    "\n",
    "Within the upper `SELECT` block we see the expressions are called with `__POLARS_CSER_X` where there is one code for the mean expression and one for the standard deviation expression. We can see that Polars has identified these as the same sub-expression across the three expressions in the `SELECT` block.\n",
    "\n",
    "Polars also implements other optimisations such as fast-path algorithms on sorted data (separate from the query optimiser).  We learn more about these later in the course."
   ]
  },
  {
   "cell_type": "markdown",
   "id": "2fab23df-8e50-41e4-994b-f9c9de70b41a",
   "metadata": {},
   "source": [
    "## Exercises\n",
    "\n",
    "In the exercises you will develop your understanding of:\n",
    "- creating a `LazyFrame` from a CSV file\n",
    "- getting metadata from a `LazyFrame`\n",
    "- printing the query plans\n",
    "\n",
    "### Exercise 1\n",
    "Create a `LazyFrame` by doing a scan of the Titanic CSV file"
   ]
  },
  {
   "cell_type": "code",
   "execution_count": 181,
   "id": "53f443c2-bd23-48c2-90c1-56b4010fc0af",
   "metadata": {
    "tags": []
   },
   "outputs": [],
   "source": [
    "df = pl.scan_csv(csv_file)"
   ]
  },
  {
   "cell_type": "markdown",
   "id": "82b195ef-214e-4c68-89bd-366ec840aa1d",
   "metadata": {},
   "source": [
    "Check to see which of the following metadata you can get from a `LazyFrame`:\n",
    "- number of rows\n",
    "- column names\n",
    "- schema"
   ]
  },
  {
   "cell_type": "code",
   "execution_count": null,
   "id": "6797ea0e-8d2d-45c1-bc3c-b89a20df4b56",
   "metadata": {},
   "outputs": [],
   "source": []
  },
  {
   "cell_type": "markdown",
   "id": "389a46f1-0b73-46e1-8b51-29302f9ad655",
   "metadata": {},
   "source": [
    "Create a lazy query where you scan the Titanic CSV file and then select the `Name` and `Age` columns."
   ]
  },
  {
   "cell_type": "code",
   "execution_count": 188,
   "id": "aa6b0b82-5808-4561-ba73-38d98292b86f",
   "metadata": {},
   "outputs": [
    {
     "data": {
      "text/html": [
       "<i>naive plan: (run <b>LazyFrame.explain(optimized=True)</b> to see the optimized plan)</i>\n",
       "    <p></p>\n",
       "    <div> SELECT [col(\"Name\"), col(\"Age\")] FROM<p></p>  Csv SCAN [../data/titanic.csv]<p></p>  PROJECT */12 COLUMNS</div>"
      ],
      "text/plain": [
       "<LazyFrame at 0x115861280>"
      ]
     },
     "execution_count": 188,
     "metadata": {},
     "output_type": "execute_result"
    }
   ],
   "source": [
    "(\n",
    "    pl.scan_csv(csv_file)\n",
    "    .select(\n",
    "        pl.col(\"Name\", \"Age\")\n",
    "    )\n",
    ")"
   ]
  },
  {
   "cell_type": "markdown",
   "id": "26391af4-3bc4-4802-8b35-7e523a3b3b6a",
   "metadata": {},
   "source": [
    "Print out the optimised query plan for this query"
   ]
  },
  {
   "cell_type": "code",
   "execution_count": null,
   "id": "f04bb043-a284-453f-b083-3e45e1b5a851",
   "metadata": {},
   "outputs": [],
   "source": []
  },
  {
   "cell_type": "markdown",
   "id": "305dbf31-92c2-469b-b35e-236282ff89c8",
   "metadata": {},
   "source": [
    "## Solutions\n",
    "\n",
    "### Solution to Exercise 1"
   ]
  },
  {
   "cell_type": "markdown",
   "id": "eb53581f-0127-40cb-a9c9-fe13979ddd07",
   "metadata": {},
   "source": [
    "Create a `LazyFrame` by doing a scan of the Titanic CSV file"
   ]
  },
  {
   "cell_type": "code",
   "execution_count": 189,
   "id": "7f59b064-909a-42bc-b43c-0a75d4ae165c",
   "metadata": {
    "jupyter": {
     "source_hidden": true
    },
    "tags": []
   },
   "outputs": [],
   "source": [
    "df = pl.scan_csv(csv_file)"
   ]
  },
  {
   "cell_type": "markdown",
   "id": "3ecc464d-e1df-4321-9959-410ce37efb12",
   "metadata": {},
   "source": [
    "A `LazyFrame` does not know the number of rows in a CSV"
   ]
  },
  {
   "cell_type": "code",
   "execution_count": 190,
   "id": "40d0ce15-2063-4b3f-996c-72a743dc8ed7",
   "metadata": {
    "jupyter": {
     "source_hidden": true
    },
    "tags": []
   },
   "outputs": [
    {
     "ename": "AttributeError",
     "evalue": "'LazyFrame' object has no attribute 'shape'",
     "output_type": "error",
     "traceback": [
      "\u001b[0;31m---------------------------------------------------------------------------\u001b[0m",
      "\u001b[0;31mAttributeError\u001b[0m                            Traceback (most recent call last)",
      "Cell \u001b[0;32mIn[190], line 1\u001b[0m\n\u001b[0;32m----> 1\u001b[0m \u001b[43mdf\u001b[49m\u001b[38;5;241;43m.\u001b[39;49m\u001b[43mshape\u001b[49m\n",
      "\u001b[0;31mAttributeError\u001b[0m: 'LazyFrame' object has no attribute 'shape'"
     ]
    }
   ],
   "source": [
    "df.shape"
   ]
  },
  {
   "cell_type": "markdown",
   "id": "89d52f99-509c-455c-9348-53dc56ef6ff0",
   "metadata": {},
   "source": [
    "A `LazyFrame` does know the column names. As we will see in the I/O section `Polars` scans the first row of the CSV file to get column names in `pl.scan_csv`"
   ]
  },
  {
   "cell_type": "code",
   "execution_count": 186,
   "id": "1b20cd34-2a75-49bd-88ae-2d950fb9e663",
   "metadata": {
    "jupyter": {
     "source_hidden": true
    },
    "tags": []
   },
   "outputs": [
    {
     "name": "stderr",
     "output_type": "stream",
     "text": [
      "/var/folders/vr/2tl2xwn1265_k2w0vf7jl6k40000gn/T/ipykernel_23558/3289350417.py:1: PerformanceWarning: Determining the column names of a LazyFrame requires resolving its schema, which is a potentially expensive operation. Use `LazyFrame.collect_schema().names()` to get the column names without this warning.\n",
      "  df.columns\n"
     ]
    },
    {
     "data": {
      "text/plain": [
       "['PassengerId',\n",
       " 'Survived',\n",
       " 'Pclass',\n",
       " 'Name',\n",
       " 'Sex',\n",
       " 'Age',\n",
       " 'SibSp',\n",
       " 'Parch',\n",
       " 'Ticket',\n",
       " 'Fare',\n",
       " 'Cabin',\n",
       " 'Embarked']"
      ]
     },
     "execution_count": 186,
     "metadata": {},
     "output_type": "execute_result"
    }
   ],
   "source": [
    "df.columns"
   ]
  },
  {
   "cell_type": "code",
   "execution_count": 187,
   "id": "f8f25fcd-124d-4ba6-bdc5-f037756caff0",
   "metadata": {
    "jupyter": {
     "source_hidden": true
    },
    "tags": []
   },
   "outputs": [
    {
     "name": "stderr",
     "output_type": "stream",
     "text": [
      "/var/folders/vr/2tl2xwn1265_k2w0vf7jl6k40000gn/T/ipykernel_23558/3182147272.py:1: PerformanceWarning: Resolving the schema of a LazyFrame is a potentially expensive operation. Use `LazyFrame.collect_schema()` to get the schema without this warning.\n",
      "  df.schema\n"
     ]
    },
    {
     "data": {
      "text/plain": [
       "Schema([('PassengerId', Int64),\n",
       "        ('Survived', Int64),\n",
       "        ('Pclass', Int64),\n",
       "        ('Name', String),\n",
       "        ('Sex', String),\n",
       "        ('Age', Float64),\n",
       "        ('SibSp', Int64),\n",
       "        ('Parch', Int64),\n",
       "        ('Ticket', String),\n",
       "        ('Fare', Float64),\n",
       "        ('Cabin', String),\n",
       "        ('Embarked', String)])"
      ]
     },
     "execution_count": 187,
     "metadata": {},
     "output_type": "execute_result"
    }
   ],
   "source": [
    "df.schema"
   ]
  },
  {
   "cell_type": "markdown",
   "id": "1aafe238-db5f-4118-8c82-05e39fa9a5e0",
   "metadata": {},
   "source": [
    "Create a lazy query where you scan the Titanic CSV file and then select the `Name` and `Age` columns."
   ]
  },
  {
   "cell_type": "code",
   "execution_count": 191,
   "id": "62d70777-d158-4744-a353-17587db4a35b",
   "metadata": {
    "jupyter": {
     "source_hidden": true
    }
   },
   "outputs": [
    {
     "data": {
      "text/html": [
       "<i>naive plan: (run <b>LazyFrame.explain(optimized=True)</b> to see the optimized plan)</i>\n",
       "    <p></p>\n",
       "    <div> SELECT [col(\"Name\"), col(\"Age\")] FROM<p></p>  Csv SCAN [../data/titanic.csv]<p></p>  PROJECT */12 COLUMNS</div>"
      ],
      "text/plain": [
       "<LazyFrame at 0x115863050>"
      ]
     },
     "execution_count": 191,
     "metadata": {},
     "output_type": "execute_result"
    }
   ],
   "source": [
    "(\n",
    "    pl.scan_csv(csv_file)\n",
    "    .select(\"Name\",\"Age\")\n",
    ")   "
   ]
  },
  {
   "cell_type": "markdown",
   "id": "f136bee3-875b-45aa-9a7b-b8d8aeb213a6",
   "metadata": {},
   "source": [
    "Print out the optimised query plan for this query"
   ]
  },
  {
   "cell_type": "code",
   "execution_count": 192,
   "id": "cfbb5fe4-0336-457a-81fd-e0b6eecad86b",
   "metadata": {
    "jupyter": {
     "source_hidden": true
    }
   },
   "outputs": [
    {
     "name": "stdout",
     "output_type": "stream",
     "text": [
      "Csv SCAN [../data/titanic.csv]\n",
      "PROJECT 2/12 COLUMNS\n"
     ]
    }
   ],
   "source": [
    "print(\n",
    "    pl.scan_csv(csv_file)\n",
    "    .select(\"Name\",\"Age\")\n",
    "    .explain()\n",
    ")   "
   ]
  }
 ],
 "metadata": {
  "kernelspec": {
   "display_name": "venv",
   "language": "python",
   "name": "python3"
  },
  "language_info": {
   "codemirror_mode": {
    "name": "ipython",
    "version": 3
   },
   "file_extension": ".py",
   "mimetype": "text/x-python",
   "name": "python",
   "nbconvert_exporter": "python",
   "pygments_lexer": "ipython3",
   "version": "3.12.7"
  }
 },
 "nbformat": 4,
 "nbformat_minor": 5
}
