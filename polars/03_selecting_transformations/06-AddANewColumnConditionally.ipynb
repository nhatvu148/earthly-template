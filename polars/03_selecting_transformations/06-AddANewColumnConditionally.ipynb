{
 "cells": [
  {
   "cell_type": "markdown",
   "id": "55f2b433-7df5-4877-aadb-c5a089645d88",
   "metadata": {},
   "source": [
    "## Selecting columns 6: Adding a new column based on a mapping or condition\n",
    "In this lecture we learn how to:\n",
    "- add a new column with a dict mapping from an existing column\n",
    "- add a new column with an `if-else` condition using `pl.when`\n",
    "- add a new column with a condition on multiple columns\n",
    "- add a new column with multiple `if-elif` conditions"
   ]
  },
  {
   "cell_type": "code",
   "execution_count": null,
   "id": "4caa50b5-4448-4722-92f9-faa718e3db6c",
   "metadata": {
    "tags": []
   },
   "outputs": [],
   "source": [
    "import polars as pl"
   ]
  },
  {
   "cell_type": "code",
   "execution_count": null,
   "id": "c14406ef-16b4-4e86-bd86-ef6efc93ddd3",
   "metadata": {
    "tags": []
   },
   "outputs": [],
   "source": [
    "csv_file = \"../data/titanic.csv\""
   ]
  },
  {
   "cell_type": "code",
   "execution_count": null,
   "id": "a3a85d75-a64c-4108-add6-072a4e2da172",
   "metadata": {
    "tags": []
   },
   "outputs": [],
   "source": [
    "df = pl.read_csv(csv_file)\n",
    "df.head(3)"
   ]
  },
  {
   "cell_type": "markdown",
   "id": "2bd55d74-732e-4adf-af0f-7daf342846b6",
   "metadata": {},
   "source": [
    "## Add a new column based on a mapping from another column\n",
    "We can add a new column based on a Python `dict` that maps values in an existing column to a new value with the `replace` expression"
   ]
  },
  {
   "cell_type": "code",
   "execution_count": null,
   "id": "e6e52d08-a4e6-4c97-99f3-4e01beab679d",
   "metadata": {},
   "outputs": [],
   "source": [
    "(\n",
    "    df\n",
    "    .with_columns(\n",
    "        embarked_full = pl.col(\"Embarked\").replace(\n",
    "            {\n",
    "                \"S\":\"Southampton\",\n",
    "                \"C\":\"Cherbourg\"\n",
    "            },\n",
    "        )\n",
    "    )\n",
    "    .select('Embarked','embarked_full')\n",
    "    .head(2)\n",
    ")"
   ]
  },
  {
   "cell_type": "markdown",
   "id": "63fd92de-6534-47e8-ab5e-8ee36a55b714",
   "metadata": {},
   "source": [
    "If we want to return a column with a different dtype to the input column we use `replace_strict` and specify the `return_dtype`. In this example we map the (integer) class number to a (string) class name"
   ]
  },
  {
   "cell_type": "code",
   "execution_count": null,
   "id": "21f0cab1-7fe0-4789-805a-d89de84990b9",
   "metadata": {
    "tags": []
   },
   "outputs": [],
   "source": [
    "(\n",
    "    df\n",
    "    .with_columns(\n",
    "            class_name = pl.col(\"Pclass\").replace_strict(\n",
    "            {\n",
    "                1:'first',\n",
    "                2:'second',\n",
    "                3:'third'\n",
    "            },\n",
    "            return_dtype=pl.String\n",
    "        )\n",
    "    )\n",
    "    .select('Pclass','class_name')\n",
    "    .head(2)\n",
    ")"
   ]
  },
  {
   "cell_type": "code",
   "execution_count": null,
   "id": "3b6331f4-0ca7-4e33-b102-4ff0a8220a4e",
   "metadata": {},
   "outputs": [],
   "source": [
    "(\n",
    "    df\n",
    "    .with_columns(\n",
    "        class_name = pl.col(\"Pclass\").replace_strict(\n",
    "            {\n",
    "                1:'first',\n",
    "                2:'second',\n",
    "                3:'third'\n",
    "            },\n",
    "            return_dtype=pl.String\n",
    "        )\n",
    "    )\n",
    "    .select('Pclass','class_name')\n",
    "    .head(2)\n",
    ")"
   ]
  },
  {
   "cell_type": "markdown",
   "id": "a2ad0342-6c51-4abb-86de-7f7ca1f9eb7c",
   "metadata": {},
   "source": [
    "We can think of `replace` as a left join (see the section on combining `DataFrames` if you are not familiar with joins) and in fact Polars implements this as a join by converting the mapping dictionary to a `DataFrame` under-the-hood."
   ]
  },
  {
   "cell_type": "markdown",
   "id": "704bfc0c-cfac-4844-9b8b-511bc60a58a9",
   "metadata": {},
   "source": [
    "## Add a new column based on a condition on another column\n",
    "\n",
    "We use the `pl.when.then.otherwise` to define a new column based on a condition on one or more other columns.\n",
    "\n",
    "We want to add a new binary column called `first_class` based on the `Pclass` column where the value is `1` for first class passengers and `0` for second and third class passengers:\n",
    "\n",
    "`first_class = 1 if Pclass == 1`,`otherwise = 0`\n"
   ]
  },
  {
   "cell_type": "code",
   "execution_count": null,
   "id": "eca0f119-1607-40eb-b985-865cdbaea26b",
   "metadata": {
    "tags": []
   },
   "outputs": [],
   "source": [
    "(\n",
    "    df\n",
    "    .select(\n",
    "        \"Pclass\",\n",
    "        pl.when(\n",
    "             pl.col(\"Pclass\") == 1\n",
    "        )\n",
    "        .then(1)\n",
    "        .otherwise(0)\n",
    "        .alias(\"first_class\")\n",
    "    )\n",
    "    .select(\"Pclass\",\"first_class\")\n",
    "    .head(2)\n",
    ")"
   ]
  },
  {
   "cell_type": "markdown",
   "id": "cdc0f25b-7a5b-41c2-9578-fcaa640bdbd3",
   "metadata": {},
   "source": [
    "## Syntax of `pl.when`\n",
    "\n",
    "The syntax is:\n",
    "```python\n",
    "\n",
    "    pl.when(**predicate**)\n",
    "    .then(**Value if True**)\n",
    "    .otherwise(**Value if False)\n",
    "    .alias(**New Column Name**)\n",
    "```\n",
    "so we pass:\n",
    "- a predicate expression (e.g. `pl.col(\"Pclass\") == 1`) to `pl.when`\n",
    "- an expression to show the value if True to `.then`\n",
    "- an expression to show the value otherwise to `.otherwise`\n",
    "- a name for the output to `alias`. If we don't pass `alias` the output is named after the first expression in the predicate\n",
    "\n",
    "Note: if the value passed to `then` or `otherwise` is a string Polars interprets it as a column name. To pass a string as a value it must be passed as a Polars literal as seen in the following example"
   ]
  },
  {
   "cell_type": "code",
   "execution_count": null,
   "id": "687c94e1-2de1-4246-be79-fb8ad2f5e761",
   "metadata": {},
   "outputs": [],
   "source": [
    "(\n",
    "    df\n",
    "    .select(\n",
    "        \"Pclass\",\n",
    "        pl.when(\n",
    "             pl.col(\"Pclass\") == 1\n",
    "        )\n",
    "        .then(pl.lit(\"first\"))\n",
    "        .otherwise(pl.lit(\"not_first\"))\n",
    "        .alias(\"first_class\")\n",
    "    )\n",
    "    .select(\"Pclass\",\"first_class\")\n",
    "    .head(2)\n",
    ")"
   ]
  },
  {
   "cell_type": "markdown",
   "id": "e627bee4-7fe1-4ae6-87b8-42ab604399c2",
   "metadata": {},
   "source": [
    "In this example the string in `then` is interpreted as a column name - though more generally we can pass expressions inside `then` and `otherwise`"
   ]
  },
  {
   "cell_type": "code",
   "execution_count": null,
   "id": "84068372-0ce3-4638-9136-4eafca5b4b0d",
   "metadata": {},
   "outputs": [],
   "source": [
    "(\n",
    "    df\n",
    "    .select(\n",
    "        \"Pclass\",\n",
    "        pl.when(\n",
    "             pl.col(\"Pclass\") == 1\n",
    "        )\n",
    "        .then(\"Fare\")\n",
    "        .otherwise(\n",
    "            pl.col(\"Fare\").min()\n",
    "        )\n",
    "        .alias(\"fare_approximation\")\n",
    "    )\n",
    "    .select(\"Pclass\",\"fare_approximation\")\n",
    "    .head(2)\n",
    ")"
   ]
  },
  {
   "cell_type": "markdown",
   "id": "630fd0bb-dcbc-4341-b4a6-e61f5a3d22cd",
   "metadata": {},
   "source": [
    "## Add a new column based on a condition on multiple other columns\n",
    "\n",
    "We can base conditions on multiple other columns. Here we want to add a new binary column called `young_first_class` where first class passengers with age under 30 are `1` and all other passengers are 0. \n",
    "\n",
    "`young_first_class = 1 if (Pclass == 1 and Age < 30) otherwise = 0`\n",
    "\n",
    "\n",
    "We need an `AND` condition to combine the two filter conditions. We can do this by passing the predicates as a comma-separated list to `pl.when`"
   ]
  },
  {
   "cell_type": "code",
   "execution_count": null,
   "id": "e8f7ab8b-5eba-4e5b-b89a-de807b3b24b8",
   "metadata": {
    "tags": []
   },
   "outputs": [],
   "source": [
    "(\n",
    "    df\n",
    "    .select(\n",
    "        pl.col(\"Pclass\"),\n",
    "        pl.col(\"Age\"),\n",
    "        pl.when(\n",
    "            pl.col(\"Pclass\") == 1,\n",
    "            pl.col(\"Age\") < 30\n",
    "        )\n",
    "        .then(1)\n",
    "        .otherwise(0)\n",
    "        .alias(\"young_first_class\")\n",
    "    )\n",
    "    .tail(5)\n",
    ")"
   ]
  },
  {
   "cell_type": "markdown",
   "id": "b8b97544-d872-4310-b84a-58adcc6d1a4b",
   "metadata": {},
   "source": [
    "## Add a new column based on an `if-elif-else` condition\n",
    "We are not limited to a single `if-else` condition. \n",
    "\n",
    "For example we want to create 3 categories with:\n",
    "- `1` for young first class passengers \n",
    "- `2` for older first class passengers and \n",
    "- `0` for all other passengers\n",
    "\n",
    "`age_class == 1 if (Pclass == 1 and Age < 30) or\n",
    "age_class == 2 if (Pclass == 1 and Age > 30) or\n",
    "otherwise 0`\n",
    "\n",
    "We do this by repeating the `.when.then` cycle for each sub-condition.\n",
    "\n",
    "The syntax here for a single extra condition is:\n",
    "```python\n",
    "\n",
    "    pl.when(**Boolean Expression**)\n",
    "    .then(**Value if True**)\n",
    "    .when(**Boolean Expression**)\n",
    "    .then(**Value if True**)\n",
    "    .otherwise(**Value if False)\n",
    "    .alias(**New Column Name**)\n",
    "    \n",
    "```\n"
   ]
  },
  {
   "cell_type": "code",
   "execution_count": null,
   "id": "4e0b6923-d61a-446f-a2e8-77f1d21196c5",
   "metadata": {
    "tags": []
   },
   "outputs": [],
   "source": [
    "(\n",
    "    df\n",
    "    .select(\n",
    "        pl.col(\"Pclass\"),\n",
    "        pl.col(\"Age\"),\n",
    "        pl.when(\n",
    "            pl.col(\"Pclass\") == 1,\n",
    "            pl.col(\"Age\")<30\n",
    "        )\n",
    "        .then(1)\n",
    "        .when(\n",
    "            pl.col(\"Pclass\") == 1,\n",
    "            pl.col(\"Age\")>=30\n",
    "        )\n",
    "        .then(2)\n",
    "        .otherwise(0)\n",
    "        .alias(\"age_class\")\n",
    "    )\n",
    "    .head(5)\n",
    ")"
   ]
  },
  {
   "cell_type": "markdown",
   "id": "baadc0cb-c151-4fa1-9ada-25b587471046",
   "metadata": {},
   "source": [
    "The cycles of `.when.then` can be repeated indefinitely."
   ]
  },
  {
   "cell_type": "markdown",
   "id": "faf01d53-8149-44eb-9d60-0de99781ed6e",
   "metadata": {},
   "source": [
    "## Exercises\n",
    "\n",
    "In the exercises you will develop your understanding of:\n",
    "- adding a column based on a mapping of another column\n",
    "- adding a binary column based on a condition on multiple columns\n",
    "- adding a column based on a nested `if-elif` condition on another column\n",
    "\n",
    "### Exercise 1 \n",
    "Create a binary column for whether a passenger is female or male.\n",
    "\n",
    "Add a column called `is_female` that maps rows with a female passenger to 1 and rows with a male passenger to 0. Ensure the column has an integer dtype"
   ]
  },
  {
   "cell_type": "code",
   "execution_count": null,
   "id": "4f5e0508-3fc5-46d3-ab16-111c1b19e68b",
   "metadata": {
    "tags": []
   },
   "outputs": [],
   "source": [
    "(\n",
    "    pl.read_csv(csv_file)\n",
    "    .select(['Sex',<blank>])\n",
    "    .head()\n",
    ")"
   ]
  },
  {
   "cell_type": "markdown",
   "id": "c96fb3d6-e279-4f4d-ae2d-aab0c537378a",
   "metadata": {},
   "source": [
    "### Exercise 2 \n",
    "Create a binary column called `young_female_first_class` for whether a passenger is:\n",
    "- female\n",
    "- in first class and\n",
    "- under 30"
   ]
  },
  {
   "cell_type": "code",
   "execution_count": null,
   "id": "1d5c1c53-ff92-413c-84e5-5698bafe8bbc",
   "metadata": {
    "tags": []
   },
   "outputs": [],
   "source": [
    "(\n",
    "    pl.read_csv(csv_file)\n",
    "    <blank>\n",
    "    .head()\n",
    ")"
   ]
  },
  {
   "cell_type": "markdown",
   "id": "53df78ae-b800-4ce1-8872-9ffe3b9f3257",
   "metadata": {},
   "source": [
    "### Exercise 3 \n",
    "Create a column called `embarked_categories` where\n",
    "- female and embarked in Southampton then has value \"FS\"\n",
    "- female and did not embark in Southampton then has value \"NFS\"\n",
    "- male and embarked in Southampton then has value \"MS\"\n",
    "- male and did not embark in Southampton then has value \"NMS\""
   ]
  },
  {
   "cell_type": "code",
   "execution_count": null,
   "id": "b5a722f8-81d7-4ae7-9f1a-1b2ded17513b",
   "metadata": {
    "tags": []
   },
   "outputs": [],
   "source": [
    "(\n",
    "    pl.read_csv(csv_file)\n",
    "    .select(\n",
    "            \"Sex\",\n",
    "            \"Embarked\",\n",
    "            <blank>\n",
    "    )\n",
    ")\n"
   ]
  },
  {
   "cell_type": "markdown",
   "id": "24d44129-b261-485e-a51e-0285fe46c0b3",
   "metadata": {},
   "source": [
    "## Solutions\n",
    "\n",
    "### Solution to Exercise 1 \n",
    "\n",
    "Add a column called `is_female` that maps rows with a female passenger to 1 and rows with a male passenger to 0. Ensure the column has an integer dtype"
   ]
  },
  {
   "cell_type": "code",
   "execution_count": null,
   "id": "4e6db5f7-767b-40de-bd9c-f939c17c08b4",
   "metadata": {
    "jupyter": {
     "source_hidden": true
    },
    "tags": []
   },
   "outputs": [],
   "source": [
    "(\n",
    "    pl.read_csv(csv_file)\n",
    "    .select(\n",
    "        'Sex',\n",
    "        pl.col(\"Sex\").replace_strict({\"female\":1,\"male\":0},return_dtype=pl.Int64).alias(\"is_female\")\n",
    "    )\n",
    "    .head()\n",
    ")"
   ]
  },
  {
   "cell_type": "markdown",
   "id": "59795145-d5d5-4d78-9700-b536fa0ab5c5",
   "metadata": {},
   "source": [
    "### Solution to Exercise 2 \n",
    "Create a binary column called `young_female_first_class` for whether a passenger is:\n",
    "- female\n",
    "- in first class and\n",
    "- under 30"
   ]
  },
  {
   "cell_type": "code",
   "execution_count": null,
   "id": "4121e6ba-2e87-47e1-b6b2-104b30c19ae8",
   "metadata": {
    "jupyter": {
     "source_hidden": true
    },
    "tags": []
   },
   "outputs": [],
   "source": [
    "(\n",
    "    pl.read_csv(csv_file)\n",
    "    .select(\n",
    "        \"Pclass\",\n",
    "        \"Sex\",\n",
    "        \"Age\",\n",
    "        pl.when(\n",
    "            pl.col(\"Sex\")==\"female\",\n",
    "            pl.col(\"Pclass\")==1,\n",
    "            pl.col(\"Age\") <30\n",
    "        )\n",
    "        .then(1)\n",
    "        .otherwise(0)\n",
    "        .alias(\"young_female_first_class\")\n",
    "    )\n",
    "    .filter(\n",
    "        pl.col(\"young_female_first_class\")==1\n",
    "    )\n",
    "    .head()\n",
    ")"
   ]
  },
  {
   "cell_type": "markdown",
   "id": "d11af8c6-45c8-4dd5-8114-70e3b26177cf",
   "metadata": {},
   "source": [
    "### Solution to Exercise 3 \n",
    "\n",
    "Create a column called `embarked_categories` where\n",
    "- female and embarked in Southampton then has value \"FS\"\n",
    "- female and did not embark in Southampton then has value \"NFS\"\n",
    "- male and embarked in Southampton then has value \"MS\"\n",
    "- male and did not embark in Southampton then has value \"NMS\""
   ]
  },
  {
   "cell_type": "code",
   "execution_count": null,
   "id": "05d5f278-9c5a-4af0-b7ee-0c0d058a4d92",
   "metadata": {
    "jupyter": {
     "source_hidden": true
    },
    "tags": []
   },
   "outputs": [],
   "source": [
    "(\n",
    "    pl.read_csv(csv_file)\n",
    "    .select(\n",
    "            \"Sex\",\n",
    "            \"Embarked\",\n",
    "            pl.when(\n",
    "                pl.col(\"Sex\")==\"female\",\n",
    "                pl.col(\"Embarked\") == \"S\"\n",
    "            )\n",
    "            .then(pl.lit(\"FS\"))\n",
    "            .when(\n",
    "                pl.col(\"Sex\")==\"female\",\n",
    "                pl.col(\"Embarked\") != \"S\"\n",
    "            )\n",
    "            .then(pl.lit(\"NFS\"))\n",
    "            .when(\n",
    "                pl.col(\"Sex\")==\"male\",\n",
    "                pl.col(\"Embarked\") == \"S\"\n",
    "            )\n",
    "            .then(pl.lit(\"MS\"))\n",
    "            .when(\n",
    "                pl.col(\"Sex\")==\"male\",\n",
    "                pl.col(\"Embarked\") != \"S\"\n",
    "            )\n",
    "            .then(pl.lit(\"NMS\"))\n",
    "            .otherwise(pl.lit('O'))\n",
    "            .alias(\"embarked_categories\")\n",
    "    )\n",
    "    .head()\n",
    ")"
   ]
  }
 ],
 "metadata": {
  "kernelspec": {
   "display_name": "Python 3 (ipykernel)",
   "language": "python",
   "name": "python3"
  },
  "language_info": {
   "codemirror_mode": {
    "name": "ipython",
    "version": 3
   },
   "file_extension": ".py",
   "mimetype": "text/x-python",
   "name": "python",
   "nbconvert_exporter": "python",
   "pygments_lexer": "ipython3",
   "version": "3.10.1"
  }
 },
 "nbformat": 4,
 "nbformat_minor": 5
}
